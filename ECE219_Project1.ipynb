{
  "nbformat": 4,
  "nbformat_minor": 0,
  "metadata": {
    "colab": {
      "name": "ECE219_Project1.ipynb",
      "version": "0.3.2",
      "provenance": [],
      "collapsed_sections": [],
      "include_colab_link": true
    },
    "kernelspec": {
      "name": "python3",
      "display_name": "Python 3"
    }
  },
  "cells": [
    {
      "cell_type": "markdown",
      "metadata": {
        "id": "view-in-github",
        "colab_type": "text"
      },
      "source": [
        "<a href=\"https://colab.research.google.com/github/lumi-huang/ECE-219-2019-winter/blob/master/ECE219_Project1.ipynb\" target=\"_parent\"><img src=\"https://colab.research.google.com/assets/colab-badge.svg\" alt=\"Open In Colab\"/></a>"
      ]
    },
    {
      "metadata": {
        "id": "UYd72W-9NhFP",
        "colab_type": "text"
      },
      "cell_type": "markdown",
      "source": [
        "# Project 1: Classification Analysis on Textual Data"
      ]
    },
    {
      "metadata": {
        "id": "DuPxsazLmCrM",
        "colab_type": "text"
      },
      "cell_type": "markdown",
      "source": [
        "*Lumi Huang, Christian Warloe, Ke Zhao, Landi Luo*"
      ]
    },
    {
      "metadata": {
        "id": "gCtLVv6kivGJ",
        "colab_type": "text"
      },
      "cell_type": "markdown",
      "source": [
        "## Introduction\n",
        "\n",
        "---\n"
      ]
    },
    {
      "metadata": {
        "id": "qxlJ-L6gjIJ2",
        "colab_type": "text"
      },
      "cell_type": "markdown",
      "source": [
        "Classification is a data mining technique that groups data into categories to aid in more accurate prediction and analysis. Classification refers to the problem of identifying which category a new observation belongs to, given a training set of data containing observations with known category membership. This project focuses on different methods for classifying textual data, including constructing a tf-idf matrix representation, dimensionality reduction techniques, and various classifiers such as linear SVMs and naive Bayes classifiers. \n"
      ]
    },
    {
      "metadata": {
        "id": "OavCj3esYFXJ",
        "colab_type": "text"
      },
      "cell_type": "markdown",
      "source": [
        "## Getting familiar with the dataset\n",
        "\n",
        "---\n",
        "\n"
      ]
    },
    {
      "metadata": {
        "id": "PBCGudszsZxp",
        "colab_type": "text"
      },
      "cell_type": "markdown",
      "source": [
        "The dataset used for this project is the \"20 Newsgroups\" dataset, which consists of a collection of approximately 20,000 newsgroup documents partitioned (nearly) evenly across 20 topics. The dataset is split into two subsets: one for training (or development) and the other for testing (or for performance evaluation). "
      ]
    },
    {
      "metadata": {
        "id": "CjCg2r_w2EB2",
        "colab_type": "text"
      },
      "cell_type": "markdown",
      "source": [
        "<center>**Dataset Characteristics**</center>  \n",
        "\n",
        "| | | \n",
        "|-|-|\n",
        "| Classes        | 20    |\n",
        "| Samples Total  | 18846 |\n",
        "| Dimensionality | 1     |\n",
        "| Features       | text  |"
      ]
    },
    {
      "metadata": {
        "id": "JACxULNj4vJh",
        "colab_type": "text"
      },
      "cell_type": "markdown",
      "source": [
        "We used the built-in dataset loader `fetch_20newsgroups` from `scikit-learn` to load the dataset. The [`sklearn.datasets.fetch_20newsgroups`](https://scikit-learn.org/stable/modules/generated/sklearn.datasets.fetch_20newsgroups.html#sklearn.datasets.fetch_20newsgroups) function is a data fetching / caching function that downloads the data archive from the original [20 newsgroups website](http://qwone.com/~jason/20Newsgroups/), extracts the archive contents in the `~/scikit_learn_data/20news_home` folder and calls the `sklearn.datasets.load_files` on either the training or testing set folder, or both of them. "
      ]
    },
    {
      "metadata": {
        "id": "WsEmXfFvWk2h",
        "colab_type": "code",
        "outputId": "118a2dfe-345c-418e-ff74-d7edbc133c8c",
        "colab": {
          "base_uri": "https://localhost:8080/",
          "height": 51
        }
      },
      "cell_type": "code",
      "source": [
        "from sklearn.datasets import fetch_20newsgroups\n",
        "newsgroups_train = fetch_20newsgroups(subset='train')"
      ],
      "execution_count": 0,
      "outputs": [
        {
          "output_type": "stream",
          "text": [
            "Downloading 20news dataset. This may take a few minutes.\n",
            "Downloading dataset from https://ndownloader.figshare.com/files/5975967 (14 MB)\n"
          ],
          "name": "stderr"
        }
      ]
    },
    {
      "metadata": {
        "id": "MAwyovc1Y6h-",
        "colab_type": "code",
        "colab": {}
      },
      "cell_type": "code",
      "source": [
        "import matplotlib.pyplot as plt\n",
        "import numpy as np"
      ],
      "execution_count": 0,
      "outputs": []
    },
    {
      "metadata": {
        "id": "xyL6j3ahBl1N",
        "colab_type": "code",
        "outputId": "48675698-67cc-4dd7-9f31-df12f8936f78",
        "colab": {
          "base_uri": "https://localhost:8080/",
          "height": 34
        }
      },
      "cell_type": "code",
      "source": [
        "print(newsgroups_train.keys())"
      ],
      "execution_count": 0,
      "outputs": [
        {
          "output_type": "stream",
          "text": [
            "dict_keys(['data', 'filenames', 'target_names', 'target', 'DESCR'])\n"
          ],
          "name": "stdout"
        }
      ]
    },
    {
      "metadata": {
        "id": "siO7iEn952aH",
        "colab_type": "text"
      },
      "cell_type": "markdown",
      "source": [
        "### Question 1: Histogram of the Data\n",
        "\n",
        "We first plotted a histogram of the data to check for imbalances in the number of documents for each of the 20 newsgroup categories in the training dataset. If the data show an imbalance, we would need to properly account for that using methods like modifying the penalty function (assigning more weight to errors from smaller category sizes), or down-sampling the larger sized classes.  \n",
        "As seen in the histogram below, the data appear to be approximately balanced; although we can see that categories like `talk.religion.misc`, `talk.politics.misc`, and `alt.atheism` have relatively smaller sizes compared to the rest, we will not be working with these categories in our later analyses. Thus, we may proceed with the classification. "
      ]
    },
    {
      "metadata": {
        "id": "gViYB7Z89ZHD",
        "colab_type": "code",
        "outputId": "a6637286-b95e-43c7-f8d3-0030bd684024",
        "colab": {
          "base_uri": "https://localhost:8080/",
          "height": 376
        }
      },
      "cell_type": "code",
      "source": [
        "category = list(newsgroups_train.target_names)\n",
        "count = np.zeros(20, dtype=np.int64)\n",
        "for i in newsgroups_train.target:\n",
        "  count[i] += 1\n",
        "\n",
        "plt.barh(category, count)\n",
        "plt.xlabel('Number of Documents')\n",
        "plt.ylabel('Category')\n",
        "\n",
        "plt.title('Number of Documents per Category')\n",
        "plt.show()"
      ],
      "execution_count": 0,
      "outputs": [
        {
          "output_type": "display_data",
          "data": {
            "image/png": "[encoded data removed]",
            "text/plain": [
              "<Figure size 576x396 with 1 Axes>"
            ]
          },
          "metadata": {
            "tags": []
          }
        }
      ]
    },
    {
      "metadata": {
        "id": "lVLsLjsfaUIp",
        "colab_type": "text"
      },
      "cell_type": "markdown",
      "source": [
        "## Binary Classification\n",
        "\n",
        "---\n",
        "\n",
        "\n"
      ]
    },
    {
      "metadata": {
        "id": "btU4oJwQ8i7F",
        "colab_type": "text"
      },
      "cell_type": "markdown",
      "source": [
        "We set the random seed to 42 to ensure consistency in the results. "
      ]
    },
    {
      "metadata": {
        "id": "Et7eNMB4aPtx",
        "colab_type": "code",
        "colab": {}
      },
      "cell_type": "code",
      "source": [
        "np.random.seed(42)\n",
        "import random\n",
        "random.seed(42)"
      ],
      "execution_count": 0,
      "outputs": []
    },
    {
      "metadata": {
        "id": "kgTvkG1D8RTV",
        "colab_type": "text"
      },
      "cell_type": "markdown",
      "source": [
        "We first performed binary classification on two well separated topics in the dataset: \"Computed Technology\" and \"Recreational Activity.\" To train a classifier, we took all the documents in the following classes (Table 1):   "
      ]
    },
    {
      "metadata": {
        "id": "1PeSL3rA_b7F",
        "colab_type": "text"
      },
      "cell_type": "markdown",
      "source": [
        "<center>**Table 1**:  Two well-separated classes</center>\n",
        "\n",
        "| Computer Technology      | Recreational Activity |\n",
        "|--------------------------|-----------------------|\n",
        "| `comp.graphics`            | `rec.autos`             |\n",
        "| `comp.os.ms-windows.misc`  | `rec.motorcycles`       |\n",
        "| `comp.sys.ibm.pc.hardware` | `rec.sport.baseball`    |\n",
        "| `comp.sys.mac.hardware`    | `rec.sport.hockey`      |\n"
      ]
    },
    {
      "metadata": {
        "id": "DLWHyxRMadwa",
        "colab_type": "code",
        "colab": {}
      },
      "cell_type": "code",
      "source": [
        "categories = ['comp.graphics', 'comp.os.ms-windows.misc',\n",
        "              'comp.sys.ibm.pc.hardware', 'comp.sys.mac.hardware',\n",
        "              'rec.autos', 'rec.motorcycles',\n",
        "              'rec.sport.baseball', 'rec.sport.hockey']\n",
        "train_dataset = fetch_20newsgroups(subset = 'train', categories = categories, \n",
        "                                   shuffle = True, random_state = 42)\n",
        "test_dataset = fetch_20newsgroups(subset = 'test', categories = categories, \n",
        "                                  shuffle = True, random_state = 42)"
      ],
      "execution_count": 0,
      "outputs": []
    },
    {
      "metadata": {
        "id": "N6RrC_1UayQv",
        "colab_type": "text"
      },
      "cell_type": "markdown",
      "source": [
        "### Feature Extraction"
      ]
    },
    {
      "metadata": {
        "id": "r10XrEsl81fj",
        "colab_type": "text"
      },
      "cell_type": "markdown",
      "source": [
        "In order to perform classification (as well as other machine learning tasks) on textual data, we first need to transform the text content into numerical feature vectors that can be interpreted by a machine. The \"Bag of Words\" model is a common and intuitive way of representing text data. The model stores all present words in an unordered list. This means that the original syntax of the document will be lost, but instead we will gain flexibility in working with each word in the list.  \n",
        "The document-term matrix is a basic representation of our group of documents (corpus) that consists of rows of words and columns of documents. Each matrix value consists of the weight for a specific term in a specific document. The calculation of the words can vary; for example, one method is to represent the number of times a word is present in the document. The advantage of having the corpus represented as a matrix is that we can perform computational calculations on it using linear algebra.  \n",
        "\n",
        "**Document-Term Matrix**  \n",
        "\n",
        "$\\begin{pmatrix}tf(d_1, t_1) & \\cdots & tf(d_1, t_m) \\\\ tf(d_2, t_1) & \\cdots & tf(d_2, t_m) \\\\ \\vdots & \\vdots & \\vdots \\\\ tf(d_n, t_1) & \\cdots & tf(d_n, t_m) \\end{pmatrix}$\n",
        "\n",
        "$tf(d, t)$: term frequency of term $t$ in the document $d$, i.e. the number of occurrances of term $t$ in the document $d$.\n",
        "\n",
        "\n",
        "The class `CountVectorizer` can help us to convert a collection of text documents to a document-term matrix, as well as perform some initial filtering on the terms to reduce the feature vector size. The `min_df` and `max_df` functions ignore terms that appear too frequently or are too rare, since such terms often carry less significant meaning in classifying a document. Stop words are words like “and”, “the”, and “him”, which are presumed to be uninformative in representing the content of a text, and which may be removed to avoid them being construed as signal for prediction. The `stop_words='english'` function uses a built-in list of english stop words.  \n",
        "\n",
        "Especially in a large text corpus, some terms that carry very little meaningful information about the actual contents of the document will appear very frequently. If we were to feed the direct count data directly to a classifier, those very frequent terms would shadow the frequencies of rarer yet more interesting terms. The TF-IDF (\"Term Frequency-Inverse Document Frequency\") metric is a normalized statistic that is used to characterize how important a word is to a document in a corpus. We define the TF-IDF score to be: \n",
        "$$TF\\times IDF(d,t)=tf(d,t)\\times idf(t)$$\n",
        "where $tf(t, d)$ represents the frequency of term $t$ in document $d$, and the inverse document frequency is defined as: \n",
        "$$idf(t)=\\log(\\frac{n}{df(t)})+1$$\n",
        "where $n$ is the total number of documents and $df(d, t)$ is the document frequency (the number of documents that contain term $t$).\n",
        "\n"
      ]
    },
    {
      "metadata": {
        "id": "tFag6BOzCZvm",
        "colab_type": "text"
      },
      "cell_type": "markdown",
      "source": [
        "### Question 2: Feature Extraction"
      ]
    },
    {
      "metadata": {
        "id": "oPgUyqMYCU8y",
        "colab_type": "text"
      },
      "cell_type": "markdown",
      "source": [
        "We preprocessed the textual data to extract features by performing the following tasks:  \n",
        "- Tokenize each document by words\n",
        "- Remove the `english` stopwords of the `CountVectorizer` and ignore terms that have a document frequency strictly lower than 3 (set `min_df=3`)\n",
        "- Exclude terms that are numbers \n",
        "- Perform lemmatization and stemming \n",
        "- Transform data into TF-IDF representation  \n",
        "\n",
        "The final shape of the TF-IDF matrix for the training subset is $4732 \\times 16319$, and the shape of the TF-IDF matrix for the testing subset is $3150 \\times 16319$. The shape of the TF-IDF matrices are reported as $d \\times t$ where $d$ is the number of documents and $t$ is the number of terms."
      ]
    },
    {
      "metadata": {
        "id": "lW8XoSVT9KCO",
        "colab_type": "code",
        "outputId": "e95cc873-3525-4ec9-8807-8c7fb4a622d7",
        "colab": {
          "base_uri": "https://localhost:8080/",
          "height": 153
        }
      },
      "cell_type": "code",
      "source": [
        "from sklearn.feature_extraction.text import CountVectorizer\n",
        "from sklearn.feature_extraction import text\n",
        "from nltk import pos_tag\n",
        "from nltk.stem.wordnet import WordNetLemmatizer\n",
        "import nltk\n",
        "nltk.download('punkt')\n",
        "nltk.download('averaged_perceptron_tagger')\n",
        "nltk.download('wordnet')"
      ],
      "execution_count": 0,
      "outputs": [
        {
          "output_type": "stream",
          "text": [
            "[nltk_data] Downloading package punkt to /root/nltk_data...\n",
            "[nltk_data]   Unzipping tokenizers/punkt.zip.\n",
            "[nltk_data] Downloading package averaged_perceptron_tagger to\n",
            "[nltk_data]     /root/nltk_data...\n",
            "[nltk_data]   Unzipping taggers/averaged_perceptron_tagger.zip.\n",
            "[nltk_data] Downloading package wordnet to /root/nltk_data...\n",
            "[nltk_data]   Unzipping corpora/wordnet.zip.\n"
          ],
          "name": "stdout"
        },
        {
          "output_type": "execute_result",
          "data": {
            "text/plain": [
              "True"
            ]
          },
          "metadata": {
            "tags": []
          },
          "execution_count": 7
        }
      ]
    },
    {
      "metadata": {
        "id": "vCT54BSL9eGm",
        "colab_type": "code",
        "colab": {}
      },
      "cell_type": "code",
      "source": [
        "stop_words = text.ENGLISH_STOP_WORDS\n",
        "wnl = WordNetLemmatizer()\n",
        "analyzer = CountVectorizer().build_analyzer()"
      ],
      "execution_count": 0,
      "outputs": []
    },
    {
      "metadata": {
        "id": "i4aQeSQX9xMX",
        "colab_type": "code",
        "colab": {}
      },
      "cell_type": "code",
      "source": [
        "def penn2morphy(penntag):\n",
        "    \"\"\" Converts Penn Treebank tags to WordNet. Taken from discussion slides\"\"\"\n",
        "    morphy_tag = {'NN':'n', 'JJ':'a',\n",
        "                  'VB':'v', 'RB':'r'}\n",
        "    try:\n",
        "        return morphy_tag[penntag[:2]]\n",
        "    except:\n",
        "        return 'n'\n",
        "      \n",
        "def lemmatize_sent(list_word):\n",
        "    # Text input is string, returns array of lowercased strings(words).\n",
        "    return [wnl.lemmatize(word.lower(), pos=penn2morphy(tag)) \n",
        "            for word, tag in pos_tag(list_word)]\n",
        "  \n",
        "def stem_rmv_punc(doc):\n",
        "    return (word for word in lemmatize_sent(analyzer(doc)) if word not in stop_words and not word.isdigit())\n"
      ],
      "execution_count": 0,
      "outputs": []
    },
    {
      "metadata": {
        "id": "W3l71lu8-DQc",
        "colab_type": "code",
        "colab": {}
      },
      "cell_type": "code",
      "source": [
        "vectorizer = CountVectorizer(stop_words='english', min_df=3, analyzer=stem_rmv_punc)"
      ],
      "execution_count": 0,
      "outputs": []
    },
    {
      "metadata": {
        "id": "-jasF3YVNvSP",
        "colab_type": "code",
        "outputId": "252b9765-dcd3-4d8c-a4b6-1819fec6e87b",
        "colab": {
          "base_uri": "https://localhost:8080/",
          "height": 717
        }
      },
      "cell_type": "code",
      "source": [
        "print(train_dataset.data[0])\n",
        "print(list(stem_rmv_punc(train_dataset.data[0])))"
      ],
      "execution_count": 0,
      "outputs": [
        {
          "output_type": "stream",
          "text": [
            "From: sac@asdi.saic.com (Steve A. Conroy x6172)\n",
            "Subject: Re: Darrrrrrrrryl\n",
            "Organization: SAIC\n",
            "Lines: 33\n",
            "\n",
            "In article <mssC5KCru.5Ip@netcom.com>, mss@netcom.com (Mark Singer) writes:\n",
            "|> \n",
            "|> \n",
            "|> The media is beating the incident at Dodger Stadium on Wednesday to\n",
            "|> death, but I haven't seen anything in rsb yet.\n",
            "|> \n",
            "|> Gerald Perry of the Cardinals pinch hit in the eighth inning with two\n",
            "|> on and his club down by a run.  He stroked a line drive into the\n",
            "|> right field corner.  The ball cleared the three-foot high fence and\n",
            "|> went into the crowd.  Darryl, racing over from right center, got to\n",
            "|> the spot in time to reach his glove up over the short fence, but he\n",
            "|> missed the ball.  A fan sitting in the front row, wearing a mitt,\n",
            "|> reached up and caught the ball.  Home run.\n",
            "|> \n",
            "|> Now I've seen the replay several times and I have concluded that\n",
            "|> Darryl missed the ball, and that the fan's glove was essentially\n",
            "|> behind Darryl's.  Several Dodger fans with seats in the immediate\n",
            "|> vicinity have claimed that the fan unquestionably interfered with\n",
            "|> Strawberry.  What cannot be disputed, however, is that the fan\n",
            "|> who caught the ball never took his eye off it;  he was oblivious\n",
            "|> to where the fielder was playing.  He was also quite exuberant as\n",
            "|> soon as he realized he had made the catch.\n",
            "|> \n",
            "|> [Stuff about Daryl and Tommy and everyone blaming fan for the loss deleted]\n",
            "\n",
            "I saw the replay several times too.  No question about it.  Daryl missed\n",
            "the ball, *then* the fan caught it.  Daryl is so tall that he had the\n",
            "first shot at the ball.  Daryl's just whining again.  I think it shows a\n",
            "lack of class when Tommy, Daryl and the Dodgers blame a single fan for\n",
            "losing the game.  What about the pitcher who threw up the gopher ball?\n",
            "What about the pitchers that gave up 6 runs up to that point?  Sorry, Tommy.\n",
            "If it were a 2-1 game and Daryl was 5 feet 2 inches tall, then maybe -\n",
            "just maybe - you'd have an argument.\n",
            "\n",
            "['sac', 'asdi', 'saic', 'com', 'steve', 'conroy', 'x6172', 'subject', 'darrrrrrrrryl', 'organization', 'saic', 'line', 'article', 'mssc5kcru', '5ip', 'netcom', 'com', 'ms', 'netcom', 'com', 'mark', 'singer', 'write', 'medium', 'beat', 'incident', 'dodger', 'stadium', 'wednesday', 'death', 'haven', 'rsb', 'gerald', 'perry', 'cardinal', 'pinch', 'hit', 'eighth', 'inning', 'club', 'run', 'stroke', 'line', 'drive', 'right', 'field', 'corner', 'ball', 'clear', 'foot', 'high', 'fence', 'crowd', 'darryl', 'race', 'right', 'center', 'spot', 'time', 'reach', 'glove', 'short', 'fence', 'miss', 'ball', 'fan', 'sit', 'row', 'wear', 'mitt', 'reach', 'catch', 'ball', 'home', 'run', 've', 'replay', 'time', 'conclude', 'darryl', 'miss', 'ball', 'fan', 'glove', 'essentially', 'darryl', 'dodger', 'fan', 'seat', 'immediate', 'vicinity', 'claim', 'fan', 'unquestionably', 'interfere', 'strawberry', 'dispute', 'fan', 'catch', 'ball', 'eye', 'oblivious', 'fielder', 'play', 'quite', 'exuberant', 'soon', 'realize', 'make', 'catch', 'stuff', 'daryl', 'tommy', 'blaming', 'fan', 'loss', 'delete', 'saw', 'replay', 'time', 'question', 'daryl', 'miss', 'ball', 'fan', 'catch', 'daryl', 'tall', 'shot', 'ball', 'daryl', 'just', 'whine', 'think', 'lack', 'class', 'tommy', 'daryl', 'dodger', 'blame', 'single', 'fan', 'lose', 'game', 'pitcher', 'throw', 'gopher', 'ball', 'pitcher', 'run', 'point', 'sorry', 'tommy', 'game', 'daryl', 'foot', 'inch', 'tall', 'maybe', 'just', 'maybe', 'argument']\n"
          ],
          "name": "stdout"
        }
      ]
    },
    {
      "metadata": {
        "id": "SJfguCaxffgT",
        "colab_type": "code",
        "outputId": "a51abe3d-af8d-4bc8-e371-ffeb2138a6f6",
        "colab": {
          "base_uri": "https://localhost:8080/",
          "height": 51
        }
      },
      "cell_type": "code",
      "source": [
        "count_vec_train_matrix = vectorizer.fit_transform(train_dataset.data)\n",
        "count_vec_test_matrix = vectorizer.transform(test_dataset.data)\n",
        "print(count_vec_train_matrix.shape)\n",
        "print(count_vec_test_matrix.shape)"
      ],
      "execution_count": 0,
      "outputs": [
        {
          "output_type": "stream",
          "text": [
            "(4732, 16319)\n",
            "(3150, 16319)\n"
          ],
          "name": "stdout"
        }
      ]
    },
    {
      "metadata": {
        "id": "vFlv8n45FWbW",
        "colab_type": "code",
        "outputId": "d764ed1b-4032-4e82-c795-dc27e3e0980c",
        "colab": {
          "base_uri": "https://localhost:8080/",
          "height": 51
        }
      },
      "cell_type": "code",
      "source": [
        "#use toarray to convert sparse matrixes to ordinary matrices\n",
        "train_ordinary_matrix = count_vec_train_matrix.toarray()\n",
        "test_ordinary_matrix = count_vec_test_matrix.toarray()\n",
        "print(train_ordinary_matrix.shape)\n",
        "print(test_ordinary_matrix.shape)"
      ],
      "execution_count": 0,
      "outputs": [
        {
          "output_type": "stream",
          "text": [
            "(4732, 16319)\n",
            "(3150, 16319)\n"
          ],
          "name": "stdout"
        }
      ]
    },
    {
      "metadata": {
        "id": "HNyib_PNGxpl",
        "colab_type": "code",
        "outputId": "db426cfe-2b9b-4f76-8a92-0868983b5afa",
        "colab": {
          "base_uri": "https://localhost:8080/",
          "height": 1717
        }
      },
      "cell_type": "code",
      "source": [
        "#feature names are terms\n",
        "vectorizer.get_feature_names()[0:100]"
      ],
      "execution_count": 0,
      "outputs": [
        {
          "output_type": "execute_result",
          "data": {
            "text/plain": [
              "['0005111312na1em',\n",
              " '0010580b',\n",
              " '002251w',\n",
              " '0096b0f0',\n",
              " '00bjgood',\n",
              " '00mbstultz',\n",
              " '00pm',\n",
              " '02uv',\n",
              " '03hz',\n",
              " '03k',\n",
              " '05apr93',\n",
              " '05l',\n",
              " '06eh',\n",
              " '06paul',\n",
              " '0_',\n",
              " '0___',\n",
              " '0a',\n",
              " '0b',\n",
              " '0b14',\n",
              " '0c',\n",
              " '0d',\n",
              " '0d2',\n",
              " '0df',\n",
              " '0e',\n",
              " '0ek',\n",
              " '0f',\n",
              " '0g',\n",
              " '0g8',\n",
              " '0h',\n",
              " '0hd',\n",
              " '0i',\n",
              " '0iv',\n",
              " '0ivbudk',\n",
              " '0j',\n",
              " '0k',\n",
              " '0l',\n",
              " '0m',\n",
              " '0m75u',\n",
              " '0m8b',\n",
              " '0mk',\n",
              " '0n',\n",
              " '0o',\n",
              " '0p',\n",
              " '0q',\n",
              " '0qax',\n",
              " '0qq',\n",
              " '0r',\n",
              " '0sl',\n",
              " '0t',\n",
              " '0tbxn',\n",
              " '0tbxom',\n",
              " '0tq',\n",
              " '0tq6',\n",
              " '0u',\n",
              " '0v',\n",
              " '0va',\n",
              " '0w',\n",
              " '0x',\n",
              " '0x100',\n",
              " '0y',\n",
              " '0z',\n",
              " '1000cc',\n",
              " '100k',\n",
              " '100mph',\n",
              " '101e',\n",
              " '1024x768',\n",
              " '1024x768x16',\n",
              " '1024x768x256',\n",
              " '1024x768x65536',\n",
              " '106ps',\n",
              " '10h',\n",
              " '10k',\n",
              " '10mb',\n",
              " '10min',\n",
              " '10pm',\n",
              " '10th',\n",
              " '10w',\n",
              " '10w40',\n",
              " '115a',\n",
              " '11h',\n",
              " '11k',\n",
              " '11th',\n",
              " '1200cc',\n",
              " '120km',\n",
              " '120mb',\n",
              " '120mph',\n",
              " '125mb',\n",
              " '1280x1024',\n",
              " '128k',\n",
              " '12a',\n",
              " '12cyl',\n",
              " '12k',\n",
              " '12mb',\n",
              " '12ms',\n",
              " '12v',\n",
              " '1304s',\n",
              " '130mph',\n",
              " '132mb',\n",
              " '13h',\n",
              " '13k']"
            ]
          },
          "metadata": {
            "tags": []
          },
          "execution_count": 18
        }
      ]
    },
    {
      "metadata": {
        "id": "J6kvtPKeiAna",
        "colab_type": "code",
        "outputId": "991377ae-4dee-405f-ce8e-551f46ddd267",
        "colab": {
          "base_uri": "https://localhost:8080/",
          "height": 51
        }
      },
      "cell_type": "code",
      "source": [
        "from sklearn.feature_extraction.text import TfidfTransformer\n",
        "tfidf_transformer = TfidfTransformer()\n",
        "tfidf_train_matrix = tfidf_transformer.fit_transform(count_vec_train_matrix)\n",
        "tfidf_test_matrix = tfidf_transformer.transform(count_vec_test_matrix)\n",
        "print('The shape of the TF-IDF train matrix is', count_vec_train_matrix.shape)\n",
        "print('The shape of the TF-IDF test matrix is', count_vec_test_matrix.shape)\n"
      ],
      "execution_count": 0,
      "outputs": [
        {
          "output_type": "stream",
          "text": [
            "The shape of the TF-IDF train matrix is (4732, 16319)\n",
            "The shape of the TF-IDF test matrix is (3150, 16319)\n"
          ],
          "name": "stdout"
        }
      ]
    },
    {
      "metadata": {
        "id": "8-BgOtMpixiI",
        "colab_type": "text"
      },
      "cell_type": "markdown",
      "source": [
        "### Question 3: Dimensionality Reduction"
      ]
    },
    {
      "metadata": {
        "id": "yObe-RIcBJuK",
        "colab_type": "text"
      },
      "cell_type": "markdown",
      "source": [
        "Since the document-term TF-IDF matrix is sparse and low-rank, we performed dimensionality reduction to improve the performance of the learning algorithm. We used two methods: Latent Semantic Indexing (LSI) and Non-negative Matrix Factorization (NMF), both of which minimize the mean-squared residual between the original data and a reconstruction from its low-dimensional approximation. We used `n_components`=50, so each document is mapped to a 50-dimensional vector. We compared the two methods."
      ]
    },
    {
      "metadata": {
        "id": "mOraNAr9b1cA",
        "colab_type": "text"
      },
      "cell_type": "markdown",
      "source": [
        " **LSI**"
      ]
    },
    {
      "metadata": {
        "id": "1q0JW4-niz6a",
        "colab_type": "code",
        "outputId": "4bf48d39-1156-4510-f350-edaa99c60397",
        "colab": {
          "base_uri": "https://localhost:8080/",
          "height": 34
        }
      },
      "cell_type": "code",
      "source": [
        "from sklearn.decomposition import TruncatedSVD, NMF\n",
        "\n",
        "lsi = TruncatedSVD(n_components=50)\n",
        "lsi_train_matrix = lsi.fit_transform(tfidf_train_matrix)\n",
        "print(lsi_train_matrix.shape)"
      ],
      "execution_count": 0,
      "outputs": [
        {
          "output_type": "stream",
          "text": [
            "(4732, 50)\n"
          ],
          "name": "stdout"
        }
      ]
    },
    {
      "metadata": {
        "id": "vxYquGuRdC0T",
        "colab_type": "code",
        "colab": {}
      },
      "cell_type": "code",
      "source": [
        "lsi_test_matrix = lsi.transform(tfidf_test_matrix)"
      ],
      "execution_count": 0,
      "outputs": []
    },
    {
      "metadata": {
        "id": "rHhdIx-uRSuv",
        "colab_type": "code",
        "outputId": "4153dab2-d671-4aa1-9caa-3e8599e46ff0",
        "colab": {
          "base_uri": "https://localhost:8080/",
          "height": 51
        }
      },
      "cell_type": "code",
      "source": [
        "estimated_lsi_train_matrix = lsi.inverse_transform(lsi_train_matrix)\n",
        "lsi_error = tfidf_train_matrix-estimated_lsi_train_matrix\n",
        "print(lsi_error.shape)\n",
        "print(np.linalg.norm(tfidf_train_matrix-estimated_lsi_train_matrix)**2)"
      ],
      "execution_count": 0,
      "outputs": [
        {
          "output_type": "stream",
          "text": [
            "(4732, 16319)\n",
            "4106.962861236055\n"
          ],
          "name": "stdout"
        }
      ]
    },
    {
      "metadata": {
        "id": "nsfUfvNf7qpw",
        "colab_type": "text"
      },
      "cell_type": "markdown",
      "source": [
        "**NMF**\n"
      ]
    },
    {
      "metadata": {
        "id": "Y5jk9WSz71cp",
        "colab_type": "code",
        "outputId": "f2f3a53a-d0e1-4966-e828-0ba102ee86e0",
        "colab": {
          "base_uri": "https://localhost:8080/",
          "height": 34
        }
      },
      "cell_type": "code",
      "source": [
        "nmf = NMF(n_components=50)\n",
        "nmf_train_matrix = nmf.fit_transform(tfidf_train_matrix)\n",
        "print(nmf_train_matrix.shape)"
      ],
      "execution_count": 0,
      "outputs": [
        {
          "output_type": "stream",
          "text": [
            "(4732, 50)\n"
          ],
          "name": "stdout"
        }
      ]
    },
    {
      "metadata": {
        "id": "dGFUpzNf79UT",
        "colab_type": "code",
        "colab": {}
      },
      "cell_type": "code",
      "source": [
        "nmf_test_matrix = nmf.transform(tfidf_test_matrix)"
      ],
      "execution_count": 0,
      "outputs": []
    },
    {
      "metadata": {
        "id": "WahEUkcHY3Mo",
        "colab_type": "text"
      },
      "cell_type": "markdown",
      "source": [
        "NMF tries to approximate the data matrix $\\mathbf{X} \\in \\mathbb{R}^{n \\times m}$ (*n* documents and *m* terms) with $\\mathbf{WH}$ ($\\mathbf{W} \\in \\mathbb{R}^{m\\times k}$, $\\mathbf{H} \\in \\mathbb{R}^{k\\times n}$). We have n=4732, k=50, and m=16319.  \n",
        "Using k=50, we solved the NMF optimization \n",
        "\\begin{array}{cc}\n",
        "\\min_\\limits{\\mathbf{W}, \\mathbf{H}} & \\lVert\\mathbf{X} - \\mathbf{W}\\mathbf{H}\\rVert_F^2 \\ \n",
        "\\end{array}"
      ]
    },
    {
      "metadata": {
        "id": "pxwishDp7-aF",
        "colab_type": "code",
        "outputId": "afb79487-bccd-4ecf-fefe-3557bf90b673",
        "colab": {
          "base_uri": "https://localhost:8080/",
          "height": 51
        }
      },
      "cell_type": "code",
      "source": [
        "estimated_nmf_train_matrix = nmf.inverse_transform(nmf_train_matrix)\n",
        "nmf_error = tfidf_train_matrix-estimated_nmf_train_matrix\n",
        "print(nmf_error.shape)\n",
        "print(np.linalg.norm(tfidf_train_matrix-estimated_nmf_train_matrix)**2)"
      ],
      "execution_count": 0,
      "outputs": [
        {
          "output_type": "stream",
          "text": [
            "(4732, 16319)\n",
            "4143.855926085805\n"
          ],
          "name": "stdout"
        }
      ]
    },
    {
      "metadata": {
        "id": "GzEdWy3opoZp",
        "colab_type": "text"
      },
      "cell_type": "markdown",
      "source": [
        "__Questions__: Reduce the dimensionality of the data using the methods above. Apply LSI to the TF-IDF matrix corresponding to the 8 categories with k = 50; so each document is mapped to a 50-dimensional vector. Also reduce dimensionality through NMF (k = 50) and compare with LSI:\n",
        "Which one is larger, the $\\lVert\\mathbf{X} -\\mathbf{W}\\mathbf{H}\\rVert_F^2$ in NMF or the$\\lVert\\mathbf{X} - \\mathbf{U_k}\\mathbf{\\Sigma_k}\\mathbf{V_k}^T\\rVert_F^2$ in LSI?\n",
        "Why is the case?"
      ]
    },
    {
      "metadata": {
        "id": "ZjiSVuModZQF",
        "colab_type": "text"
      },
      "cell_type": "markdown",
      "source": [
        "The error function $\\lVert\\mathbf{X} - \\mathbf{W}\\mathbf{H}\\rVert_F^2$ in NMFis 4142.21 and the error function $\\lVert\\mathbf{X} - \\mathbf{U_k}\\mathbf{\\Sigma_k}\\mathbf{V_k}^T\\rVert_F^2$ in LSI is 4106.96. The error function is marginally larger in NMF compared with LSI. "
      ]
    },
    {
      "metadata": {
        "id": "AOfdin2Bof85",
        "colab_type": "text"
      },
      "cell_type": "markdown",
      "source": [
        "The error in LSI might be because the noise (synonyms, polysems) is reduced during the dimensionality-reduction step, since the noise is assumed to be in the discarded columns and rows (Chen et al., 2013). SVD is the traditional approximation method used for LSA, wherein lower dimensional components\n",
        "from the decomposition are truncated. On truncation, the linguistic noise present in the vector representation is removed, and the semantic connectedness is made visible (Peter et al., 2009)."
      ]
    },
    {
      "metadata": {
        "id": "iCXmeDhflRwf",
        "colab_type": "text"
      },
      "cell_type": "markdown",
      "source": [
        "The reason that the error in NMF is larger than the error in LSI might be because:\n",
        "\n",
        "rank($\\mathbf{U_k}\\mathbf{\\Sigma_k}\\mathbf{V_k}^T$) = k In LSI and rank($\\mathbf{W}\\mathbf{H}$) $\\leqslant$ k. \n",
        "\n",
        "When we use a lower rank to approximate the original higher dimensional $\\mathbf{X}$, the error will increase. Therefore, the error of LSI is always less than or equal to the error of NMF. In other words, the error of LSI is the global minimum and the error of NMF is the minimum under the constraint that all entries in\n",
        "the decomposed matrix factors have to be non-negative."
      ]
    },
    {
      "metadata": {
        "id": "7MzFtlIsVMFJ",
        "colab_type": "text"
      },
      "cell_type": "markdown",
      "source": [
        "### Classification Algorithms"
      ]
    },
    {
      "metadata": {
        "id": "nWMGbRg3TCUu",
        "colab_type": "text"
      },
      "cell_type": "markdown",
      "source": [
        "We used the dimension-reduced training data from LSI to train different types of classifiers, and evaluated the trained classifiers with the test data. Our data consists of 8 subclasses, each of which belong to either \"Computer Technology\" or \"Recreational Activity.\" We first aggregated the documents of the subclasses into the 2 classes (refer to Table 1) so that we could perform binary classification. "
      ]
    },
    {
      "metadata": {
        "id": "frsYnmSt_mu7",
        "colab_type": "code",
        "outputId": "ca00717f-1a08-4337-debc-a3b26064d81d",
        "colab": {
          "base_uri": "https://localhost:8080/",
          "height": 34
        }
      },
      "cell_type": "code",
      "source": [
        "binary_train_labels = np.array(train_dataset.target >= 4, dtype = int)\n",
        "binary_test_labels = np.array(test_dataset.target >= 4, dtype = int)\n",
        "print(binary_train_labels[:5])\n",
        "\n",
        "# print(train_dataset.target_names)\n",
        "# recreational activity = 1, computer technology = 0"
      ],
      "execution_count": 0,
      "outputs": [
        {
          "output_type": "stream",
          "text": [
            "[1 1 1 0 0]\n"
          ],
          "name": "stdout"
        }
      ]
    },
    {
      "metadata": {
        "id": "KGy3St1Wch0I",
        "colab_type": "text"
      },
      "cell_type": "markdown",
      "source": [
        "#### Question 4: SVM"
      ]
    },
    {
      "metadata": {
        "id": "E1nd_yfwHHjZ",
        "colab_type": "text"
      },
      "cell_type": "markdown",
      "source": [
        "We trained two linear support vector machines (SVM), a hard margin linear SVM and a soft margin linear SVM. We trained the hard margin SVM by using C=1000, where C is the penalty parameter of the error term (thus highly penalizing misclassification of an individual point). We trained the soft margin SVM by using C=0.0001, which is more lenient towards misclassification of a few data points as long as most of the data are well-separated.  \n",
        "\n",
        "We evaluated and compared their classification quality of the two SVMs by looking at the ROC curves, confusion matrix, and calculating the accuracy, recall, precision, and F-1 score of both classifiers.  "
      ]
    },
    {
      "metadata": {
        "id": "XCo4Spihx7cA",
        "colab_type": "code",
        "outputId": "a1438f2f-1f00-401d-ed39-0be670a38a9c",
        "colab": {
          "base_uri": "https://localhost:8080/",
          "height": 71
        }
      },
      "cell_type": "code",
      "source": [
        "from sklearn.svm import LinearSVC\n",
        "\n",
        "clf_hard = LinearSVC(C = 1000).fit(lsi_train_matrix, binary_train_labels)\n",
        "clf_soft = LinearSVC(C = 0.0001).fit(lsi_train_matrix, binary_train_labels)"
      ],
      "execution_count": 0,
      "outputs": [
        {
          "output_type": "stream",
          "text": [
            "/usr/local/lib/python3.6/dist-packages/sklearn/svm/base.py:931: ConvergenceWarning: Liblinear failed to converge, increase the number of iterations.\n",
            "  \"the number of iterations.\", ConvergenceWarning)\n"
          ],
          "name": "stderr"
        }
      ]
    },
    {
      "metadata": {
        "id": "gdlZJ1CbfViQ",
        "colab_type": "code",
        "colab": {}
      },
      "cell_type": "code",
      "source": [
        "#Plot the ROC curve\n",
        "from sklearn.metrics import confusion_matrix\n",
        "from sklearn.metrics import accuracy_score\n",
        "from sklearn.metrics import precision_score\n",
        "from sklearn.metrics import recall_score\n",
        "from sklearn.metrics import f1_score\n",
        "from sklearn.metrics import roc_curve\n",
        "from sklearn.metrics import auc\n",
        "import matplotlib.pyplot as plt\n",
        "%matplotlib inline"
      ],
      "execution_count": 0,
      "outputs": []
    },
    {
      "metadata": {
        "id": "aXJIAmcyj95I",
        "colab_type": "code",
        "colab": {}
      },
      "cell_type": "code",
      "source": [
        "from sklearn.base import BaseEstimator, TransformerMixin\n",
        "class SparseToDenseArray(BaseEstimator, TransformerMixin):\n",
        "    def __init__(self):\n",
        "        pass\n",
        "\n",
        "    def transform(self, X, *_):\n",
        "        if hasattr(X, 'toarray'):\n",
        "            return X.toarray()\n",
        "        return X\n",
        "\n",
        "    def fit(self, *_):\n",
        "        return self"
      ],
      "execution_count": 0,
      "outputs": []
    },
    {
      "metadata": {
        "id": "C0kSmXdsgEgl",
        "colab_type": "code",
        "colab": {}
      },
      "cell_type": "code",
      "source": [
        "from sklearn.pipeline import Pipeline\n",
        "from sklearn.svm import SVC\n",
        "pipeline_hard = Pipeline([\n",
        "    ('vect', CountVectorizer(stop_words='english', min_df=3, analyzer=stem_rmv_punc)),\n",
        "    ('tfidf', TfidfTransformer()),\n",
        "    ('reduce_dim', TruncatedSVD(n_components=50, random_state=42)),\n",
        "    ('toarr', SparseToDenseArray()),\n",
        "    ('clf', SVC(kernel='linear', C=1000, random_state=42)),\n",
        "])\n",
        "\n",
        "pipeline_soft = Pipeline([\n",
        "    ('vect', CountVectorizer(stop_words='english', min_df=3, analyzer=stem_rmv_punc)),\n",
        "    ('tfidf', TfidfTransformer()),\n",
        "    ('reduce_dim', TruncatedSVD(n_components=50, random_state=42)),\n",
        "    ('toarr', SparseToDenseArray()),\n",
        "    ('clf', SVC(kernel='linear', C=0.0001)),\n",
        "])"
      ],
      "execution_count": 0,
      "outputs": []
    },
    {
      "metadata": {
        "id": "8lXqWM1BofF5",
        "colab_type": "code",
        "colab": {}
      },
      "cell_type": "code",
      "source": [
        "#confusion matrix\n",
        "\n",
        "#This function prints and plots the confusion matrix\n",
        "#https://scikit-learn.org/stable/auto_examples/model_selection/plot_confusion_matrix.html\n",
        "import itertools\n",
        "\n",
        "def plot_confusion_matrix(cm, classes, normalize=False, title='Confusion Matrix', cmap=plt.cm.Blues):\n",
        "  #normalize can be applied by setting normalize = true\n",
        "  if normalize:\n",
        "    cm = cm.astype('float') / cm.sum(axis=1)[:, np.newaxis]\n",
        "    print(\"Normalized confusion matrix\")\n",
        "  else:\n",
        "    print('Confusion matrix, without normalization')\n",
        "\n",
        "  print(cm)\n",
        "  plt.imshow(cm, interpolation='nearest', cmap=cmap)\n",
        "  plt.title(title)\n",
        "  plt.colorbar()\n",
        "  tick_marks = np.arange(len(classes))\n",
        "  plt.xticks(tick_marks, classes, rotation=45)\n",
        "  plt.yticks(tick_marks, classes)\n",
        "\n",
        "  fmt = '.2f' if normalize else 'd'\n",
        "  thresh = cm.max() / 2.\n",
        "  for i, j in itertools.product(range(cm.shape[0]), range(cm.shape[1])):\n",
        "    plt.text(j, i, format(cm[i, j], fmt),\n",
        "             horizontalalignment=\"center\",\n",
        "             color=\"white\" if cm[i, j] > thresh else \"black\")\n",
        "\n",
        "    plt.ylabel('True label')\n",
        "    plt.xlabel('Predicted label')\n",
        "    plt.tight_layout()\n",
        "    "
      ],
      "execution_count": 0,
      "outputs": []
    },
    {
      "metadata": {
        "id": "4JQXfCbrfzmk",
        "colab_type": "code",
        "colab": {}
      },
      "cell_type": "code",
      "source": [
        "def plot_roc(fpr, tpr):\n",
        "    fig, ax = plt.subplots()\n",
        "\n",
        "    roc_auc = auc(fpr,tpr)\n",
        "\n",
        "    ax.plot(fpr, tpr, lw=2, label= 'area under curve = %0.4f' % roc_auc)\n",
        "\n",
        "    ax.grid(color='0.7', linestyle='--', linewidth=1)\n",
        "\n",
        "    ax.set_xlim([-0.1, 1.1])\n",
        "    ax.set_ylim([0.0, 1.05])\n",
        "    ax.set_xlabel('False Positive Rate',fontsize=15)\n",
        "    ax.set_ylabel('True Positive Rate',fontsize=15)\n",
        "\n",
        "    ax.legend(loc=\"lower right\")\n",
        "\n",
        "    for label in ax.get_xticklabels()+ax.get_yticklabels():\n",
        "        label.set_fontsize(15)\n",
        "\n",
        "def fit_predict_and_plot(pipe, train_data, train_label, test_data, test_label):\n",
        "    pipe.fit(train_data, train_label)\n",
        "    # pipeline1.predict(train_dataset)\n",
        "\n",
        "    if hasattr(pipe, 'decision_function'):\n",
        "      prob_score = pipe.decision_function(test_data)\n",
        "      fpr, tpr, thresholds = roc_curve(test_label, prob_score)\n",
        "    else:\n",
        "      prob_score = pipe.predict_proba(test_data)\n",
        "      fpr, tpr, thresholds = roc_curve(test_label, prob_score[:,1])\n",
        "    \n",
        "    test_pred = pipe.predict(test_data)\n",
        "    \n",
        "    #plot roc curve\n",
        "    plot_roc(fpr, tpr)\n",
        "    \n",
        "    #get scores\n",
        "    accuracy = accuracy_score(test_label, test_pred)\n",
        "    recall = recall_score(test_label, test_pred)\n",
        "    precision = precision_score(test_label, test_pred)\n",
        "    f1 = f1_score(test_label, test_pred)\n",
        "    \n",
        "    print('Accuracy = ', accuracy)\n",
        "    print('Recall = ', recall)\n",
        "    print('Precision = ', precision)\n",
        "    print('F-1 Score = ', f1)\n",
        "    \n",
        "    #report the confusion matrix\n",
        "    class_names = ['Computer Technology', 'Recreational Activity']\n",
        "    cnf_matrix = confusion_matrix(test_label, test_pred)\n",
        "    np.set_printoptions(precision=2)\n",
        "    \n",
        "    #plot non-normalized confusion matrix\n",
        "    plt.figure()\n",
        "    plot_confusion_matrix(cnf_matrix, classes=class_names,\n",
        "                         title = 'Confusion Matrix (without normalization)')\n",
        "    plt.figure()\n",
        "    plot_confusion_matrix(cnf_matrix, classes=class_names, normalize = True,\n",
        "                         title = 'Confusion Matrix (normalization)')\n",
        "    \n",
        "    plt.show()\n",
        "    #return pipe\n",
        "    \n"
      ],
      "execution_count": 0,
      "outputs": []
    },
    {
      "metadata": {
        "id": "-1JG5xC5K0Gb",
        "colab_type": "text"
      },
      "cell_type": "markdown",
      "source": [
        "**Hard Margin SVM**"
      ]
    },
    {
      "metadata": {
        "id": "dIOVjPWeghOX",
        "colab_type": "code",
        "outputId": "aec85cd8-78d0-474d-d1de-f678c7f51629",
        "colab": {
          "base_uri": "https://localhost:8080/",
          "height": 1017
        }
      },
      "cell_type": "code",
      "source": [
        "#plot confusion matrix, roc curve, score for hard margin\n",
        "fit_predict_and_plot(pipeline_hard, train_dataset.data, binary_train_labels, test_dataset.data, binary_test_labels)"
      ],
      "execution_count": 0,
      "outputs": [
        {
          "output_type": "stream",
          "text": [
            "Accuracy =  0.9711111111111111\n",
            "Recall =  0.9779874213836478\n",
            "Precision =  0.9652389819987586\n",
            "F-1 Score =  0.9715713839425181\n",
            "Confusion matrix, without normalization\n",
            "[[1504   56]\n",
            " [  35 1555]]\n",
            "Normalized confusion matrix\n",
            "[[0.96 0.04]\n",
            " [0.02 0.98]]\n"
          ],
          "name": "stdout"
        },
        {
          "output_type": "display_data",
          "data": {
            "image/png": "[encoded data removed]",
            "text/plain": [
              "<Figure size 432x288 with 1 Axes>"
            ]
          },
          "metadata": {
            "tags": []
          }
        },
        {
          "output_type": "display_data",
          "data": {
            "image/png": "[encoded data removed]",
            "text/plain": [
              "<Figure size 432x288 with 2 Axes>"
            ]
          },
          "metadata": {
            "tags": []
          }
        },
        {
          "output_type": "display_data",
          "data": {
            "image/png": "[encoded data removed]",
            "text/plain": [
              "<Figure size 432x288 with 2 Axes>"
            ]
          },
          "metadata": {
            "tags": []
          }
        }
      ]
    },
    {
      "metadata": {
        "id": "b3mqQLxDLhON",
        "colab_type": "text"
      },
      "cell_type": "markdown",
      "source": [
        "**Soft Margin SVM**"
      ]
    },
    {
      "metadata": {
        "id": "CADaXBbfqL06",
        "colab_type": "code",
        "outputId": "39b11795-0966-4c63-b32a-78942755d245",
        "colab": {
          "base_uri": "https://localhost:8080/",
          "height": 1017
        }
      },
      "cell_type": "code",
      "source": [
        "#plot confusion matrix, roc curve, score for soft margin\n",
        "fit_predict_and_plot(pipeline_soft, train_dataset.data, binary_train_labels, test_dataset.data, binary_test_labels)"
      ],
      "execution_count": 0,
      "outputs": [
        {
          "output_type": "stream",
          "text": [
            "Accuracy =  0.5047619047619047\n",
            "Recall =  1.0\n",
            "Precision =  0.5047619047619047\n",
            "F-1 Score =  0.6708860759493671\n",
            "Confusion matrix, without normalization\n",
            "[[   0 1560]\n",
            " [   0 1590]]\n",
            "Normalized confusion matrix\n",
            "[[0. 1.]\n",
            " [0. 1.]]\n"
          ],
          "name": "stdout"
        },
        {
          "output_type": "display_data",
          "data": {
            "image/png": "[encoded data removed]",
            "text/plain": [
              "<Figure size 432x288 with 1 Axes>"
            ]
          },
          "metadata": {
            "tags": []
          }
        },
        {
          "output_type": "display_data",
          "data": {
            "image/png": "[encoded data removed]",
            "text/plain": [
              "<Figure size 432x288 with 2 Axes>"
            ]
          },
          "metadata": {
            "tags": []
          }
        },
        {
          "output_type": "display_data",
          "data": {
            "image/png": "[encoded data removed]",
            "text/plain": [
              "<Figure size 432x288 with 2 Axes>"
            ]
          },
          "metadata": {
            "tags": []
          }
        }
      ]
    },
    {
      "metadata": {
        "id": "503G0lmLMmRv",
        "colab_type": "text"
      },
      "cell_type": "markdown",
      "source": [
        "*__Questions__: Which SVM performs better? What happens for the soft margin SVM? Why is the case? Does the ROC curve of the soft margin SVM look good? Does this conflict with other metrics?*  \n",
        "\n",
        "The area under the curve (AUC) of the ROC curve for the hard margin SVM is marginally higher compared to that for the soft margin SVM, indicating the hard margin SVM performs better in terms of separability of the data (distinguishing between the 2 classes). The accuracy, precision, and F-1 score for the hard margin SVM are higher than those for the soft margin SVM, indicating that the hard margin SVM has better overall performance.  \n",
        "\n",
        "However, when we take a closer look at the soft margin SVM, we notice some discrepancies between the different classification metrics. For example, when we look at the confusion matrix, we notice that all of the documents were categorized into \"Recreational Activity,\" which explains why the recall measure is 1.0. 100% of the \"Recreational Activity\" documents were correctly classified, while 0% of the \"Computer Technology\" documents were correctly classified. And although the accuracy, precision, and F-1 scores of the soft margin SVM were relatively low compared to the hard margin SVM, the AUC is very high (0.9945). However, the AUC metric does not necessarily conflict with the other metrics, as they are measuring different things. The ROC shows the tradeoff between true positive rate versus false positive rate across multiple different thresholds of classification. On the other hand, accuracy, precision, recall, and F-1 score are measures of true positives and false positives at a given threshold. \n"
      ]
    },
    {
      "metadata": {
        "id": "FLMi817PMAgx",
        "colab_type": "text"
      },
      "cell_type": "markdown",
      "source": [
        "**Cross-Validation**"
      ]
    },
    {
      "metadata": {
        "id": "QAsuJrQMqSxr",
        "colab_type": "text"
      },
      "cell_type": "markdown",
      "source": [
        "We used 5-fold cross validation to choose the optimal value for the penalty parameter C in the range from $10^{-3}$ to $10^{3}$. We found that the optimal value for C is 23.101. We then used this value of C and plotted the ROC curve, reported the confusion matrix, and calculated the accuracy, recall, precision, and F-1 score of this best SVM. We observed that for all of the classification measures, this cross-validated SVM performs the best. "
      ]
    },
    {
      "metadata": {
        "id": "YhaJjmyUkqhM",
        "colab_type": "code",
        "colab": {}
      },
      "cell_type": "code",
      "source": [
        "#use cross validation to choose C\n",
        "\n",
        "from sklearn.model_selection import cross_val_score\n",
        "from sklearn.model_selection import ShuffleSplit\n",
        "from sklearn.svm import LinearSVC\n",
        "import numpy as np\n",
        "\n",
        "def cross_validation(train_data, train_label):\n",
        "  accuracy = []\n",
        "  ngamma = 100\n",
        "  gamma_test = np.logspace(-3, 3, ngamma)\n",
        "  for gamma in gamma_test:\n",
        "    clf = LinearSVC(C = gamma, random_state=42).fit(train_data, train_label)\n",
        "    cv = ShuffleSplit(n_splits=3, test_size=0.2, random_state=42)\n",
        "    scores = cross_val_score(clf, train_data, train_label, cv=cv, scoring='accuracy') #something go wrong here\n",
        "    accuracy.append(np.mean(scores))\n",
        "  opt_gamma = gamma_test[accuracy.index(max(accuracy))]\n",
        "  return opt_gamma\n"
      ],
      "execution_count": 0,
      "outputs": []
    },
    {
      "metadata": {
        "id": "ahfKKQ-M_ZgH",
        "colab_type": "code",
        "outputId": "38503335-1714-4fd8-be53-698a200dccbc",
        "colab": {
          "base_uri": "https://localhost:8080/",
          "height": 3369
        }
      },
      "cell_type": "code",
      "source": [
        "opt_gamma = cross_validation(lsi_train_matrix, binary_train_labels)"
      ],
      "execution_count": 62,
      "outputs": [
        {
          "output_type": "stream",
          "text": [
            "/usr/local/lib/python3.6/dist-packages/sklearn/svm/base.py:931: ConvergenceWarning: Liblinear failed to converge, increase the number of iterations.\n",
            "  \"the number of iterations.\", ConvergenceWarning)\n",
            "/usr/local/lib/python3.6/dist-packages/sklearn/svm/base.py:931: ConvergenceWarning: Liblinear failed to converge, increase the number of iterations.\n",
            "  \"the number of iterations.\", ConvergenceWarning)\n",
            "/usr/local/lib/python3.6/dist-packages/sklearn/svm/base.py:931: ConvergenceWarning: Liblinear failed to converge, increase the number of iterations.\n",
            "  \"the number of iterations.\", ConvergenceWarning)\n",
            "/usr/local/lib/python3.6/dist-packages/sklearn/svm/base.py:931: ConvergenceWarning: Liblinear failed to converge, increase the number of iterations.\n",
            "  \"the number of iterations.\", ConvergenceWarning)\n",
            "/usr/local/lib/python3.6/dist-packages/sklearn/svm/base.py:931: ConvergenceWarning: Liblinear failed to converge, increase the number of iterations.\n",
            "  \"the number of iterations.\", ConvergenceWarning)\n",
            "/usr/local/lib/python3.6/dist-packages/sklearn/svm/base.py:931: ConvergenceWarning: Liblinear failed to converge, increase the number of iterations.\n",
            "  \"the number of iterations.\", ConvergenceWarning)\n",
            "/usr/local/lib/python3.6/dist-packages/sklearn/svm/base.py:931: ConvergenceWarning: Liblinear failed to converge, increase the number of iterations.\n",
            "  \"the number of iterations.\", ConvergenceWarning)\n",
            "/usr/local/lib/python3.6/dist-packages/sklearn/svm/base.py:931: ConvergenceWarning: Liblinear failed to converge, increase the number of iterations.\n",
            "  \"the number of iterations.\", ConvergenceWarning)\n",
            "/usr/local/lib/python3.6/dist-packages/sklearn/svm/base.py:931: ConvergenceWarning: Liblinear failed to converge, increase the number of iterations.\n",
            "  \"the number of iterations.\", ConvergenceWarning)\n",
            "/usr/local/lib/python3.6/dist-packages/sklearn/svm/base.py:931: ConvergenceWarning: Liblinear failed to converge, increase the number of iterations.\n",
            "  \"the number of iterations.\", ConvergenceWarning)\n",
            "/usr/local/lib/python3.6/dist-packages/sklearn/svm/base.py:931: ConvergenceWarning: Liblinear failed to converge, increase the number of iterations.\n",
            "  \"the number of iterations.\", ConvergenceWarning)\n",
            "/usr/local/lib/python3.6/dist-packages/sklearn/svm/base.py:931: ConvergenceWarning: Liblinear failed to converge, increase the number of iterations.\n",
            "  \"the number of iterations.\", ConvergenceWarning)\n",
            "/usr/local/lib/python3.6/dist-packages/sklearn/svm/base.py:931: ConvergenceWarning: Liblinear failed to converge, increase the number of iterations.\n",
            "  \"the number of iterations.\", ConvergenceWarning)\n",
            "/usr/local/lib/python3.6/dist-packages/sklearn/svm/base.py:931: ConvergenceWarning: Liblinear failed to converge, increase the number of iterations.\n",
            "  \"the number of iterations.\", ConvergenceWarning)\n",
            "/usr/local/lib/python3.6/dist-packages/sklearn/svm/base.py:931: ConvergenceWarning: Liblinear failed to converge, increase the number of iterations.\n",
            "  \"the number of iterations.\", ConvergenceWarning)\n",
            "/usr/local/lib/python3.6/dist-packages/sklearn/svm/base.py:931: ConvergenceWarning: Liblinear failed to converge, increase the number of iterations.\n",
            "  \"the number of iterations.\", ConvergenceWarning)\n",
            "/usr/local/lib/python3.6/dist-packages/sklearn/svm/base.py:931: ConvergenceWarning: Liblinear failed to converge, increase the number of iterations.\n",
            "  \"the number of iterations.\", ConvergenceWarning)\n",
            "/usr/local/lib/python3.6/dist-packages/sklearn/svm/base.py:931: ConvergenceWarning: Liblinear failed to converge, increase the number of iterations.\n",
            "  \"the number of iterations.\", ConvergenceWarning)\n",
            "/usr/local/lib/python3.6/dist-packages/sklearn/svm/base.py:931: ConvergenceWarning: Liblinear failed to converge, increase the number of iterations.\n",
            "  \"the number of iterations.\", ConvergenceWarning)\n",
            "/usr/local/lib/python3.6/dist-packages/sklearn/svm/base.py:931: ConvergenceWarning: Liblinear failed to converge, increase the number of iterations.\n",
            "  \"the number of iterations.\", ConvergenceWarning)\n",
            "/usr/local/lib/python3.6/dist-packages/sklearn/svm/base.py:931: ConvergenceWarning: Liblinear failed to converge, increase the number of iterations.\n",
            "  \"the number of iterations.\", ConvergenceWarning)\n",
            "/usr/local/lib/python3.6/dist-packages/sklearn/svm/base.py:931: ConvergenceWarning: Liblinear failed to converge, increase the number of iterations.\n",
            "  \"the number of iterations.\", ConvergenceWarning)\n",
            "/usr/local/lib/python3.6/dist-packages/sklearn/svm/base.py:931: ConvergenceWarning: Liblinear failed to converge, increase the number of iterations.\n",
            "  \"the number of iterations.\", ConvergenceWarning)\n",
            "/usr/local/lib/python3.6/dist-packages/sklearn/svm/base.py:931: ConvergenceWarning: Liblinear failed to converge, increase the number of iterations.\n",
            "  \"the number of iterations.\", ConvergenceWarning)\n",
            "/usr/local/lib/python3.6/dist-packages/sklearn/svm/base.py:931: ConvergenceWarning: Liblinear failed to converge, increase the number of iterations.\n",
            "  \"the number of iterations.\", ConvergenceWarning)\n",
            "/usr/local/lib/python3.6/dist-packages/sklearn/svm/base.py:931: ConvergenceWarning: Liblinear failed to converge, increase the number of iterations.\n",
            "  \"the number of iterations.\", ConvergenceWarning)\n",
            "/usr/local/lib/python3.6/dist-packages/sklearn/svm/base.py:931: ConvergenceWarning: Liblinear failed to converge, increase the number of iterations.\n",
            "  \"the number of iterations.\", ConvergenceWarning)\n",
            "/usr/local/lib/python3.6/dist-packages/sklearn/svm/base.py:931: ConvergenceWarning: Liblinear failed to converge, increase the number of iterations.\n",
            "  \"the number of iterations.\", ConvergenceWarning)\n",
            "/usr/local/lib/python3.6/dist-packages/sklearn/svm/base.py:931: ConvergenceWarning: Liblinear failed to converge, increase the number of iterations.\n",
            "  \"the number of iterations.\", ConvergenceWarning)\n",
            "/usr/local/lib/python3.6/dist-packages/sklearn/svm/base.py:931: ConvergenceWarning: Liblinear failed to converge, increase the number of iterations.\n",
            "  \"the number of iterations.\", ConvergenceWarning)\n",
            "/usr/local/lib/python3.6/dist-packages/sklearn/svm/base.py:931: ConvergenceWarning: Liblinear failed to converge, increase the number of iterations.\n",
            "  \"the number of iterations.\", ConvergenceWarning)\n",
            "/usr/local/lib/python3.6/dist-packages/sklearn/svm/base.py:931: ConvergenceWarning: Liblinear failed to converge, increase the number of iterations.\n",
            "  \"the number of iterations.\", ConvergenceWarning)\n",
            "/usr/local/lib/python3.6/dist-packages/sklearn/svm/base.py:931: ConvergenceWarning: Liblinear failed to converge, increase the number of iterations.\n",
            "  \"the number of iterations.\", ConvergenceWarning)\n",
            "/usr/local/lib/python3.6/dist-packages/sklearn/svm/base.py:931: ConvergenceWarning: Liblinear failed to converge, increase the number of iterations.\n",
            "  \"the number of iterations.\", ConvergenceWarning)\n",
            "/usr/local/lib/python3.6/dist-packages/sklearn/svm/base.py:931: ConvergenceWarning: Liblinear failed to converge, increase the number of iterations.\n",
            "  \"the number of iterations.\", ConvergenceWarning)\n",
            "/usr/local/lib/python3.6/dist-packages/sklearn/svm/base.py:931: ConvergenceWarning: Liblinear failed to converge, increase the number of iterations.\n",
            "  \"the number of iterations.\", ConvergenceWarning)\n",
            "/usr/local/lib/python3.6/dist-packages/sklearn/svm/base.py:931: ConvergenceWarning: Liblinear failed to converge, increase the number of iterations.\n",
            "  \"the number of iterations.\", ConvergenceWarning)\n",
            "/usr/local/lib/python3.6/dist-packages/sklearn/svm/base.py:931: ConvergenceWarning: Liblinear failed to converge, increase the number of iterations.\n",
            "  \"the number of iterations.\", ConvergenceWarning)\n",
            "/usr/local/lib/python3.6/dist-packages/sklearn/svm/base.py:931: ConvergenceWarning: Liblinear failed to converge, increase the number of iterations.\n",
            "  \"the number of iterations.\", ConvergenceWarning)\n",
            "/usr/local/lib/python3.6/dist-packages/sklearn/svm/base.py:931: ConvergenceWarning: Liblinear failed to converge, increase the number of iterations.\n",
            "  \"the number of iterations.\", ConvergenceWarning)\n",
            "/usr/local/lib/python3.6/dist-packages/sklearn/svm/base.py:931: ConvergenceWarning: Liblinear failed to converge, increase the number of iterations.\n",
            "  \"the number of iterations.\", ConvergenceWarning)\n",
            "/usr/local/lib/python3.6/dist-packages/sklearn/svm/base.py:931: ConvergenceWarning: Liblinear failed to converge, increase the number of iterations.\n",
            "  \"the number of iterations.\", ConvergenceWarning)\n",
            "/usr/local/lib/python3.6/dist-packages/sklearn/svm/base.py:931: ConvergenceWarning: Liblinear failed to converge, increase the number of iterations.\n",
            "  \"the number of iterations.\", ConvergenceWarning)\n",
            "/usr/local/lib/python3.6/dist-packages/sklearn/svm/base.py:931: ConvergenceWarning: Liblinear failed to converge, increase the number of iterations.\n",
            "  \"the number of iterations.\", ConvergenceWarning)\n",
            "/usr/local/lib/python3.6/dist-packages/sklearn/svm/base.py:931: ConvergenceWarning: Liblinear failed to converge, increase the number of iterations.\n",
            "  \"the number of iterations.\", ConvergenceWarning)\n",
            "/usr/local/lib/python3.6/dist-packages/sklearn/svm/base.py:931: ConvergenceWarning: Liblinear failed to converge, increase the number of iterations.\n",
            "  \"the number of iterations.\", ConvergenceWarning)\n",
            "/usr/local/lib/python3.6/dist-packages/sklearn/svm/base.py:931: ConvergenceWarning: Liblinear failed to converge, increase the number of iterations.\n",
            "  \"the number of iterations.\", ConvergenceWarning)\n",
            "/usr/local/lib/python3.6/dist-packages/sklearn/svm/base.py:931: ConvergenceWarning: Liblinear failed to converge, increase the number of iterations.\n",
            "  \"the number of iterations.\", ConvergenceWarning)\n",
            "/usr/local/lib/python3.6/dist-packages/sklearn/svm/base.py:931: ConvergenceWarning: Liblinear failed to converge, increase the number of iterations.\n",
            "  \"the number of iterations.\", ConvergenceWarning)\n",
            "/usr/local/lib/python3.6/dist-packages/sklearn/svm/base.py:931: ConvergenceWarning: Liblinear failed to converge, increase the number of iterations.\n",
            "  \"the number of iterations.\", ConvergenceWarning)\n",
            "/usr/local/lib/python3.6/dist-packages/sklearn/svm/base.py:931: ConvergenceWarning: Liblinear failed to converge, increase the number of iterations.\n",
            "  \"the number of iterations.\", ConvergenceWarning)\n",
            "/usr/local/lib/python3.6/dist-packages/sklearn/svm/base.py:931: ConvergenceWarning: Liblinear failed to converge, increase the number of iterations.\n",
            "  \"the number of iterations.\", ConvergenceWarning)\n",
            "/usr/local/lib/python3.6/dist-packages/sklearn/svm/base.py:931: ConvergenceWarning: Liblinear failed to converge, increase the number of iterations.\n",
            "  \"the number of iterations.\", ConvergenceWarning)\n",
            "/usr/local/lib/python3.6/dist-packages/sklearn/svm/base.py:931: ConvergenceWarning: Liblinear failed to converge, increase the number of iterations.\n",
            "  \"the number of iterations.\", ConvergenceWarning)\n",
            "/usr/local/lib/python3.6/dist-packages/sklearn/svm/base.py:931: ConvergenceWarning: Liblinear failed to converge, increase the number of iterations.\n",
            "  \"the number of iterations.\", ConvergenceWarning)\n",
            "/usr/local/lib/python3.6/dist-packages/sklearn/svm/base.py:931: ConvergenceWarning: Liblinear failed to converge, increase the number of iterations.\n",
            "  \"the number of iterations.\", ConvergenceWarning)\n",
            "/usr/local/lib/python3.6/dist-packages/sklearn/svm/base.py:931: ConvergenceWarning: Liblinear failed to converge, increase the number of iterations.\n",
            "  \"the number of iterations.\", ConvergenceWarning)\n",
            "/usr/local/lib/python3.6/dist-packages/sklearn/svm/base.py:931: ConvergenceWarning: Liblinear failed to converge, increase the number of iterations.\n",
            "  \"the number of iterations.\", ConvergenceWarning)\n",
            "/usr/local/lib/python3.6/dist-packages/sklearn/svm/base.py:931: ConvergenceWarning: Liblinear failed to converge, increase the number of iterations.\n",
            "  \"the number of iterations.\", ConvergenceWarning)\n",
            "/usr/local/lib/python3.6/dist-packages/sklearn/svm/base.py:931: ConvergenceWarning: Liblinear failed to converge, increase the number of iterations.\n",
            "  \"the number of iterations.\", ConvergenceWarning)\n",
            "/usr/local/lib/python3.6/dist-packages/sklearn/svm/base.py:931: ConvergenceWarning: Liblinear failed to converge, increase the number of iterations.\n",
            "  \"the number of iterations.\", ConvergenceWarning)\n",
            "/usr/local/lib/python3.6/dist-packages/sklearn/svm/base.py:931: ConvergenceWarning: Liblinear failed to converge, increase the number of iterations.\n",
            "  \"the number of iterations.\", ConvergenceWarning)\n",
            "/usr/local/lib/python3.6/dist-packages/sklearn/svm/base.py:931: ConvergenceWarning: Liblinear failed to converge, increase the number of iterations.\n",
            "  \"the number of iterations.\", ConvergenceWarning)\n",
            "/usr/local/lib/python3.6/dist-packages/sklearn/svm/base.py:931: ConvergenceWarning: Liblinear failed to converge, increase the number of iterations.\n",
            "  \"the number of iterations.\", ConvergenceWarning)\n",
            "/usr/local/lib/python3.6/dist-packages/sklearn/svm/base.py:931: ConvergenceWarning: Liblinear failed to converge, increase the number of iterations.\n",
            "  \"the number of iterations.\", ConvergenceWarning)\n",
            "/usr/local/lib/python3.6/dist-packages/sklearn/svm/base.py:931: ConvergenceWarning: Liblinear failed to converge, increase the number of iterations.\n",
            "  \"the number of iterations.\", ConvergenceWarning)\n",
            "/usr/local/lib/python3.6/dist-packages/sklearn/svm/base.py:931: ConvergenceWarning: Liblinear failed to converge, increase the number of iterations.\n",
            "  \"the number of iterations.\", ConvergenceWarning)\n",
            "/usr/local/lib/python3.6/dist-packages/sklearn/svm/base.py:931: ConvergenceWarning: Liblinear failed to converge, increase the number of iterations.\n",
            "  \"the number of iterations.\", ConvergenceWarning)\n",
            "/usr/local/lib/python3.6/dist-packages/sklearn/svm/base.py:931: ConvergenceWarning: Liblinear failed to converge, increase the number of iterations.\n",
            "  \"the number of iterations.\", ConvergenceWarning)\n",
            "/usr/local/lib/python3.6/dist-packages/sklearn/svm/base.py:931: ConvergenceWarning: Liblinear failed to converge, increase the number of iterations.\n",
            "  \"the number of iterations.\", ConvergenceWarning)\n",
            "/usr/local/lib/python3.6/dist-packages/sklearn/svm/base.py:931: ConvergenceWarning: Liblinear failed to converge, increase the number of iterations.\n",
            "  \"the number of iterations.\", ConvergenceWarning)\n",
            "/usr/local/lib/python3.6/dist-packages/sklearn/svm/base.py:931: ConvergenceWarning: Liblinear failed to converge, increase the number of iterations.\n",
            "  \"the number of iterations.\", ConvergenceWarning)\n",
            "/usr/local/lib/python3.6/dist-packages/sklearn/svm/base.py:931: ConvergenceWarning: Liblinear failed to converge, increase the number of iterations.\n",
            "  \"the number of iterations.\", ConvergenceWarning)\n",
            "/usr/local/lib/python3.6/dist-packages/sklearn/svm/base.py:931: ConvergenceWarning: Liblinear failed to converge, increase the number of iterations.\n",
            "  \"the number of iterations.\", ConvergenceWarning)\n",
            "/usr/local/lib/python3.6/dist-packages/sklearn/svm/base.py:931: ConvergenceWarning: Liblinear failed to converge, increase the number of iterations.\n",
            "  \"the number of iterations.\", ConvergenceWarning)\n",
            "/usr/local/lib/python3.6/dist-packages/sklearn/svm/base.py:931: ConvergenceWarning: Liblinear failed to converge, increase the number of iterations.\n",
            "  \"the number of iterations.\", ConvergenceWarning)\n",
            "/usr/local/lib/python3.6/dist-packages/sklearn/svm/base.py:931: ConvergenceWarning: Liblinear failed to converge, increase the number of iterations.\n",
            "  \"the number of iterations.\", ConvergenceWarning)\n",
            "/usr/local/lib/python3.6/dist-packages/sklearn/svm/base.py:931: ConvergenceWarning: Liblinear failed to converge, increase the number of iterations.\n",
            "  \"the number of iterations.\", ConvergenceWarning)\n",
            "/usr/local/lib/python3.6/dist-packages/sklearn/svm/base.py:931: ConvergenceWarning: Liblinear failed to converge, increase the number of iterations.\n",
            "  \"the number of iterations.\", ConvergenceWarning)\n",
            "/usr/local/lib/python3.6/dist-packages/sklearn/svm/base.py:931: ConvergenceWarning: Liblinear failed to converge, increase the number of iterations.\n",
            "  \"the number of iterations.\", ConvergenceWarning)\n",
            "/usr/local/lib/python3.6/dist-packages/sklearn/svm/base.py:931: ConvergenceWarning: Liblinear failed to converge, increase the number of iterations.\n",
            "  \"the number of iterations.\", ConvergenceWarning)\n",
            "/usr/local/lib/python3.6/dist-packages/sklearn/svm/base.py:931: ConvergenceWarning: Liblinear failed to converge, increase the number of iterations.\n",
            "  \"the number of iterations.\", ConvergenceWarning)\n",
            "/usr/local/lib/python3.6/dist-packages/sklearn/svm/base.py:931: ConvergenceWarning: Liblinear failed to converge, increase the number of iterations.\n",
            "  \"the number of iterations.\", ConvergenceWarning)\n",
            "/usr/local/lib/python3.6/dist-packages/sklearn/svm/base.py:931: ConvergenceWarning: Liblinear failed to converge, increase the number of iterations.\n",
            "  \"the number of iterations.\", ConvergenceWarning)\n",
            "/usr/local/lib/python3.6/dist-packages/sklearn/svm/base.py:931: ConvergenceWarning: Liblinear failed to converge, increase the number of iterations.\n",
            "  \"the number of iterations.\", ConvergenceWarning)\n",
            "/usr/local/lib/python3.6/dist-packages/sklearn/svm/base.py:931: ConvergenceWarning: Liblinear failed to converge, increase the number of iterations.\n",
            "  \"the number of iterations.\", ConvergenceWarning)\n",
            "/usr/local/lib/python3.6/dist-packages/sklearn/svm/base.py:931: ConvergenceWarning: Liblinear failed to converge, increase the number of iterations.\n",
            "  \"the number of iterations.\", ConvergenceWarning)\n",
            "/usr/local/lib/python3.6/dist-packages/sklearn/svm/base.py:931: ConvergenceWarning: Liblinear failed to converge, increase the number of iterations.\n",
            "  \"the number of iterations.\", ConvergenceWarning)\n",
            "/usr/local/lib/python3.6/dist-packages/sklearn/svm/base.py:931: ConvergenceWarning: Liblinear failed to converge, increase the number of iterations.\n",
            "  \"the number of iterations.\", ConvergenceWarning)\n",
            "/usr/local/lib/python3.6/dist-packages/sklearn/svm/base.py:931: ConvergenceWarning: Liblinear failed to converge, increase the number of iterations.\n",
            "  \"the number of iterations.\", ConvergenceWarning)\n",
            "/usr/local/lib/python3.6/dist-packages/sklearn/svm/base.py:931: ConvergenceWarning: Liblinear failed to converge, increase the number of iterations.\n",
            "  \"the number of iterations.\", ConvergenceWarning)\n",
            "/usr/local/lib/python3.6/dist-packages/sklearn/svm/base.py:931: ConvergenceWarning: Liblinear failed to converge, increase the number of iterations.\n",
            "  \"the number of iterations.\", ConvergenceWarning)\n",
            "/usr/local/lib/python3.6/dist-packages/sklearn/svm/base.py:931: ConvergenceWarning: Liblinear failed to converge, increase the number of iterations.\n",
            "  \"the number of iterations.\", ConvergenceWarning)\n",
            "/usr/local/lib/python3.6/dist-packages/sklearn/svm/base.py:931: ConvergenceWarning: Liblinear failed to converge, increase the number of iterations.\n",
            "  \"the number of iterations.\", ConvergenceWarning)\n",
            "/usr/local/lib/python3.6/dist-packages/sklearn/svm/base.py:931: ConvergenceWarning: Liblinear failed to converge, increase the number of iterations.\n",
            "  \"the number of iterations.\", ConvergenceWarning)\n",
            "/usr/local/lib/python3.6/dist-packages/sklearn/svm/base.py:931: ConvergenceWarning: Liblinear failed to converge, increase the number of iterations.\n",
            "  \"the number of iterations.\", ConvergenceWarning)\n",
            "/usr/local/lib/python3.6/dist-packages/sklearn/svm/base.py:931: ConvergenceWarning: Liblinear failed to converge, increase the number of iterations.\n",
            "  \"the number of iterations.\", ConvergenceWarning)\n",
            "/usr/local/lib/python3.6/dist-packages/sklearn/svm/base.py:931: ConvergenceWarning: Liblinear failed to converge, increase the number of iterations.\n",
            "  \"the number of iterations.\", ConvergenceWarning)\n"
          ],
          "name": "stderr"
        }
      ]
    },
    {
      "metadata": {
        "id": "yWibE1Ru45yj",
        "colab_type": "code",
        "outputId": "71ad0391-0f91-498c-bc44-478e611434b7",
        "colab": {
          "base_uri": "https://localhost:8080/",
          "height": 34
        }
      },
      "cell_type": "code",
      "source": [
        " print(opt_gamma)"
      ],
      "execution_count": 63,
      "outputs": [
        {
          "output_type": "stream",
          "text": [
            "11.497569953977356\n"
          ],
          "name": "stdout"
        }
      ]
    },
    {
      "metadata": {
        "id": "IYbVIbd_2EEG",
        "colab_type": "code",
        "outputId": "b8cb1df4-e6ad-4130-b4e8-a746555a99cd",
        "colab": {
          "base_uri": "https://localhost:8080/",
          "height": 1017
        }
      },
      "cell_type": "code",
      "source": [
        "from sklearn.pipeline import Pipeline\n",
        "from sklearn.svm import SVC\n",
        "pipeline_opt = Pipeline([\n",
        "    ('vect', CountVectorizer(stop_words='english', min_df=3, analyzer=stem_rmv_punc)),\n",
        "    ('tfidf', TfidfTransformer()),\n",
        "    ('reduce_dim', TruncatedSVD(n_components=50, random_state=42)),\n",
        "    ('toarr', SparseToDenseArray()),\n",
        "    ('clf', SVC(kernel='linear', C=opt_gamma, random_state=42)),\n",
        "])\n",
        "fit_predict_and_plot(pipeline_opt, train_dataset.data, binary_train_labels, test_dataset.data, binary_test_labels)"
      ],
      "execution_count": 0,
      "outputs": [
        {
          "output_type": "stream",
          "text": [
            "Accuracy =  0.9746031746031746\n",
            "Recall =  0.980503144654088\n",
            "Precision =  0.9695273631840796\n",
            "F-1 Score =  0.9749843652282676\n",
            "Confusion matrix, without normalization\n",
            "[[1511   49]\n",
            " [  31 1559]]\n",
            "Normalized confusion matrix\n",
            "[[0.97 0.03]\n",
            " [0.02 0.98]]\n"
          ],
          "name": "stdout"
        },
        {
          "output_type": "display_data",
          "data": {
            "image/png": "[encoded data removed]",
            "text/plain": [
              "<Figure size 432x288 with 1 Axes>"
            ]
          },
          "metadata": {
            "tags": []
          }
        },
        {
          "output_type": "display_data",
          "data": {
            "image/png": "[encoded data removed]",
            "text/plain": [
              "<Figure size 432x288 with 2 Axes>"
            ]
          },
          "metadata": {
            "tags": []
          }
        },
        {
          "output_type": "display_data",
          "data": {
            "image/png": "[encoded data removed]",
            "text/plain": [
              "<Figure size 432x288 with 2 Axes>"
            ]
          },
          "metadata": {
            "tags": []
          }
        }
      ]
    },
    {
      "metadata": {
        "id": "MJyw4-DS-vsD",
        "colab_type": "text"
      },
      "cell_type": "markdown",
      "source": [
        "#### Question 5: Logistic Regression"
      ]
    },
    {
      "metadata": {
        "id": "1uwj0Nbxs_t2",
        "colab_type": "text"
      },
      "cell_type": "markdown",
      "source": [
        "**Logistic Classifier Without Regularization**  \n",
        "The logistic regression model is another method of performing binary classification. We first trained a logistic classifier without regularization. We did this by setting the value of C in the `sklearn.linear_model.LogisticRegression` function to a very large value. C is the inverse of regularization strength; like in support vector machines, smaller values specify stronger regularization. Thus, we set `C=100000000` to effectively ignore regularization. We also evaluated the classification quality of the logistic classifier without regularization using the same metrics as from the SVM classifiers."
      ]
    },
    {
      "metadata": {
        "id": "riofUGvl-2q-",
        "colab_type": "code",
        "outputId": "3c3bb1dd-98a8-4fc9-9541-420ed9143390",
        "colab": {
          "base_uri": "https://localhost:8080/",
          "height": 71
        }
      },
      "cell_type": "code",
      "source": [
        "from sklearn.linear_model import LogisticRegression\n",
        "#sklearn.linear_model.LogisticRegression\n",
        "\n",
        "pipeline_logistics = Pipeline([\n",
        "    ('vect', CountVectorizer(stop_words='english', min_df=3, analyzer=stem_rmv_punc)),\n",
        "    ('tfidf', TfidfTransformer()),\n",
        "    ('reduce_dim', TruncatedSVD(n_components=50, random_state=42)),\n",
        "    ('toarr', SparseToDenseArray()),\n",
        "    ('clf', LogisticRegression(C=100000000)), #Use large gamma to effectively ignore regularization\n",
        "])\n",
        "\n",
        "fit_predict_and_plot(pipeline_logistics, train_dataset.data, binary_train_labels, test_dataset.data, binary_test_labels)"
      ],
      "execution_count": 0,
      "outputs": [
        {
          "output_type": "stream",
          "text": [
            "/usr/local/lib/python3.6/dist-packages/sklearn/linear_model/logistic.py:433: FutureWarning: Default solver will be changed to 'lbfgs' in 0.22. Specify a solver to silence this warning.\n",
            "  FutureWarning)\n"
          ],
          "name": "stderr"
        }
      ]
    },
    {
      "metadata": {
        "id": "8_JHRSac22fm",
        "colab_type": "text"
      },
      "cell_type": "markdown",
      "source": [
        "**Logistic Classifier with L1 and L2 Regularization**"
      ]
    },
    {
      "metadata": {
        "id": "_SeERS4U3MKt",
        "colab_type": "text"
      },
      "cell_type": "markdown",
      "source": [
        "We performed 5-fold cross validation to find the best regularization strength (denoted C) in the range from $10^{-3}$ to $10^3$, for logistic regression with both L1 and L2 regularization. We found the optimal C to be 11.498 for L1 regularization and 30.539 for L2 regularization. \n",
        "We compared the performance of all three logistic classifiers (no regularization, L1 and L2) using the test data. We observed that all three classifiers performed similarly on all measures (precision, recall, accuracy, and F-1 score). \n",
        "\n",
        "*__Questions__: How does the regularization parameter affect the test error? How are the learnt coefficients affected? Why might one be interested in each type of regularization?*  \n",
        "\n",
        "\n",
        "Regularization in logistic regression adds a penalty function that penalizes against model complexity, thus addressing the problem of overfitting. An overfitted model is one that fits the training data very well but does poorly with new (test) data, thus it can result in a high test error. The regularization parameter (L1 or L2) helps control for this. The difference between the L1 and L2 is that L1 is the sum of the absolute values of the weights $w_i$, while L2 is the sum of the square of the weights. L1-norm does not have an analytical solution, while L2-norm does which results in computational efficiency in calculating it. However, the L1-norm calculation is more computationally efficient in cases where we have a sparse matrix. L1 regularization results in sparse outputs (many coefficients with zero values or very small values with few large coefficients) whereas L2 regularization results in non-sparse outputs. The effect of sparcity is that L1 regularization is good for feature selection, while L2 regularization does not have this property.\n",
        "\n",
        "*__Questions__: Both logistic regression and linear SVM are trying to classify data points using a linear decision boundary, then what’s the difference between their ways to find this boundary? Why does their performance differ?*  \n",
        "\n",
        "Logistic regression and linear SVM differ in their loss function; while SVM minimizes hinge loss, logistic regression minimizes logistic loss. Logistic loss diverges faster than hinge loss, so in general logistic regression will be more sensitive to outliers. The difference between their ways to find the boundary is that SVM tries to find the widest possible separating margin, while logistic regression optimizes the log likelihood function, with probabilities modeled by the sigmoid function. We can typically expect SVM to perform marginally better than logistic regression.\n",
        "\n",
        "https://towardsdatascience.com/support-vector-machine-vs-logistic-regression-94cc2975433f\n"
      ]
    },
    {
      "metadata": {
        "id": "z8NXF1WrEcjW",
        "colab_type": "code",
        "colab": {}
      },
      "cell_type": "code",
      "source": [
        "def cross_validation_log(train_data, train_label, penalty):\n",
        "  accuracy = []\n",
        "  ngamma = 100\n",
        "  gamma_test = np.logspace(-3, 3, ngamma)\n",
        "  for gamma in gamma_test:\n",
        "    clf = LogisticRegression(C = gamma, penalty=penalty, random_state=42).fit(train_data, train_label)\n",
        "    cv = ShuffleSplit(n_splits=3, test_size=0.2, random_state=42)\n",
        "    scores = cross_val_score(clf, train_data, train_label, cv=cv, scoring='accuracy') #something go wrong here\n",
        "    accuracy.append(np.mean(scores))\n",
        "  opt_gamma = gamma_test[accuracy.index(max(accuracy))]\n",
        "  return opt_gamma"
      ],
      "execution_count": 0,
      "outputs": []
    },
    {
      "metadata": {
        "id": "1bnxi2hpFJX2",
        "colab_type": "code",
        "colab": {
          "base_uri": "https://localhost:8080/",
          "height": 11189
        },
        "outputId": "ee8766ba-79fe-44af-c1cb-4b6cc9e62a76"
      },
      "cell_type": "code",
      "source": [
        "opt_gamma_l1 = cross_validation_log(lsi_train_matrix, binary_train_labels, 'l1')\n",
        "opt_gamma_l2 = cross_validation_log(lsi_train_matrix, binary_train_labels, 'l2')"
      ],
      "execution_count": 0,
      "outputs": [
        {
          "output_type": "stream",
          "text": [
            "/usr/local/lib/python3.6/dist-packages/sklearn/linear_model/logistic.py:433: FutureWarning: Default solver will be changed to 'lbfgs' in 0.22. Specify a solver to silence this warning.\n",
            "  FutureWarning)\n",
            "/usr/local/lib/python3.6/dist-packages/sklearn/linear_model/logistic.py:433: FutureWarning: Default solver will be changed to 'lbfgs' in 0.22. Specify a solver to silence this warning.\n",
            "  FutureWarning)\n",
            "/usr/local/lib/python3.6/dist-packages/sklearn/linear_model/logistic.py:433: FutureWarning: Default solver will be changed to 'lbfgs' in 0.22. Specify a solver to silence this warning.\n",
            "  FutureWarning)\n",
            "/usr/local/lib/python3.6/dist-packages/sklearn/linear_model/logistic.py:433: FutureWarning: Default solver will be changed to 'lbfgs' in 0.22. Specify a solver to silence this warning.\n",
            "  FutureWarning)\n",
            "/usr/local/lib/python3.6/dist-packages/sklearn/linear_model/logistic.py:433: FutureWarning: Default solver will be changed to 'lbfgs' in 0.22. Specify a solver to silence this warning.\n",
            "  FutureWarning)\n",
            "/usr/local/lib/python3.6/dist-packages/sklearn/linear_model/logistic.py:433: FutureWarning: Default solver will be changed to 'lbfgs' in 0.22. Specify a solver to silence this warning.\n",
            "  FutureWarning)\n",
            "/usr/local/lib/python3.6/dist-packages/sklearn/linear_model/logistic.py:433: FutureWarning: Default solver will be changed to 'lbfgs' in 0.22. Specify a solver to silence this warning.\n",
            "  FutureWarning)\n",
            "/usr/local/lib/python3.6/dist-packages/sklearn/linear_model/logistic.py:433: FutureWarning: Default solver will be changed to 'lbfgs' in 0.22. Specify a solver to silence this warning.\n",
            "  FutureWarning)\n",
            "/usr/local/lib/python3.6/dist-packages/sklearn/linear_model/logistic.py:433: FutureWarning: Default solver will be changed to 'lbfgs' in 0.22. Specify a solver to silence this warning.\n",
            "  FutureWarning)\n",
            "/usr/local/lib/python3.6/dist-packages/sklearn/linear_model/logistic.py:433: FutureWarning: Default solver will be changed to 'lbfgs' in 0.22. Specify a solver to silence this warning.\n",
            "  FutureWarning)\n",
            "/usr/local/lib/python3.6/dist-packages/sklearn/linear_model/logistic.py:433: FutureWarning: Default solver will be changed to 'lbfgs' in 0.22. Specify a solver to silence this warning.\n",
            "  FutureWarning)\n",
            "/usr/local/lib/python3.6/dist-packages/sklearn/linear_model/logistic.py:433: FutureWarning: Default solver will be changed to 'lbfgs' in 0.22. Specify a solver to silence this warning.\n",
            "  FutureWarning)\n",
            "/usr/local/lib/python3.6/dist-packages/sklearn/linear_model/logistic.py:433: FutureWarning: Default solver will be changed to 'lbfgs' in 0.22. Specify a solver to silence this warning.\n",
            "  FutureWarning)\n",
            "/usr/local/lib/python3.6/dist-packages/sklearn/linear_model/logistic.py:433: FutureWarning: Default solver will be changed to 'lbfgs' in 0.22. Specify a solver to silence this warning.\n",
            "  FutureWarning)\n",
            "/usr/local/lib/python3.6/dist-packages/sklearn/linear_model/logistic.py:433: FutureWarning: Default solver will be changed to 'lbfgs' in 0.22. Specify a solver to silence this warning.\n",
            "  FutureWarning)\n",
            "/usr/local/lib/python3.6/dist-packages/sklearn/linear_model/logistic.py:433: FutureWarning: Default solver will be changed to 'lbfgs' in 0.22. Specify a solver to silence this warning.\n",
            "  FutureWarning)\n",
            "/usr/local/lib/python3.6/dist-packages/sklearn/linear_model/logistic.py:433: FutureWarning: Default solver will be changed to 'lbfgs' in 0.22. Specify a solver to silence this warning.\n",
            "  FutureWarning)\n",
            "/usr/local/lib/python3.6/dist-packages/sklearn/linear_model/logistic.py:433: FutureWarning: Default solver will be changed to 'lbfgs' in 0.22. Specify a solver to silence this warning.\n",
            "  FutureWarning)\n",
            "/usr/local/lib/python3.6/dist-packages/sklearn/linear_model/logistic.py:433: FutureWarning: Default solver will be changed to 'lbfgs' in 0.22. Specify a solver to silence this warning.\n",
            "  FutureWarning)\n",
            "/usr/local/lib/python3.6/dist-packages/sklearn/linear_model/logistic.py:433: FutureWarning: Default solver will be changed to 'lbfgs' in 0.22. Specify a solver to silence this warning.\n",
            "  FutureWarning)\n",
            "/usr/local/lib/python3.6/dist-packages/sklearn/linear_model/logistic.py:433: FutureWarning: Default solver will be changed to 'lbfgs' in 0.22. Specify a solver to silence this warning.\n",
            "  FutureWarning)\n",
            "/usr/local/lib/python3.6/dist-packages/sklearn/linear_model/logistic.py:433: FutureWarning: Default solver will be changed to 'lbfgs' in 0.22. Specify a solver to silence this warning.\n",
            "  FutureWarning)\n",
            "/usr/local/lib/python3.6/dist-packages/sklearn/linear_model/logistic.py:433: FutureWarning: Default solver will be changed to 'lbfgs' in 0.22. Specify a solver to silence this warning.\n",
            "  FutureWarning)\n",
            "/usr/local/lib/python3.6/dist-packages/sklearn/linear_model/logistic.py:433: FutureWarning: Default solver will be changed to 'lbfgs' in 0.22. Specify a solver to silence this warning.\n",
            "  FutureWarning)\n",
            "/usr/local/lib/python3.6/dist-packages/sklearn/linear_model/logistic.py:433: FutureWarning: Default solver will be changed to 'lbfgs' in 0.22. Specify a solver to silence this warning.\n",
            "  FutureWarning)\n",
            "/usr/local/lib/python3.6/dist-packages/sklearn/linear_model/logistic.py:433: FutureWarning: Default solver will be changed to 'lbfgs' in 0.22. Specify a solver to silence this warning.\n",
            "  FutureWarning)\n",
            "/usr/local/lib/python3.6/dist-packages/sklearn/linear_model/logistic.py:433: FutureWarning: Default solver will be changed to 'lbfgs' in 0.22. Specify a solver to silence this warning.\n",
            "  FutureWarning)\n",
            "/usr/local/lib/python3.6/dist-packages/sklearn/linear_model/logistic.py:433: FutureWarning: Default solver will be changed to 'lbfgs' in 0.22. Specify a solver to silence this warning.\n",
            "  FutureWarning)\n",
            "/usr/local/lib/python3.6/dist-packages/sklearn/linear_model/logistic.py:433: FutureWarning: Default solver will be changed to 'lbfgs' in 0.22. Specify a solver to silence this warning.\n",
            "  FutureWarning)\n",
            "/usr/local/lib/python3.6/dist-packages/sklearn/linear_model/logistic.py:433: FutureWarning: Default solver will be changed to 'lbfgs' in 0.22. Specify a solver to silence this warning.\n",
            "  FutureWarning)\n",
            "/usr/local/lib/python3.6/dist-packages/sklearn/linear_model/logistic.py:433: FutureWarning: Default solver will be changed to 'lbfgs' in 0.22. Specify a solver to silence this warning.\n",
            "  FutureWarning)\n",
            "/usr/local/lib/python3.6/dist-packages/sklearn/linear_model/logistic.py:433: FutureWarning: Default solver will be changed to 'lbfgs' in 0.22. Specify a solver to silence this warning.\n",
            "  FutureWarning)\n",
            "/usr/local/lib/python3.6/dist-packages/sklearn/linear_model/logistic.py:433: FutureWarning: Default solver will be changed to 'lbfgs' in 0.22. Specify a solver to silence this warning.\n",
            "  FutureWarning)\n",
            "/usr/local/lib/python3.6/dist-packages/sklearn/linear_model/logistic.py:433: FutureWarning: Default solver will be changed to 'lbfgs' in 0.22. Specify a solver to silence this warning.\n",
            "  FutureWarning)\n",
            "/usr/local/lib/python3.6/dist-packages/sklearn/linear_model/logistic.py:433: FutureWarning: Default solver will be changed to 'lbfgs' in 0.22. Specify a solver to silence this warning.\n",
            "  FutureWarning)\n",
            "/usr/local/lib/python3.6/dist-packages/sklearn/linear_model/logistic.py:433: FutureWarning: Default solver will be changed to 'lbfgs' in 0.22. Specify a solver to silence this warning.\n",
            "  FutureWarning)\n",
            "/usr/local/lib/python3.6/dist-packages/sklearn/linear_model/logistic.py:433: FutureWarning: Default solver will be changed to 'lbfgs' in 0.22. Specify a solver to silence this warning.\n",
            "  FutureWarning)\n",
            "/usr/local/lib/python3.6/dist-packages/sklearn/linear_model/logistic.py:433: FutureWarning: Default solver will be changed to 'lbfgs' in 0.22. Specify a solver to silence this warning.\n",
            "  FutureWarning)\n",
            "/usr/local/lib/python3.6/dist-packages/sklearn/linear_model/logistic.py:433: FutureWarning: Default solver will be changed to 'lbfgs' in 0.22. Specify a solver to silence this warning.\n",
            "  FutureWarning)\n",
            "/usr/local/lib/python3.6/dist-packages/sklearn/linear_model/logistic.py:433: FutureWarning: Default solver will be changed to 'lbfgs' in 0.22. Specify a solver to silence this warning.\n",
            "  FutureWarning)\n",
            "/usr/local/lib/python3.6/dist-packages/sklearn/linear_model/logistic.py:433: FutureWarning: Default solver will be changed to 'lbfgs' in 0.22. Specify a solver to silence this warning.\n",
            "  FutureWarning)\n",
            "/usr/local/lib/python3.6/dist-packages/sklearn/linear_model/logistic.py:433: FutureWarning: Default solver will be changed to 'lbfgs' in 0.22. Specify a solver to silence this warning.\n",
            "  FutureWarning)\n",
            "/usr/local/lib/python3.6/dist-packages/sklearn/linear_model/logistic.py:433: FutureWarning: Default solver will be changed to 'lbfgs' in 0.22. Specify a solver to silence this warning.\n",
            "  FutureWarning)\n",
            "/usr/local/lib/python3.6/dist-packages/sklearn/linear_model/logistic.py:433: FutureWarning: Default solver will be changed to 'lbfgs' in 0.22. Specify a solver to silence this warning.\n",
            "  FutureWarning)\n",
            "/usr/local/lib/python3.6/dist-packages/sklearn/linear_model/logistic.py:433: FutureWarning: Default solver will be changed to 'lbfgs' in 0.22. Specify a solver to silence this warning.\n",
            "  FutureWarning)\n",
            "/usr/local/lib/python3.6/dist-packages/sklearn/linear_model/logistic.py:433: FutureWarning: Default solver will be changed to 'lbfgs' in 0.22. Specify a solver to silence this warning.\n",
            "  FutureWarning)\n",
            "/usr/local/lib/python3.6/dist-packages/sklearn/linear_model/logistic.py:433: FutureWarning: Default solver will be changed to 'lbfgs' in 0.22. Specify a solver to silence this warning.\n",
            "  FutureWarning)\n",
            "/usr/local/lib/python3.6/dist-packages/sklearn/linear_model/logistic.py:433: FutureWarning: Default solver will be changed to 'lbfgs' in 0.22. Specify a solver to silence this warning.\n",
            "  FutureWarning)\n",
            "/usr/local/lib/python3.6/dist-packages/sklearn/linear_model/logistic.py:433: FutureWarning: Default solver will be changed to 'lbfgs' in 0.22. Specify a solver to silence this warning.\n",
            "  FutureWarning)\n",
            "/usr/local/lib/python3.6/dist-packages/sklearn/linear_model/logistic.py:433: FutureWarning: Default solver will be changed to 'lbfgs' in 0.22. Specify a solver to silence this warning.\n",
            "  FutureWarning)\n",
            "/usr/local/lib/python3.6/dist-packages/sklearn/linear_model/logistic.py:433: FutureWarning: Default solver will be changed to 'lbfgs' in 0.22. Specify a solver to silence this warning.\n",
            "  FutureWarning)\n",
            "/usr/local/lib/python3.6/dist-packages/sklearn/linear_model/logistic.py:433: FutureWarning: Default solver will be changed to 'lbfgs' in 0.22. Specify a solver to silence this warning.\n",
            "  FutureWarning)\n",
            "/usr/local/lib/python3.6/dist-packages/sklearn/linear_model/logistic.py:433: FutureWarning: Default solver will be changed to 'lbfgs' in 0.22. Specify a solver to silence this warning.\n",
            "  FutureWarning)\n",
            "/usr/local/lib/python3.6/dist-packages/sklearn/linear_model/logistic.py:433: FutureWarning: Default solver will be changed to 'lbfgs' in 0.22. Specify a solver to silence this warning.\n",
            "  FutureWarning)\n",
            "/usr/local/lib/python3.6/dist-packages/sklearn/linear_model/logistic.py:433: FutureWarning: Default solver will be changed to 'lbfgs' in 0.22. Specify a solver to silence this warning.\n",
            "  FutureWarning)\n",
            "/usr/local/lib/python3.6/dist-packages/sklearn/linear_model/logistic.py:433: FutureWarning: Default solver will be changed to 'lbfgs' in 0.22. Specify a solver to silence this warning.\n",
            "  FutureWarning)\n",
            "/usr/local/lib/python3.6/dist-packages/sklearn/linear_model/logistic.py:433: FutureWarning: Default solver will be changed to 'lbfgs' in 0.22. Specify a solver to silence this warning.\n",
            "  FutureWarning)\n",
            "/usr/local/lib/python3.6/dist-packages/sklearn/linear_model/logistic.py:433: FutureWarning: Default solver will be changed to 'lbfgs' in 0.22. Specify a solver to silence this warning.\n",
            "  FutureWarning)\n",
            "/usr/local/lib/python3.6/dist-packages/sklearn/linear_model/logistic.py:433: FutureWarning: Default solver will be changed to 'lbfgs' in 0.22. Specify a solver to silence this warning.\n",
            "  FutureWarning)\n",
            "/usr/local/lib/python3.6/dist-packages/sklearn/linear_model/logistic.py:433: FutureWarning: Default solver will be changed to 'lbfgs' in 0.22. Specify a solver to silence this warning.\n",
            "  FutureWarning)\n",
            "/usr/local/lib/python3.6/dist-packages/sklearn/linear_model/logistic.py:433: FutureWarning: Default solver will be changed to 'lbfgs' in 0.22. Specify a solver to silence this warning.\n",
            "  FutureWarning)\n",
            "/usr/local/lib/python3.6/dist-packages/sklearn/linear_model/logistic.py:433: FutureWarning: Default solver will be changed to 'lbfgs' in 0.22. Specify a solver to silence this warning.\n",
            "  FutureWarning)\n",
            "/usr/local/lib/python3.6/dist-packages/sklearn/linear_model/logistic.py:433: FutureWarning: Default solver will be changed to 'lbfgs' in 0.22. Specify a solver to silence this warning.\n",
            "  FutureWarning)\n",
            "/usr/local/lib/python3.6/dist-packages/sklearn/linear_model/logistic.py:433: FutureWarning: Default solver will be changed to 'lbfgs' in 0.22. Specify a solver to silence this warning.\n",
            "  FutureWarning)\n",
            "/usr/local/lib/python3.6/dist-packages/sklearn/linear_model/logistic.py:433: FutureWarning: Default solver will be changed to 'lbfgs' in 0.22. Specify a solver to silence this warning.\n",
            "  FutureWarning)\n",
            "/usr/local/lib/python3.6/dist-packages/sklearn/linear_model/logistic.py:433: FutureWarning: Default solver will be changed to 'lbfgs' in 0.22. Specify a solver to silence this warning.\n",
            "  FutureWarning)\n",
            "/usr/local/lib/python3.6/dist-packages/sklearn/linear_model/logistic.py:433: FutureWarning: Default solver will be changed to 'lbfgs' in 0.22. Specify a solver to silence this warning.\n",
            "  FutureWarning)\n",
            "/usr/local/lib/python3.6/dist-packages/sklearn/linear_model/logistic.py:433: FutureWarning: Default solver will be changed to 'lbfgs' in 0.22. Specify a solver to silence this warning.\n",
            "  FutureWarning)\n",
            "/usr/local/lib/python3.6/dist-packages/sklearn/linear_model/logistic.py:433: FutureWarning: Default solver will be changed to 'lbfgs' in 0.22. Specify a solver to silence this warning.\n",
            "  FutureWarning)\n",
            "/usr/local/lib/python3.6/dist-packages/sklearn/linear_model/logistic.py:433: FutureWarning: Default solver will be changed to 'lbfgs' in 0.22. Specify a solver to silence this warning.\n",
            "  FutureWarning)\n",
            "/usr/local/lib/python3.6/dist-packages/sklearn/linear_model/logistic.py:433: FutureWarning: Default solver will be changed to 'lbfgs' in 0.22. Specify a solver to silence this warning.\n",
            "  FutureWarning)\n",
            "/usr/local/lib/python3.6/dist-packages/sklearn/linear_model/logistic.py:433: FutureWarning: Default solver will be changed to 'lbfgs' in 0.22. Specify a solver to silence this warning.\n",
            "  FutureWarning)\n",
            "/usr/local/lib/python3.6/dist-packages/sklearn/linear_model/logistic.py:433: FutureWarning: Default solver will be changed to 'lbfgs' in 0.22. Specify a solver to silence this warning.\n",
            "  FutureWarning)\n",
            "/usr/local/lib/python3.6/dist-packages/sklearn/linear_model/logistic.py:433: FutureWarning: Default solver will be changed to 'lbfgs' in 0.22. Specify a solver to silence this warning.\n",
            "  FutureWarning)\n",
            "/usr/local/lib/python3.6/dist-packages/sklearn/linear_model/logistic.py:433: FutureWarning: Default solver will be changed to 'lbfgs' in 0.22. Specify a solver to silence this warning.\n",
            "  FutureWarning)\n",
            "/usr/local/lib/python3.6/dist-packages/sklearn/linear_model/logistic.py:433: FutureWarning: Default solver will be changed to 'lbfgs' in 0.22. Specify a solver to silence this warning.\n",
            "  FutureWarning)\n",
            "/usr/local/lib/python3.6/dist-packages/sklearn/linear_model/logistic.py:433: FutureWarning: Default solver will be changed to 'lbfgs' in 0.22. Specify a solver to silence this warning.\n",
            "  FutureWarning)\n",
            "/usr/local/lib/python3.6/dist-packages/sklearn/linear_model/logistic.py:433: FutureWarning: Default solver will be changed to 'lbfgs' in 0.22. Specify a solver to silence this warning.\n",
            "  FutureWarning)\n",
            "/usr/local/lib/python3.6/dist-packages/sklearn/linear_model/logistic.py:433: FutureWarning: Default solver will be changed to 'lbfgs' in 0.22. Specify a solver to silence this warning.\n",
            "  FutureWarning)\n",
            "/usr/local/lib/python3.6/dist-packages/sklearn/linear_model/logistic.py:433: FutureWarning: Default solver will be changed to 'lbfgs' in 0.22. Specify a solver to silence this warning.\n",
            "  FutureWarning)\n",
            "/usr/local/lib/python3.6/dist-packages/sklearn/linear_model/logistic.py:433: FutureWarning: Default solver will be changed to 'lbfgs' in 0.22. Specify a solver to silence this warning.\n",
            "  FutureWarning)\n",
            "/usr/local/lib/python3.6/dist-packages/sklearn/linear_model/logistic.py:433: FutureWarning: Default solver will be changed to 'lbfgs' in 0.22. Specify a solver to silence this warning.\n",
            "  FutureWarning)\n",
            "/usr/local/lib/python3.6/dist-packages/sklearn/linear_model/logistic.py:433: FutureWarning: Default solver will be changed to 'lbfgs' in 0.22. Specify a solver to silence this warning.\n",
            "  FutureWarning)\n",
            "/usr/local/lib/python3.6/dist-packages/sklearn/linear_model/logistic.py:433: FutureWarning: Default solver will be changed to 'lbfgs' in 0.22. Specify a solver to silence this warning.\n",
            "  FutureWarning)\n",
            "/usr/local/lib/python3.6/dist-packages/sklearn/linear_model/logistic.py:433: FutureWarning: Default solver will be changed to 'lbfgs' in 0.22. Specify a solver to silence this warning.\n",
            "  FutureWarning)\n",
            "/usr/local/lib/python3.6/dist-packages/sklearn/linear_model/logistic.py:433: FutureWarning: Default solver will be changed to 'lbfgs' in 0.22. Specify a solver to silence this warning.\n",
            "  FutureWarning)\n",
            "/usr/local/lib/python3.6/dist-packages/sklearn/linear_model/logistic.py:433: FutureWarning: Default solver will be changed to 'lbfgs' in 0.22. Specify a solver to silence this warning.\n",
            "  FutureWarning)\n",
            "/usr/local/lib/python3.6/dist-packages/sklearn/linear_model/logistic.py:433: FutureWarning: Default solver will be changed to 'lbfgs' in 0.22. Specify a solver to silence this warning.\n",
            "  FutureWarning)\n",
            "/usr/local/lib/python3.6/dist-packages/sklearn/linear_model/logistic.py:433: FutureWarning: Default solver will be changed to 'lbfgs' in 0.22. Specify a solver to silence this warning.\n",
            "  FutureWarning)\n",
            "/usr/local/lib/python3.6/dist-packages/sklearn/linear_model/logistic.py:433: FutureWarning: Default solver will be changed to 'lbfgs' in 0.22. Specify a solver to silence this warning.\n",
            "  FutureWarning)\n",
            "/usr/local/lib/python3.6/dist-packages/sklearn/linear_model/logistic.py:433: FutureWarning: Default solver will be changed to 'lbfgs' in 0.22. Specify a solver to silence this warning.\n",
            "  FutureWarning)\n",
            "/usr/local/lib/python3.6/dist-packages/sklearn/linear_model/logistic.py:433: FutureWarning: Default solver will be changed to 'lbfgs' in 0.22. Specify a solver to silence this warning.\n",
            "  FutureWarning)\n",
            "/usr/local/lib/python3.6/dist-packages/sklearn/linear_model/logistic.py:433: FutureWarning: Default solver will be changed to 'lbfgs' in 0.22. Specify a solver to silence this warning.\n",
            "  FutureWarning)\n",
            "/usr/local/lib/python3.6/dist-packages/sklearn/linear_model/logistic.py:433: FutureWarning: Default solver will be changed to 'lbfgs' in 0.22. Specify a solver to silence this warning.\n",
            "  FutureWarning)\n",
            "/usr/local/lib/python3.6/dist-packages/sklearn/linear_model/logistic.py:433: FutureWarning: Default solver will be changed to 'lbfgs' in 0.22. Specify a solver to silence this warning.\n",
            "  FutureWarning)\n",
            "/usr/local/lib/python3.6/dist-packages/sklearn/linear_model/logistic.py:433: FutureWarning: Default solver will be changed to 'lbfgs' in 0.22. Specify a solver to silence this warning.\n",
            "  FutureWarning)\n",
            "/usr/local/lib/python3.6/dist-packages/sklearn/linear_model/logistic.py:433: FutureWarning: Default solver will be changed to 'lbfgs' in 0.22. Specify a solver to silence this warning.\n",
            "  FutureWarning)\n",
            "/usr/local/lib/python3.6/dist-packages/sklearn/linear_model/logistic.py:433: FutureWarning: Default solver will be changed to 'lbfgs' in 0.22. Specify a solver to silence this warning.\n",
            "  FutureWarning)\n",
            "/usr/local/lib/python3.6/dist-packages/sklearn/linear_model/logistic.py:433: FutureWarning: Default solver will be changed to 'lbfgs' in 0.22. Specify a solver to silence this warning.\n",
            "  FutureWarning)\n",
            "/usr/local/lib/python3.6/dist-packages/sklearn/linear_model/logistic.py:433: FutureWarning: Default solver will be changed to 'lbfgs' in 0.22. Specify a solver to silence this warning.\n",
            "  FutureWarning)\n",
            "/usr/local/lib/python3.6/dist-packages/sklearn/linear_model/logistic.py:433: FutureWarning: Default solver will be changed to 'lbfgs' in 0.22. Specify a solver to silence this warning.\n",
            "  FutureWarning)\n",
            "/usr/local/lib/python3.6/dist-packages/sklearn/linear_model/logistic.py:433: FutureWarning: Default solver will be changed to 'lbfgs' in 0.22. Specify a solver to silence this warning.\n",
            "  FutureWarning)\n",
            "/usr/local/lib/python3.6/dist-packages/sklearn/linear_model/logistic.py:433: FutureWarning: Default solver will be changed to 'lbfgs' in 0.22. Specify a solver to silence this warning.\n",
            "  FutureWarning)\n",
            "/usr/local/lib/python3.6/dist-packages/sklearn/linear_model/logistic.py:433: FutureWarning: Default solver will be changed to 'lbfgs' in 0.22. Specify a solver to silence this warning.\n",
            "  FutureWarning)\n",
            "/usr/local/lib/python3.6/dist-packages/sklearn/linear_model/logistic.py:433: FutureWarning: Default solver will be changed to 'lbfgs' in 0.22. Specify a solver to silence this warning.\n",
            "  FutureWarning)\n",
            "/usr/local/lib/python3.6/dist-packages/sklearn/linear_model/logistic.py:433: FutureWarning: Default solver will be changed to 'lbfgs' in 0.22. Specify a solver to silence this warning.\n",
            "  FutureWarning)\n",
            "/usr/local/lib/python3.6/dist-packages/sklearn/linear_model/logistic.py:433: FutureWarning: Default solver will be changed to 'lbfgs' in 0.22. Specify a solver to silence this warning.\n",
            "  FutureWarning)\n",
            "/usr/local/lib/python3.6/dist-packages/sklearn/linear_model/logistic.py:433: FutureWarning: Default solver will be changed to 'lbfgs' in 0.22. Specify a solver to silence this warning.\n",
            "  FutureWarning)\n",
            "/usr/local/lib/python3.6/dist-packages/sklearn/linear_model/logistic.py:433: FutureWarning: Default solver will be changed to 'lbfgs' in 0.22. Specify a solver to silence this warning.\n",
            "  FutureWarning)\n",
            "/usr/local/lib/python3.6/dist-packages/sklearn/linear_model/logistic.py:433: FutureWarning: Default solver will be changed to 'lbfgs' in 0.22. Specify a solver to silence this warning.\n",
            "  FutureWarning)\n",
            "/usr/local/lib/python3.6/dist-packages/sklearn/linear_model/logistic.py:433: FutureWarning: Default solver will be changed to 'lbfgs' in 0.22. Specify a solver to silence this warning.\n",
            "  FutureWarning)\n",
            "/usr/local/lib/python3.6/dist-packages/sklearn/linear_model/logistic.py:433: FutureWarning: Default solver will be changed to 'lbfgs' in 0.22. Specify a solver to silence this warning.\n",
            "  FutureWarning)\n",
            "/usr/local/lib/python3.6/dist-packages/sklearn/linear_model/logistic.py:433: FutureWarning: Default solver will be changed to 'lbfgs' in 0.22. Specify a solver to silence this warning.\n",
            "  FutureWarning)\n",
            "/usr/local/lib/python3.6/dist-packages/sklearn/linear_model/logistic.py:433: FutureWarning: Default solver will be changed to 'lbfgs' in 0.22. Specify a solver to silence this warning.\n",
            "  FutureWarning)\n",
            "/usr/local/lib/python3.6/dist-packages/sklearn/linear_model/logistic.py:433: FutureWarning: Default solver will be changed to 'lbfgs' in 0.22. Specify a solver to silence this warning.\n",
            "  FutureWarning)\n",
            "/usr/local/lib/python3.6/dist-packages/sklearn/linear_model/logistic.py:433: FutureWarning: Default solver will be changed to 'lbfgs' in 0.22. Specify a solver to silence this warning.\n",
            "  FutureWarning)\n",
            "/usr/local/lib/python3.6/dist-packages/sklearn/linear_model/logistic.py:433: FutureWarning: Default solver will be changed to 'lbfgs' in 0.22. Specify a solver to silence this warning.\n",
            "  FutureWarning)\n",
            "/usr/local/lib/python3.6/dist-packages/sklearn/linear_model/logistic.py:433: FutureWarning: Default solver will be changed to 'lbfgs' in 0.22. Specify a solver to silence this warning.\n",
            "  FutureWarning)\n",
            "/usr/local/lib/python3.6/dist-packages/sklearn/linear_model/logistic.py:433: FutureWarning: Default solver will be changed to 'lbfgs' in 0.22. Specify a solver to silence this warning.\n",
            "  FutureWarning)\n",
            "/usr/local/lib/python3.6/dist-packages/sklearn/linear_model/logistic.py:433: FutureWarning: Default solver will be changed to 'lbfgs' in 0.22. Specify a solver to silence this warning.\n",
            "  FutureWarning)\n",
            "/usr/local/lib/python3.6/dist-packages/sklearn/linear_model/logistic.py:433: FutureWarning: Default solver will be changed to 'lbfgs' in 0.22. Specify a solver to silence this warning.\n",
            "  FutureWarning)\n",
            "/usr/local/lib/python3.6/dist-packages/sklearn/linear_model/logistic.py:433: FutureWarning: Default solver will be changed to 'lbfgs' in 0.22. Specify a solver to silence this warning.\n",
            "  FutureWarning)\n",
            "/usr/local/lib/python3.6/dist-packages/sklearn/linear_model/logistic.py:433: FutureWarning: Default solver will be changed to 'lbfgs' in 0.22. Specify a solver to silence this warning.\n",
            "  FutureWarning)\n",
            "/usr/local/lib/python3.6/dist-packages/sklearn/linear_model/logistic.py:433: FutureWarning: Default solver will be changed to 'lbfgs' in 0.22. Specify a solver to silence this warning.\n",
            "  FutureWarning)\n",
            "/usr/local/lib/python3.6/dist-packages/sklearn/linear_model/logistic.py:433: FutureWarning: Default solver will be changed to 'lbfgs' in 0.22. Specify a solver to silence this warning.\n",
            "  FutureWarning)\n",
            "/usr/local/lib/python3.6/dist-packages/sklearn/linear_model/logistic.py:433: FutureWarning: Default solver will be changed to 'lbfgs' in 0.22. Specify a solver to silence this warning.\n",
            "  FutureWarning)\n",
            "/usr/local/lib/python3.6/dist-packages/sklearn/linear_model/logistic.py:433: FutureWarning: Default solver will be changed to 'lbfgs' in 0.22. Specify a solver to silence this warning.\n",
            "  FutureWarning)\n",
            "/usr/local/lib/python3.6/dist-packages/sklearn/linear_model/logistic.py:433: FutureWarning: Default solver will be changed to 'lbfgs' in 0.22. Specify a solver to silence this warning.\n",
            "  FutureWarning)\n",
            "/usr/local/lib/python3.6/dist-packages/sklearn/linear_model/logistic.py:433: FutureWarning: Default solver will be changed to 'lbfgs' in 0.22. Specify a solver to silence this warning.\n",
            "  FutureWarning)\n",
            "/usr/local/lib/python3.6/dist-packages/sklearn/linear_model/logistic.py:433: FutureWarning: Default solver will be changed to 'lbfgs' in 0.22. Specify a solver to silence this warning.\n",
            "  FutureWarning)\n",
            "/usr/local/lib/python3.6/dist-packages/sklearn/linear_model/logistic.py:433: FutureWarning: Default solver will be changed to 'lbfgs' in 0.22. Specify a solver to silence this warning.\n",
            "  FutureWarning)\n",
            "/usr/local/lib/python3.6/dist-packages/sklearn/linear_model/logistic.py:433: FutureWarning: Default solver will be changed to 'lbfgs' in 0.22. Specify a solver to silence this warning.\n",
            "  FutureWarning)\n",
            "/usr/local/lib/python3.6/dist-packages/sklearn/linear_model/logistic.py:433: FutureWarning: Default solver will be changed to 'lbfgs' in 0.22. Specify a solver to silence this warning.\n",
            "  FutureWarning)\n",
            "/usr/local/lib/python3.6/dist-packages/sklearn/linear_model/logistic.py:433: FutureWarning: Default solver will be changed to 'lbfgs' in 0.22. Specify a solver to silence this warning.\n",
            "  FutureWarning)\n",
            "/usr/local/lib/python3.6/dist-packages/sklearn/linear_model/logistic.py:433: FutureWarning: Default solver will be changed to 'lbfgs' in 0.22. Specify a solver to silence this warning.\n",
            "  FutureWarning)\n",
            "/usr/local/lib/python3.6/dist-packages/sklearn/linear_model/logistic.py:433: FutureWarning: Default solver will be changed to 'lbfgs' in 0.22. Specify a solver to silence this warning.\n",
            "  FutureWarning)\n",
            "/usr/local/lib/python3.6/dist-packages/sklearn/linear_model/logistic.py:433: FutureWarning: Default solver will be changed to 'lbfgs' in 0.22. Specify a solver to silence this warning.\n",
            "  FutureWarning)\n",
            "/usr/local/lib/python3.6/dist-packages/sklearn/linear_model/logistic.py:433: FutureWarning: Default solver will be changed to 'lbfgs' in 0.22. Specify a solver to silence this warning.\n",
            "  FutureWarning)\n",
            "/usr/local/lib/python3.6/dist-packages/sklearn/linear_model/logistic.py:433: FutureWarning: Default solver will be changed to 'lbfgs' in 0.22. Specify a solver to silence this warning.\n",
            "  FutureWarning)\n",
            "/usr/local/lib/python3.6/dist-packages/sklearn/linear_model/logistic.py:433: FutureWarning: Default solver will be changed to 'lbfgs' in 0.22. Specify a solver to silence this warning.\n",
            "  FutureWarning)\n",
            "/usr/local/lib/python3.6/dist-packages/sklearn/linear_model/logistic.py:433: FutureWarning: Default solver will be changed to 'lbfgs' in 0.22. Specify a solver to silence this warning.\n",
            "  FutureWarning)\n",
            "/usr/local/lib/python3.6/dist-packages/sklearn/linear_model/logistic.py:433: FutureWarning: Default solver will be changed to 'lbfgs' in 0.22. Specify a solver to silence this warning.\n",
            "  FutureWarning)\n",
            "/usr/local/lib/python3.6/dist-packages/sklearn/linear_model/logistic.py:433: FutureWarning: Default solver will be changed to 'lbfgs' in 0.22. Specify a solver to silence this warning.\n",
            "  FutureWarning)\n",
            "/usr/local/lib/python3.6/dist-packages/sklearn/linear_model/logistic.py:433: FutureWarning: Default solver will be changed to 'lbfgs' in 0.22. Specify a solver to silence this warning.\n",
            "  FutureWarning)\n",
            "/usr/local/lib/python3.6/dist-packages/sklearn/linear_model/logistic.py:433: FutureWarning: Default solver will be changed to 'lbfgs' in 0.22. Specify a solver to silence this warning.\n",
            "  FutureWarning)\n",
            "/usr/local/lib/python3.6/dist-packages/sklearn/linear_model/logistic.py:433: FutureWarning: Default solver will be changed to 'lbfgs' in 0.22. Specify a solver to silence this warning.\n",
            "  FutureWarning)\n",
            "/usr/local/lib/python3.6/dist-packages/sklearn/linear_model/logistic.py:433: FutureWarning: Default solver will be changed to 'lbfgs' in 0.22. Specify a solver to silence this warning.\n",
            "  FutureWarning)\n",
            "/usr/local/lib/python3.6/dist-packages/sklearn/linear_model/logistic.py:433: FutureWarning: Default solver will be changed to 'lbfgs' in 0.22. Specify a solver to silence this warning.\n",
            "  FutureWarning)\n",
            "/usr/local/lib/python3.6/dist-packages/sklearn/linear_model/logistic.py:433: FutureWarning: Default solver will be changed to 'lbfgs' in 0.22. Specify a solver to silence this warning.\n",
            "  FutureWarning)\n",
            "/usr/local/lib/python3.6/dist-packages/sklearn/linear_model/logistic.py:433: FutureWarning: Default solver will be changed to 'lbfgs' in 0.22. Specify a solver to silence this warning.\n",
            "  FutureWarning)\n",
            "/usr/local/lib/python3.6/dist-packages/sklearn/linear_model/logistic.py:433: FutureWarning: Default solver will be changed to 'lbfgs' in 0.22. Specify a solver to silence this warning.\n",
            "  FutureWarning)\n",
            "/usr/local/lib/python3.6/dist-packages/sklearn/linear_model/logistic.py:433: FutureWarning: Default solver will be changed to 'lbfgs' in 0.22. Specify a solver to silence this warning.\n",
            "  FutureWarning)\n",
            "/usr/local/lib/python3.6/dist-packages/sklearn/linear_model/logistic.py:433: FutureWarning: Default solver will be changed to 'lbfgs' in 0.22. Specify a solver to silence this warning.\n",
            "  FutureWarning)\n",
            "/usr/local/lib/python3.6/dist-packages/sklearn/linear_model/logistic.py:433: FutureWarning: Default solver will be changed to 'lbfgs' in 0.22. Specify a solver to silence this warning.\n",
            "  FutureWarning)\n",
            "/usr/local/lib/python3.6/dist-packages/sklearn/linear_model/logistic.py:433: FutureWarning: Default solver will be changed to 'lbfgs' in 0.22. Specify a solver to silence this warning.\n",
            "  FutureWarning)\n",
            "/usr/local/lib/python3.6/dist-packages/sklearn/linear_model/logistic.py:433: FutureWarning: Default solver will be changed to 'lbfgs' in 0.22. Specify a solver to silence this warning.\n",
            "  FutureWarning)\n",
            "/usr/local/lib/python3.6/dist-packages/sklearn/linear_model/logistic.py:433: FutureWarning: Default solver will be changed to 'lbfgs' in 0.22. Specify a solver to silence this warning.\n",
            "  FutureWarning)\n",
            "/usr/local/lib/python3.6/dist-packages/sklearn/linear_model/logistic.py:433: FutureWarning: Default solver will be changed to 'lbfgs' in 0.22. Specify a solver to silence this warning.\n",
            "  FutureWarning)\n",
            "/usr/local/lib/python3.6/dist-packages/sklearn/linear_model/logistic.py:433: FutureWarning: Default solver will be changed to 'lbfgs' in 0.22. Specify a solver to silence this warning.\n",
            "  FutureWarning)\n",
            "/usr/local/lib/python3.6/dist-packages/sklearn/linear_model/logistic.py:433: FutureWarning: Default solver will be changed to 'lbfgs' in 0.22. Specify a solver to silence this warning.\n",
            "  FutureWarning)\n",
            "/usr/local/lib/python3.6/dist-packages/sklearn/linear_model/logistic.py:433: FutureWarning: Default solver will be changed to 'lbfgs' in 0.22. Specify a solver to silence this warning.\n",
            "  FutureWarning)\n",
            "/usr/local/lib/python3.6/dist-packages/sklearn/linear_model/logistic.py:433: FutureWarning: Default solver will be changed to 'lbfgs' in 0.22. Specify a solver to silence this warning.\n",
            "  FutureWarning)\n",
            "/usr/local/lib/python3.6/dist-packages/sklearn/linear_model/logistic.py:433: FutureWarning: Default solver will be changed to 'lbfgs' in 0.22. Specify a solver to silence this warning.\n",
            "  FutureWarning)\n",
            "/usr/local/lib/python3.6/dist-packages/sklearn/linear_model/logistic.py:433: FutureWarning: Default solver will be changed to 'lbfgs' in 0.22. Specify a solver to silence this warning.\n",
            "  FutureWarning)\n",
            "/usr/local/lib/python3.6/dist-packages/sklearn/linear_model/logistic.py:433: FutureWarning: Default solver will be changed to 'lbfgs' in 0.22. Specify a solver to silence this warning.\n",
            "  FutureWarning)\n",
            "/usr/local/lib/python3.6/dist-packages/sklearn/linear_model/logistic.py:433: FutureWarning: Default solver will be changed to 'lbfgs' in 0.22. Specify a solver to silence this warning.\n",
            "  FutureWarning)\n",
            "/usr/local/lib/python3.6/dist-packages/sklearn/linear_model/logistic.py:433: FutureWarning: Default solver will be changed to 'lbfgs' in 0.22. Specify a solver to silence this warning.\n",
            "  FutureWarning)\n",
            "/usr/local/lib/python3.6/dist-packages/sklearn/linear_model/logistic.py:433: FutureWarning: Default solver will be changed to 'lbfgs' in 0.22. Specify a solver to silence this warning.\n",
            "  FutureWarning)\n",
            "/usr/local/lib/python3.6/dist-packages/sklearn/linear_model/logistic.py:433: FutureWarning: Default solver will be changed to 'lbfgs' in 0.22. Specify a solver to silence this warning.\n",
            "  FutureWarning)\n",
            "/usr/local/lib/python3.6/dist-packages/sklearn/linear_model/logistic.py:433: FutureWarning: Default solver will be changed to 'lbfgs' in 0.22. Specify a solver to silence this warning.\n",
            "  FutureWarning)\n",
            "/usr/local/lib/python3.6/dist-packages/sklearn/linear_model/logistic.py:433: FutureWarning: Default solver will be changed to 'lbfgs' in 0.22. Specify a solver to silence this warning.\n",
            "  FutureWarning)\n",
            "/usr/local/lib/python3.6/dist-packages/sklearn/linear_model/logistic.py:433: FutureWarning: Default solver will be changed to 'lbfgs' in 0.22. Specify a solver to silence this warning.\n",
            "  FutureWarning)\n",
            "/usr/local/lib/python3.6/dist-packages/sklearn/linear_model/logistic.py:433: FutureWarning: Default solver will be changed to 'lbfgs' in 0.22. Specify a solver to silence this warning.\n",
            "  FutureWarning)\n",
            "/usr/local/lib/python3.6/dist-packages/sklearn/linear_model/logistic.py:433: FutureWarning: Default solver will be changed to 'lbfgs' in 0.22. Specify a solver to silence this warning.\n",
            "  FutureWarning)\n",
            "/usr/local/lib/python3.6/dist-packages/sklearn/linear_model/logistic.py:433: FutureWarning: Default solver will be changed to 'lbfgs' in 0.22. Specify a solver to silence this warning.\n",
            "  FutureWarning)\n",
            "/usr/local/lib/python3.6/dist-packages/sklearn/linear_model/logistic.py:433: FutureWarning: Default solver will be changed to 'lbfgs' in 0.22. Specify a solver to silence this warning.\n",
            "  FutureWarning)\n",
            "/usr/local/lib/python3.6/dist-packages/sklearn/linear_model/logistic.py:433: FutureWarning: Default solver will be changed to 'lbfgs' in 0.22. Specify a solver to silence this warning.\n",
            "  FutureWarning)\n",
            "/usr/local/lib/python3.6/dist-packages/sklearn/linear_model/logistic.py:433: FutureWarning: Default solver will be changed to 'lbfgs' in 0.22. Specify a solver to silence this warning.\n",
            "  FutureWarning)\n",
            "/usr/local/lib/python3.6/dist-packages/sklearn/linear_model/logistic.py:433: FutureWarning: Default solver will be changed to 'lbfgs' in 0.22. Specify a solver to silence this warning.\n",
            "  FutureWarning)\n",
            "/usr/local/lib/python3.6/dist-packages/sklearn/linear_model/logistic.py:433: FutureWarning: Default solver will be changed to 'lbfgs' in 0.22. Specify a solver to silence this warning.\n",
            "  FutureWarning)\n",
            "/usr/local/lib/python3.6/dist-packages/sklearn/linear_model/logistic.py:433: FutureWarning: Default solver will be changed to 'lbfgs' in 0.22. Specify a solver to silence this warning.\n",
            "  FutureWarning)\n",
            "/usr/local/lib/python3.6/dist-packages/sklearn/linear_model/logistic.py:433: FutureWarning: Default solver will be changed to 'lbfgs' in 0.22. Specify a solver to silence this warning.\n",
            "  FutureWarning)\n",
            "/usr/local/lib/python3.6/dist-packages/sklearn/linear_model/logistic.py:433: FutureWarning: Default solver will be changed to 'lbfgs' in 0.22. Specify a solver to silence this warning.\n",
            "  FutureWarning)\n",
            "/usr/local/lib/python3.6/dist-packages/sklearn/linear_model/logistic.py:433: FutureWarning: Default solver will be changed to 'lbfgs' in 0.22. Specify a solver to silence this warning.\n",
            "  FutureWarning)\n",
            "/usr/local/lib/python3.6/dist-packages/sklearn/linear_model/logistic.py:433: FutureWarning: Default solver will be changed to 'lbfgs' in 0.22. Specify a solver to silence this warning.\n",
            "  FutureWarning)\n",
            "/usr/local/lib/python3.6/dist-packages/sklearn/linear_model/logistic.py:433: FutureWarning: Default solver will be changed to 'lbfgs' in 0.22. Specify a solver to silence this warning.\n",
            "  FutureWarning)\n",
            "/usr/local/lib/python3.6/dist-packages/sklearn/linear_model/logistic.py:433: FutureWarning: Default solver will be changed to 'lbfgs' in 0.22. Specify a solver to silence this warning.\n",
            "  FutureWarning)\n",
            "/usr/local/lib/python3.6/dist-packages/sklearn/linear_model/logistic.py:433: FutureWarning: Default solver will be changed to 'lbfgs' in 0.22. Specify a solver to silence this warning.\n",
            "  FutureWarning)\n",
            "/usr/local/lib/python3.6/dist-packages/sklearn/linear_model/logistic.py:433: FutureWarning: Default solver will be changed to 'lbfgs' in 0.22. Specify a solver to silence this warning.\n",
            "  FutureWarning)\n",
            "/usr/local/lib/python3.6/dist-packages/sklearn/linear_model/logistic.py:433: FutureWarning: Default solver will be changed to 'lbfgs' in 0.22. Specify a solver to silence this warning.\n",
            "  FutureWarning)\n",
            "/usr/local/lib/python3.6/dist-packages/sklearn/linear_model/logistic.py:433: FutureWarning: Default solver will be changed to 'lbfgs' in 0.22. Specify a solver to silence this warning.\n",
            "  FutureWarning)\n",
            "/usr/local/lib/python3.6/dist-packages/sklearn/linear_model/logistic.py:433: FutureWarning: Default solver will be changed to 'lbfgs' in 0.22. Specify a solver to silence this warning.\n",
            "  FutureWarning)\n",
            "/usr/local/lib/python3.6/dist-packages/sklearn/linear_model/logistic.py:433: FutureWarning: Default solver will be changed to 'lbfgs' in 0.22. Specify a solver to silence this warning.\n",
            "  FutureWarning)\n",
            "/usr/local/lib/python3.6/dist-packages/sklearn/linear_model/logistic.py:433: FutureWarning: Default solver will be changed to 'lbfgs' in 0.22. Specify a solver to silence this warning.\n",
            "  FutureWarning)\n",
            "/usr/local/lib/python3.6/dist-packages/sklearn/linear_model/logistic.py:433: FutureWarning: Default solver will be changed to 'lbfgs' in 0.22. Specify a solver to silence this warning.\n",
            "  FutureWarning)\n",
            "/usr/local/lib/python3.6/dist-packages/sklearn/linear_model/logistic.py:433: FutureWarning: Default solver will be changed to 'lbfgs' in 0.22. Specify a solver to silence this warning.\n",
            "  FutureWarning)\n",
            "/usr/local/lib/python3.6/dist-packages/sklearn/linear_model/logistic.py:433: FutureWarning: Default solver will be changed to 'lbfgs' in 0.22. Specify a solver to silence this warning.\n",
            "  FutureWarning)\n",
            "/usr/local/lib/python3.6/dist-packages/sklearn/linear_model/logistic.py:433: FutureWarning: Default solver will be changed to 'lbfgs' in 0.22. Specify a solver to silence this warning.\n",
            "  FutureWarning)\n",
            "/usr/local/lib/python3.6/dist-packages/sklearn/linear_model/logistic.py:433: FutureWarning: Default solver will be changed to 'lbfgs' in 0.22. Specify a solver to silence this warning.\n",
            "  FutureWarning)\n",
            "/usr/local/lib/python3.6/dist-packages/sklearn/linear_model/logistic.py:433: FutureWarning: Default solver will be changed to 'lbfgs' in 0.22. Specify a solver to silence this warning.\n",
            "  FutureWarning)\n",
            "/usr/local/lib/python3.6/dist-packages/sklearn/linear_model/logistic.py:433: FutureWarning: Default solver will be changed to 'lbfgs' in 0.22. Specify a solver to silence this warning.\n",
            "  FutureWarning)\n",
            "/usr/local/lib/python3.6/dist-packages/sklearn/linear_model/logistic.py:433: FutureWarning: Default solver will be changed to 'lbfgs' in 0.22. Specify a solver to silence this warning.\n",
            "  FutureWarning)\n",
            "/usr/local/lib/python3.6/dist-packages/sklearn/linear_model/logistic.py:433: FutureWarning: Default solver will be changed to 'lbfgs' in 0.22. Specify a solver to silence this warning.\n",
            "  FutureWarning)\n",
            "/usr/local/lib/python3.6/dist-packages/sklearn/linear_model/logistic.py:433: FutureWarning: Default solver will be changed to 'lbfgs' in 0.22. Specify a solver to silence this warning.\n",
            "  FutureWarning)\n",
            "/usr/local/lib/python3.6/dist-packages/sklearn/linear_model/logistic.py:433: FutureWarning: Default solver will be changed to 'lbfgs' in 0.22. Specify a solver to silence this warning.\n",
            "  FutureWarning)\n",
            "/usr/local/lib/python3.6/dist-packages/sklearn/linear_model/logistic.py:433: FutureWarning: Default solver will be changed to 'lbfgs' in 0.22. Specify a solver to silence this warning.\n",
            "  FutureWarning)\n",
            "/usr/local/lib/python3.6/dist-packages/sklearn/linear_model/logistic.py:433: FutureWarning: Default solver will be changed to 'lbfgs' in 0.22. Specify a solver to silence this warning.\n",
            "  FutureWarning)\n",
            "/usr/local/lib/python3.6/dist-packages/sklearn/linear_model/logistic.py:433: FutureWarning: Default solver will be changed to 'lbfgs' in 0.22. Specify a solver to silence this warning.\n",
            "  FutureWarning)\n",
            "/usr/local/lib/python3.6/dist-packages/sklearn/linear_model/logistic.py:433: FutureWarning: Default solver will be changed to 'lbfgs' in 0.22. Specify a solver to silence this warning.\n",
            "  FutureWarning)\n",
            "/usr/local/lib/python3.6/dist-packages/sklearn/linear_model/logistic.py:433: FutureWarning: Default solver will be changed to 'lbfgs' in 0.22. Specify a solver to silence this warning.\n",
            "  FutureWarning)\n",
            "/usr/local/lib/python3.6/dist-packages/sklearn/linear_model/logistic.py:433: FutureWarning: Default solver will be changed to 'lbfgs' in 0.22. Specify a solver to silence this warning.\n",
            "  FutureWarning)\n",
            "/usr/local/lib/python3.6/dist-packages/sklearn/linear_model/logistic.py:433: FutureWarning: Default solver will be changed to 'lbfgs' in 0.22. Specify a solver to silence this warning.\n",
            "  FutureWarning)\n",
            "/usr/local/lib/python3.6/dist-packages/sklearn/linear_model/logistic.py:433: FutureWarning: Default solver will be changed to 'lbfgs' in 0.22. Specify a solver to silence this warning.\n",
            "  FutureWarning)\n",
            "/usr/local/lib/python3.6/dist-packages/sklearn/linear_model/logistic.py:433: FutureWarning: Default solver will be changed to 'lbfgs' in 0.22. Specify a solver to silence this warning.\n",
            "  FutureWarning)\n",
            "/usr/local/lib/python3.6/dist-packages/sklearn/linear_model/logistic.py:433: FutureWarning: Default solver will be changed to 'lbfgs' in 0.22. Specify a solver to silence this warning.\n",
            "  FutureWarning)\n",
            "/usr/local/lib/python3.6/dist-packages/sklearn/linear_model/logistic.py:433: FutureWarning: Default solver will be changed to 'lbfgs' in 0.22. Specify a solver to silence this warning.\n",
            "  FutureWarning)\n",
            "/usr/local/lib/python3.6/dist-packages/sklearn/linear_model/logistic.py:433: FutureWarning: Default solver will be changed to 'lbfgs' in 0.22. Specify a solver to silence this warning.\n",
            "  FutureWarning)\n",
            "/usr/local/lib/python3.6/dist-packages/sklearn/linear_model/logistic.py:433: FutureWarning: Default solver will be changed to 'lbfgs' in 0.22. Specify a solver to silence this warning.\n",
            "  FutureWarning)\n",
            "/usr/local/lib/python3.6/dist-packages/sklearn/linear_model/logistic.py:433: FutureWarning: Default solver will be changed to 'lbfgs' in 0.22. Specify a solver to silence this warning.\n",
            "  FutureWarning)\n",
            "/usr/local/lib/python3.6/dist-packages/sklearn/linear_model/logistic.py:433: FutureWarning: Default solver will be changed to 'lbfgs' in 0.22. Specify a solver to silence this warning.\n",
            "  FutureWarning)\n",
            "/usr/local/lib/python3.6/dist-packages/sklearn/linear_model/logistic.py:433: FutureWarning: Default solver will be changed to 'lbfgs' in 0.22. Specify a solver to silence this warning.\n",
            "  FutureWarning)\n",
            "/usr/local/lib/python3.6/dist-packages/sklearn/linear_model/logistic.py:433: FutureWarning: Default solver will be changed to 'lbfgs' in 0.22. Specify a solver to silence this warning.\n",
            "  FutureWarning)\n",
            "/usr/local/lib/python3.6/dist-packages/sklearn/linear_model/logistic.py:433: FutureWarning: Default solver will be changed to 'lbfgs' in 0.22. Specify a solver to silence this warning.\n",
            "  FutureWarning)\n",
            "/usr/local/lib/python3.6/dist-packages/sklearn/linear_model/logistic.py:433: FutureWarning: Default solver will be changed to 'lbfgs' in 0.22. Specify a solver to silence this warning.\n",
            "  FutureWarning)\n",
            "/usr/local/lib/python3.6/dist-packages/sklearn/linear_model/logistic.py:433: FutureWarning: Default solver will be changed to 'lbfgs' in 0.22. Specify a solver to silence this warning.\n",
            "  FutureWarning)\n",
            "/usr/local/lib/python3.6/dist-packages/sklearn/linear_model/logistic.py:433: FutureWarning: Default solver will be changed to 'lbfgs' in 0.22. Specify a solver to silence this warning.\n",
            "  FutureWarning)\n",
            "/usr/local/lib/python3.6/dist-packages/sklearn/linear_model/logistic.py:433: FutureWarning: Default solver will be changed to 'lbfgs' in 0.22. Specify a solver to silence this warning.\n",
            "  FutureWarning)\n",
            "/usr/local/lib/python3.6/dist-packages/sklearn/linear_model/logistic.py:433: FutureWarning: Default solver will be changed to 'lbfgs' in 0.22. Specify a solver to silence this warning.\n",
            "  FutureWarning)\n",
            "/usr/local/lib/python3.6/dist-packages/sklearn/linear_model/logistic.py:433: FutureWarning: Default solver will be changed to 'lbfgs' in 0.22. Specify a solver to silence this warning.\n",
            "  FutureWarning)\n",
            "/usr/local/lib/python3.6/dist-packages/sklearn/linear_model/logistic.py:433: FutureWarning: Default solver will be changed to 'lbfgs' in 0.22. Specify a solver to silence this warning.\n",
            "  FutureWarning)\n",
            "/usr/local/lib/python3.6/dist-packages/sklearn/linear_model/logistic.py:433: FutureWarning: Default solver will be changed to 'lbfgs' in 0.22. Specify a solver to silence this warning.\n",
            "  FutureWarning)\n",
            "/usr/local/lib/python3.6/dist-packages/sklearn/linear_model/logistic.py:433: FutureWarning: Default solver will be changed to 'lbfgs' in 0.22. Specify a solver to silence this warning.\n",
            "  FutureWarning)\n",
            "/usr/local/lib/python3.6/dist-packages/sklearn/linear_model/logistic.py:433: FutureWarning: Default solver will be changed to 'lbfgs' in 0.22. Specify a solver to silence this warning.\n",
            "  FutureWarning)\n",
            "/usr/local/lib/python3.6/dist-packages/sklearn/linear_model/logistic.py:433: FutureWarning: Default solver will be changed to 'lbfgs' in 0.22. Specify a solver to silence this warning.\n",
            "  FutureWarning)\n",
            "/usr/local/lib/python3.6/dist-packages/sklearn/linear_model/logistic.py:433: FutureWarning: Default solver will be changed to 'lbfgs' in 0.22. Specify a solver to silence this warning.\n",
            "  FutureWarning)\n",
            "/usr/local/lib/python3.6/dist-packages/sklearn/linear_model/logistic.py:433: FutureWarning: Default solver will be changed to 'lbfgs' in 0.22. Specify a solver to silence this warning.\n",
            "  FutureWarning)\n",
            "/usr/local/lib/python3.6/dist-packages/sklearn/linear_model/logistic.py:433: FutureWarning: Default solver will be changed to 'lbfgs' in 0.22. Specify a solver to silence this warning.\n",
            "  FutureWarning)\n",
            "/usr/local/lib/python3.6/dist-packages/sklearn/linear_model/logistic.py:433: FutureWarning: Default solver will be changed to 'lbfgs' in 0.22. Specify a solver to silence this warning.\n",
            "  FutureWarning)\n",
            "/usr/local/lib/python3.6/dist-packages/sklearn/linear_model/logistic.py:433: FutureWarning: Default solver will be changed to 'lbfgs' in 0.22. Specify a solver to silence this warning.\n",
            "  FutureWarning)\n",
            "/usr/local/lib/python3.6/dist-packages/sklearn/linear_model/logistic.py:433: FutureWarning: Default solver will be changed to 'lbfgs' in 0.22. Specify a solver to silence this warning.\n",
            "  FutureWarning)\n",
            "/usr/local/lib/python3.6/dist-packages/sklearn/linear_model/logistic.py:433: FutureWarning: Default solver will be changed to 'lbfgs' in 0.22. Specify a solver to silence this warning.\n",
            "  FutureWarning)\n",
            "/usr/local/lib/python3.6/dist-packages/sklearn/linear_model/logistic.py:433: FutureWarning: Default solver will be changed to 'lbfgs' in 0.22. Specify a solver to silence this warning.\n",
            "  FutureWarning)\n",
            "/usr/local/lib/python3.6/dist-packages/sklearn/linear_model/logistic.py:433: FutureWarning: Default solver will be changed to 'lbfgs' in 0.22. Specify a solver to silence this warning.\n",
            "  FutureWarning)\n",
            "/usr/local/lib/python3.6/dist-packages/sklearn/linear_model/logistic.py:433: FutureWarning: Default solver will be changed to 'lbfgs' in 0.22. Specify a solver to silence this warning.\n",
            "  FutureWarning)\n",
            "/usr/local/lib/python3.6/dist-packages/sklearn/linear_model/logistic.py:433: FutureWarning: Default solver will be changed to 'lbfgs' in 0.22. Specify a solver to silence this warning.\n",
            "  FutureWarning)\n",
            "/usr/local/lib/python3.6/dist-packages/sklearn/linear_model/logistic.py:433: FutureWarning: Default solver will be changed to 'lbfgs' in 0.22. Specify a solver to silence this warning.\n",
            "  FutureWarning)\n",
            "/usr/local/lib/python3.6/dist-packages/sklearn/linear_model/logistic.py:433: FutureWarning: Default solver will be changed to 'lbfgs' in 0.22. Specify a solver to silence this warning.\n",
            "  FutureWarning)\n",
            "/usr/local/lib/python3.6/dist-packages/sklearn/linear_model/logistic.py:433: FutureWarning: Default solver will be changed to 'lbfgs' in 0.22. Specify a solver to silence this warning.\n",
            "  FutureWarning)\n",
            "/usr/local/lib/python3.6/dist-packages/sklearn/linear_model/logistic.py:433: FutureWarning: Default solver will be changed to 'lbfgs' in 0.22. Specify a solver to silence this warning.\n",
            "  FutureWarning)\n",
            "/usr/local/lib/python3.6/dist-packages/sklearn/linear_model/logistic.py:433: FutureWarning: Default solver will be changed to 'lbfgs' in 0.22. Specify a solver to silence this warning.\n",
            "  FutureWarning)\n",
            "/usr/local/lib/python3.6/dist-packages/sklearn/linear_model/logistic.py:433: FutureWarning: Default solver will be changed to 'lbfgs' in 0.22. Specify a solver to silence this warning.\n",
            "  FutureWarning)\n",
            "/usr/local/lib/python3.6/dist-packages/sklearn/linear_model/logistic.py:433: FutureWarning: Default solver will be changed to 'lbfgs' in 0.22. Specify a solver to silence this warning.\n",
            "  FutureWarning)\n",
            "/usr/local/lib/python3.6/dist-packages/sklearn/linear_model/logistic.py:433: FutureWarning: Default solver will be changed to 'lbfgs' in 0.22. Specify a solver to silence this warning.\n",
            "  FutureWarning)\n",
            "/usr/local/lib/python3.6/dist-packages/sklearn/linear_model/logistic.py:433: FutureWarning: Default solver will be changed to 'lbfgs' in 0.22. Specify a solver to silence this warning.\n",
            "  FutureWarning)\n",
            "/usr/local/lib/python3.6/dist-packages/sklearn/linear_model/logistic.py:433: FutureWarning: Default solver will be changed to 'lbfgs' in 0.22. Specify a solver to silence this warning.\n",
            "  FutureWarning)\n",
            "/usr/local/lib/python3.6/dist-packages/sklearn/linear_model/logistic.py:433: FutureWarning: Default solver will be changed to 'lbfgs' in 0.22. Specify a solver to silence this warning.\n",
            "  FutureWarning)\n",
            "/usr/local/lib/python3.6/dist-packages/sklearn/linear_model/logistic.py:433: FutureWarning: Default solver will be changed to 'lbfgs' in 0.22. Specify a solver to silence this warning.\n",
            "  FutureWarning)\n",
            "/usr/local/lib/python3.6/dist-packages/sklearn/linear_model/logistic.py:433: FutureWarning: Default solver will be changed to 'lbfgs' in 0.22. Specify a solver to silence this warning.\n",
            "  FutureWarning)\n",
            "/usr/local/lib/python3.6/dist-packages/sklearn/linear_model/logistic.py:433: FutureWarning: Default solver will be changed to 'lbfgs' in 0.22. Specify a solver to silence this warning.\n",
            "  FutureWarning)\n",
            "/usr/local/lib/python3.6/dist-packages/sklearn/linear_model/logistic.py:433: FutureWarning: Default solver will be changed to 'lbfgs' in 0.22. Specify a solver to silence this warning.\n",
            "  FutureWarning)\n",
            "/usr/local/lib/python3.6/dist-packages/sklearn/linear_model/logistic.py:433: FutureWarning: Default solver will be changed to 'lbfgs' in 0.22. Specify a solver to silence this warning.\n",
            "  FutureWarning)\n",
            "/usr/local/lib/python3.6/dist-packages/sklearn/linear_model/logistic.py:433: FutureWarning: Default solver will be changed to 'lbfgs' in 0.22. Specify a solver to silence this warning.\n",
            "  FutureWarning)\n",
            "/usr/local/lib/python3.6/dist-packages/sklearn/linear_model/logistic.py:433: FutureWarning: Default solver will be changed to 'lbfgs' in 0.22. Specify a solver to silence this warning.\n",
            "  FutureWarning)\n",
            "/usr/local/lib/python3.6/dist-packages/sklearn/linear_model/logistic.py:433: FutureWarning: Default solver will be changed to 'lbfgs' in 0.22. Specify a solver to silence this warning.\n",
            "  FutureWarning)\n",
            "/usr/local/lib/python3.6/dist-packages/sklearn/linear_model/logistic.py:433: FutureWarning: Default solver will be changed to 'lbfgs' in 0.22. Specify a solver to silence this warning.\n",
            "  FutureWarning)\n",
            "/usr/local/lib/python3.6/dist-packages/sklearn/linear_model/logistic.py:433: FutureWarning: Default solver will be changed to 'lbfgs' in 0.22. Specify a solver to silence this warning.\n",
            "  FutureWarning)\n",
            "/usr/local/lib/python3.6/dist-packages/sklearn/linear_model/logistic.py:433: FutureWarning: Default solver will be changed to 'lbfgs' in 0.22. Specify a solver to silence this warning.\n",
            "  FutureWarning)\n",
            "/usr/local/lib/python3.6/dist-packages/sklearn/linear_model/logistic.py:433: FutureWarning: Default solver will be changed to 'lbfgs' in 0.22. Specify a solver to silence this warning.\n",
            "  FutureWarning)\n",
            "/usr/local/lib/python3.6/dist-packages/sklearn/linear_model/logistic.py:433: FutureWarning: Default solver will be changed to 'lbfgs' in 0.22. Specify a solver to silence this warning.\n",
            "  FutureWarning)\n",
            "/usr/local/lib/python3.6/dist-packages/sklearn/linear_model/logistic.py:433: FutureWarning: Default solver will be changed to 'lbfgs' in 0.22. Specify a solver to silence this warning.\n",
            "  FutureWarning)\n",
            "/usr/local/lib/python3.6/dist-packages/sklearn/linear_model/logistic.py:433: FutureWarning: Default solver will be changed to 'lbfgs' in 0.22. Specify a solver to silence this warning.\n",
            "  FutureWarning)\n",
            "/usr/local/lib/python3.6/dist-packages/sklearn/linear_model/logistic.py:433: FutureWarning: Default solver will be changed to 'lbfgs' in 0.22. Specify a solver to silence this warning.\n",
            "  FutureWarning)\n",
            "/usr/local/lib/python3.6/dist-packages/sklearn/linear_model/logistic.py:433: FutureWarning: Default solver will be changed to 'lbfgs' in 0.22. Specify a solver to silence this warning.\n",
            "  FutureWarning)\n",
            "/usr/local/lib/python3.6/dist-packages/sklearn/linear_model/logistic.py:433: FutureWarning: Default solver will be changed to 'lbfgs' in 0.22. Specify a solver to silence this warning.\n",
            "  FutureWarning)\n",
            "/usr/local/lib/python3.6/dist-packages/sklearn/linear_model/logistic.py:433: FutureWarning: Default solver will be changed to 'lbfgs' in 0.22. Specify a solver to silence this warning.\n",
            "  FutureWarning)\n",
            "/usr/local/lib/python3.6/dist-packages/sklearn/linear_model/logistic.py:433: FutureWarning: Default solver will be changed to 'lbfgs' in 0.22. Specify a solver to silence this warning.\n",
            "  FutureWarning)\n",
            "/usr/local/lib/python3.6/dist-packages/sklearn/linear_model/logistic.py:433: FutureWarning: Default solver will be changed to 'lbfgs' in 0.22. Specify a solver to silence this warning.\n",
            "  FutureWarning)\n",
            "/usr/local/lib/python3.6/dist-packages/sklearn/linear_model/logistic.py:433: FutureWarning: Default solver will be changed to 'lbfgs' in 0.22. Specify a solver to silence this warning.\n",
            "  FutureWarning)\n",
            "/usr/local/lib/python3.6/dist-packages/sklearn/linear_model/logistic.py:433: FutureWarning: Default solver will be changed to 'lbfgs' in 0.22. Specify a solver to silence this warning.\n",
            "  FutureWarning)\n",
            "/usr/local/lib/python3.6/dist-packages/sklearn/linear_model/logistic.py:433: FutureWarning: Default solver will be changed to 'lbfgs' in 0.22. Specify a solver to silence this warning.\n",
            "  FutureWarning)\n",
            "/usr/local/lib/python3.6/dist-packages/sklearn/linear_model/logistic.py:433: FutureWarning: Default solver will be changed to 'lbfgs' in 0.22. Specify a solver to silence this warning.\n",
            "  FutureWarning)\n",
            "/usr/local/lib/python3.6/dist-packages/sklearn/linear_model/logistic.py:433: FutureWarning: Default solver will be changed to 'lbfgs' in 0.22. Specify a solver to silence this warning.\n",
            "  FutureWarning)\n",
            "/usr/local/lib/python3.6/dist-packages/sklearn/linear_model/logistic.py:433: FutureWarning: Default solver will be changed to 'lbfgs' in 0.22. Specify a solver to silence this warning.\n",
            "  FutureWarning)\n",
            "/usr/local/lib/python3.6/dist-packages/sklearn/linear_model/logistic.py:433: FutureWarning: Default solver will be changed to 'lbfgs' in 0.22. Specify a solver to silence this warning.\n",
            "  FutureWarning)\n",
            "/usr/local/lib/python3.6/dist-packages/sklearn/linear_model/logistic.py:433: FutureWarning: Default solver will be changed to 'lbfgs' in 0.22. Specify a solver to silence this warning.\n",
            "  FutureWarning)\n",
            "/usr/local/lib/python3.6/dist-packages/sklearn/linear_model/logistic.py:433: FutureWarning: Default solver will be changed to 'lbfgs' in 0.22. Specify a solver to silence this warning.\n",
            "  FutureWarning)\n",
            "/usr/local/lib/python3.6/dist-packages/sklearn/linear_model/logistic.py:433: FutureWarning: Default solver will be changed to 'lbfgs' in 0.22. Specify a solver to silence this warning.\n",
            "  FutureWarning)\n",
            "/usr/local/lib/python3.6/dist-packages/sklearn/linear_model/logistic.py:433: FutureWarning: Default solver will be changed to 'lbfgs' in 0.22. Specify a solver to silence this warning.\n",
            "  FutureWarning)\n",
            "/usr/local/lib/python3.6/dist-packages/sklearn/linear_model/logistic.py:433: FutureWarning: Default solver will be changed to 'lbfgs' in 0.22. Specify a solver to silence this warning.\n",
            "  FutureWarning)\n",
            "/usr/local/lib/python3.6/dist-packages/sklearn/linear_model/logistic.py:433: FutureWarning: Default solver will be changed to 'lbfgs' in 0.22. Specify a solver to silence this warning.\n",
            "  FutureWarning)\n",
            "/usr/local/lib/python3.6/dist-packages/sklearn/linear_model/logistic.py:433: FutureWarning: Default solver will be changed to 'lbfgs' in 0.22. Specify a solver to silence this warning.\n",
            "  FutureWarning)\n",
            "/usr/local/lib/python3.6/dist-packages/sklearn/linear_model/logistic.py:433: FutureWarning: Default solver will be changed to 'lbfgs' in 0.22. Specify a solver to silence this warning.\n",
            "  FutureWarning)\n",
            "/usr/local/lib/python3.6/dist-packages/sklearn/linear_model/logistic.py:433: FutureWarning: Default solver will be changed to 'lbfgs' in 0.22. Specify a solver to silence this warning.\n",
            "  FutureWarning)\n",
            "/usr/local/lib/python3.6/dist-packages/sklearn/linear_model/logistic.py:433: FutureWarning: Default solver will be changed to 'lbfgs' in 0.22. Specify a solver to silence this warning.\n",
            "  FutureWarning)\n",
            "/usr/local/lib/python3.6/dist-packages/sklearn/linear_model/logistic.py:433: FutureWarning: Default solver will be changed to 'lbfgs' in 0.22. Specify a solver to silence this warning.\n",
            "  FutureWarning)\n",
            "/usr/local/lib/python3.6/dist-packages/sklearn/linear_model/logistic.py:433: FutureWarning: Default solver will be changed to 'lbfgs' in 0.22. Specify a solver to silence this warning.\n",
            "  FutureWarning)\n",
            "/usr/local/lib/python3.6/dist-packages/sklearn/linear_model/logistic.py:433: FutureWarning: Default solver will be changed to 'lbfgs' in 0.22. Specify a solver to silence this warning.\n",
            "  FutureWarning)\n",
            "/usr/local/lib/python3.6/dist-packages/sklearn/linear_model/logistic.py:433: FutureWarning: Default solver will be changed to 'lbfgs' in 0.22. Specify a solver to silence this warning.\n",
            "  FutureWarning)\n",
            "/usr/local/lib/python3.6/dist-packages/sklearn/linear_model/logistic.py:433: FutureWarning: Default solver will be changed to 'lbfgs' in 0.22. Specify a solver to silence this warning.\n",
            "  FutureWarning)\n",
            "/usr/local/lib/python3.6/dist-packages/sklearn/linear_model/logistic.py:433: FutureWarning: Default solver will be changed to 'lbfgs' in 0.22. Specify a solver to silence this warning.\n",
            "  FutureWarning)\n",
            "/usr/local/lib/python3.6/dist-packages/sklearn/linear_model/logistic.py:433: FutureWarning: Default solver will be changed to 'lbfgs' in 0.22. Specify a solver to silence this warning.\n",
            "  FutureWarning)\n",
            "/usr/local/lib/python3.6/dist-packages/sklearn/linear_model/logistic.py:433: FutureWarning: Default solver will be changed to 'lbfgs' in 0.22. Specify a solver to silence this warning.\n",
            "  FutureWarning)\n",
            "/usr/local/lib/python3.6/dist-packages/sklearn/linear_model/logistic.py:433: FutureWarning: Default solver will be changed to 'lbfgs' in 0.22. Specify a solver to silence this warning.\n",
            "  FutureWarning)\n",
            "/usr/local/lib/python3.6/dist-packages/sklearn/linear_model/logistic.py:433: FutureWarning: Default solver will be changed to 'lbfgs' in 0.22. Specify a solver to silence this warning.\n",
            "  FutureWarning)\n",
            "/usr/local/lib/python3.6/dist-packages/sklearn/linear_model/logistic.py:433: FutureWarning: Default solver will be changed to 'lbfgs' in 0.22. Specify a solver to silence this warning.\n",
            "  FutureWarning)\n",
            "/usr/local/lib/python3.6/dist-packages/sklearn/linear_model/logistic.py:433: FutureWarning: Default solver will be changed to 'lbfgs' in 0.22. Specify a solver to silence this warning.\n",
            "  FutureWarning)\n",
            "/usr/local/lib/python3.6/dist-packages/sklearn/linear_model/logistic.py:433: FutureWarning: Default solver will be changed to 'lbfgs' in 0.22. Specify a solver to silence this warning.\n",
            "  FutureWarning)\n",
            "/usr/local/lib/python3.6/dist-packages/sklearn/linear_model/logistic.py:433: FutureWarning: Default solver will be changed to 'lbfgs' in 0.22. Specify a solver to silence this warning.\n",
            "  FutureWarning)\n",
            "/usr/local/lib/python3.6/dist-packages/sklearn/linear_model/logistic.py:433: FutureWarning: Default solver will be changed to 'lbfgs' in 0.22. Specify a solver to silence this warning.\n",
            "  FutureWarning)\n",
            "/usr/local/lib/python3.6/dist-packages/sklearn/linear_model/logistic.py:433: FutureWarning: Default solver will be changed to 'lbfgs' in 0.22. Specify a solver to silence this warning.\n",
            "  FutureWarning)\n",
            "/usr/local/lib/python3.6/dist-packages/sklearn/linear_model/logistic.py:433: FutureWarning: Default solver will be changed to 'lbfgs' in 0.22. Specify a solver to silence this warning.\n",
            "  FutureWarning)\n",
            "/usr/local/lib/python3.6/dist-packages/sklearn/linear_model/logistic.py:433: FutureWarning: Default solver will be changed to 'lbfgs' in 0.22. Specify a solver to silence this warning.\n",
            "  FutureWarning)\n",
            "/usr/local/lib/python3.6/dist-packages/sklearn/linear_model/logistic.py:433: FutureWarning: Default solver will be changed to 'lbfgs' in 0.22. Specify a solver to silence this warning.\n",
            "  FutureWarning)\n",
            "/usr/local/lib/python3.6/dist-packages/sklearn/linear_model/logistic.py:433: FutureWarning: Default solver will be changed to 'lbfgs' in 0.22. Specify a solver to silence this warning.\n",
            "  FutureWarning)\n",
            "/usr/local/lib/python3.6/dist-packages/sklearn/linear_model/logistic.py:433: FutureWarning: Default solver will be changed to 'lbfgs' in 0.22. Specify a solver to silence this warning.\n",
            "  FutureWarning)\n",
            "/usr/local/lib/python3.6/dist-packages/sklearn/linear_model/logistic.py:433: FutureWarning: Default solver will be changed to 'lbfgs' in 0.22. Specify a solver to silence this warning.\n",
            "  FutureWarning)\n",
            "/usr/local/lib/python3.6/dist-packages/sklearn/linear_model/logistic.py:433: FutureWarning: Default solver will be changed to 'lbfgs' in 0.22. Specify a solver to silence this warning.\n",
            "  FutureWarning)\n",
            "/usr/local/lib/python3.6/dist-packages/sklearn/linear_model/logistic.py:433: FutureWarning: Default solver will be changed to 'lbfgs' in 0.22. Specify a solver to silence this warning.\n",
            "  FutureWarning)\n",
            "/usr/local/lib/python3.6/dist-packages/sklearn/linear_model/logistic.py:433: FutureWarning: Default solver will be changed to 'lbfgs' in 0.22. Specify a solver to silence this warning.\n",
            "  FutureWarning)\n",
            "/usr/local/lib/python3.6/dist-packages/sklearn/linear_model/logistic.py:433: FutureWarning: Default solver will be changed to 'lbfgs' in 0.22. Specify a solver to silence this warning.\n",
            "  FutureWarning)\n",
            "/usr/local/lib/python3.6/dist-packages/sklearn/linear_model/logistic.py:433: FutureWarning: Default solver will be changed to 'lbfgs' in 0.22. Specify a solver to silence this warning.\n",
            "  FutureWarning)\n",
            "/usr/local/lib/python3.6/dist-packages/sklearn/linear_model/logistic.py:433: FutureWarning: Default solver will be changed to 'lbfgs' in 0.22. Specify a solver to silence this warning.\n",
            "  FutureWarning)\n",
            "/usr/local/lib/python3.6/dist-packages/sklearn/linear_model/logistic.py:433: FutureWarning: Default solver will be changed to 'lbfgs' in 0.22. Specify a solver to silence this warning.\n",
            "  FutureWarning)\n",
            "/usr/local/lib/python3.6/dist-packages/sklearn/linear_model/logistic.py:433: FutureWarning: Default solver will be changed to 'lbfgs' in 0.22. Specify a solver to silence this warning.\n",
            "  FutureWarning)\n",
            "/usr/local/lib/python3.6/dist-packages/sklearn/linear_model/logistic.py:433: FutureWarning: Default solver will be changed to 'lbfgs' in 0.22. Specify a solver to silence this warning.\n",
            "  FutureWarning)\n",
            "/usr/local/lib/python3.6/dist-packages/sklearn/linear_model/logistic.py:433: FutureWarning: Default solver will be changed to 'lbfgs' in 0.22. Specify a solver to silence this warning.\n",
            "  FutureWarning)\n",
            "/usr/local/lib/python3.6/dist-packages/sklearn/linear_model/logistic.py:433: FutureWarning: Default solver will be changed to 'lbfgs' in 0.22. Specify a solver to silence this warning.\n",
            "  FutureWarning)\n",
            "/usr/local/lib/python3.6/dist-packages/sklearn/linear_model/logistic.py:433: FutureWarning: Default solver will be changed to 'lbfgs' in 0.22. Specify a solver to silence this warning.\n",
            "  FutureWarning)\n",
            "/usr/local/lib/python3.6/dist-packages/sklearn/linear_model/logistic.py:433: FutureWarning: Default solver will be changed to 'lbfgs' in 0.22. Specify a solver to silence this warning.\n",
            "  FutureWarning)\n",
            "/usr/local/lib/python3.6/dist-packages/sklearn/linear_model/logistic.py:433: FutureWarning: Default solver will be changed to 'lbfgs' in 0.22. Specify a solver to silence this warning.\n",
            "  FutureWarning)\n"
          ],
          "name": "stderr"
        }
      ]
    },
    {
      "metadata": {
        "id": "3YCeqzKLFZu4",
        "colab_type": "code",
        "colab": {}
      },
      "cell_type": "code",
      "source": [
        "print(opt_gamma_l1)\n",
        "print(opt_gamma_l2)"
      ],
      "execution_count": 0,
      "outputs": []
    },
    {
      "metadata": {
        "id": "46XBnM1pFzTi",
        "colab_type": "code",
        "colab": {}
      },
      "cell_type": "code",
      "source": [
        "pipeline_logistics_l1 = Pipeline([\n",
        "    ('vect', CountVectorizer(stop_words='english', min_df=3, analyzer=stem_rmv_punc)),\n",
        "    ('tfidf', TfidfTransformer()),\n",
        "    ('reduce_dim', TruncatedSVD(n_components=50, random_state=42)),\n",
        "    ('toarr', SparseToDenseArray()),\n",
        "    ('clf', LogisticRegression(C=opt_gamma_l1,penalty='l1')),\n",
        "])\n",
        "\n",
        "pipeline_logistics_l2 = Pipeline([\n",
        "    ('vect', CountVectorizer(stop_words='english', min_df=3, analyzer=stem_rmv_punc)),\n",
        "    ('tfidf', TfidfTransformer()),\n",
        "    ('reduce_dim', TruncatedSVD(n_components=50, random_state=42)),\n",
        "    ('toarr', SparseToDenseArray()),\n",
        "    ('clf', LogisticRegression(C=opt_gamma_l2,penalty='l2')),\n",
        "])"
      ],
      "execution_count": 0,
      "outputs": []
    },
    {
      "metadata": {
        "id": "64pjm6s8GEzm",
        "colab_type": "code",
        "colab": {}
      },
      "cell_type": "code",
      "source": [
        "fit_predict_and_plot(pipeline_logistics_l1, train_dataset.data, binary_train_labels, test_dataset.data, binary_test_labels)"
      ],
      "execution_count": 0,
      "outputs": []
    },
    {
      "metadata": {
        "id": "kOhXuhcJGIUe",
        "colab_type": "code",
        "colab": {}
      },
      "cell_type": "code",
      "source": [
        "fit_predict_and_plot(pipeline_logistics_l2, train_dataset.data, binary_train_labels, test_dataset.data, binary_test_labels)"
      ],
      "execution_count": 0,
      "outputs": []
    },
    {
      "metadata": {
        "id": "4AeMtcPWf0Ao",
        "colab_type": "text"
      },
      "cell_type": "markdown",
      "source": [
        "#### Question 6: Naïve Bayes"
      ]
    },
    {
      "metadata": {
        "id": "4GELAAJL9NVD",
        "colab_type": "text"
      },
      "cell_type": "markdown",
      "source": [
        "Naïve Bayes classifiers use the assumption that features are statistically independent of each other when conditioned by the class the data point belongs to, to simplify the calculation for the Maximum A Posteriori (MAP) estimation of the labels. We trained a Gaussian Naïve Bayes classifier, plotted the ROC curve and reported the confusion matrix. We also calculated the accuracy, recall, precision and F-1 score of this classifier. From the confusion matrix, we noticed that the proportion of documents correctly classified as \"Computer Technology\" was 0.84, which is slightly lower compared with the hard margin SVM and logistic classifiers. We also noticed that the accuracy and precision are slightly lower. This may be due to the assumption of conditional independence."
      ]
    },
    {
      "metadata": {
        "id": "DAyzQzcNfv41",
        "colab_type": "code",
        "colab": {}
      },
      "cell_type": "code",
      "source": [
        "from sklearn.naive_bayes import MultinomialNB\n",
        "from sklearn.naive_bayes import GaussianNB\n",
        "pipeline_GaussianNB = Pipeline([\n",
        "    ('vect', CountVectorizer(stop_words='english', min_df=3, analyzer=stem_rmv_punc)),\n",
        "    ('tfidf', TfidfTransformer()),\n",
        "    ('reduce_dim', TruncatedSVD(n_components=50, random_state=42)),\n",
        "    ('toarr', SparseToDenseArray()),\n",
        "    ('clf', GaussianNB()),\n",
        "])\n",
        "\n",
        "fit_predict_and_plot(pipeline_GaussianNB, train_dataset.data, binary_train_labels, test_dataset.data, binary_test_labels)"
      ],
      "execution_count": 0,
      "outputs": []
    },
    {
      "metadata": {
        "id": "-PGdYG7v-4IQ",
        "colab_type": "text"
      },
      "cell_type": "markdown",
      "source": [
        "#### Question 7: Grid Search of Parameters"
      ]
    },
    {
      "metadata": {
        "id": "pXFuMaZ5_0pW",
        "colab_type": "text"
      },
      "cell_type": "markdown",
      "source": [
        "We performed a grid search with 5-fold cross-validation to compare the following options:  \n",
        "\n",
        "<center>**Table 2**:  Options to Compare</center>\n",
        "\n",
        "| Procedure                | Options                                                                               |\n",
        "|--------------------------|---------------------------------------------------------------------------------------|\n",
        "| Loading Data             | remove \"headers\" and \"footers\" vs. not                                                |\n",
        "| Feature Extraction       | `min_df=3` vs `5`;  use lemmitization vs. not                                         |\n",
        "| Dimensionality Reduction | LSI vs NMF                                                                            |\n",
        "| Classifier               | SVM with the best $\\gamma$ previously found  vs. Logistic Regression vs `GaussianNB` |\n",
        "| Other Options            | Use default                                                                           |"
      ]
    },
    {
      "metadata": {
        "id": "NP5LIrO9-7Qw",
        "colab_type": "code",
        "outputId": "9dc0e187-9f2f-4bc9-f197-44ba3fb22cb0",
        "colab": {
          "base_uri": "https://localhost:8080/",
          "height": 2519
        }
      },
      "cell_type": "code",
      "source": [
        "#compare nmf vs lsi, min_df=3 vs 5, gaussianNB\n",
        "import numpy as np\n",
        "import matplotlib.pyplot as plt\n",
        "from sklearn.model_selection import GridSearchCV\n",
        "from sklearn.pipeline import Pipeline\n",
        "from sklearn.svm import LinearSVC\n",
        "from sklearn.decomposition import TruncatedSVD, NMF\n",
        "from sklearn.naive_bayes import GaussianNB\n",
        "\n",
        "\n",
        "# used to cache results\n",
        "from tempfile import mkdtemp\n",
        "from shutil import rmtree\n",
        "from sklearn.externals.joblib import Memory\n",
        "# print(__doc__)\n",
        "cachedir = mkdtemp()\n",
        "memory = Memory(cachedir=cachedir, verbose=0)\n",
        "\n",
        "\n",
        "pipeline = Pipeline([\n",
        "    ('vect', CountVectorizer(min_df=3, stop_words='english', analyzer=stem_rmv_punc)),\n",
        "    ('tfidf', TfidfTransformer()),\n",
        "    ('reduce_dim', TruncatedSVD(random_state=42)),\n",
        "    ('clf', GaussianNB()),\n",
        "],\n",
        "memory=memory\n",
        ")\n",
        "\n",
        "\n",
        "\n",
        "# #N_FEATURES_OPTIONS = [10, 50]\n",
        "# N_FEATURES_OPTIONS = [10]\n",
        "# #C_OPTIONS = [0.1, 1, 10]\n",
        "# C_OPTIONS = [0.1]\n",
        "\n",
        "\n",
        "# param_grid = [\n",
        "#     {\n",
        "#         'vect__min_df': [3, 5],\n",
        "#         'reduce_dim': [TruncatedSVD(), NMF()],\n",
        "#         'reduce_dim__n_components': N_FEATURES_OPTIONS,\n",
        "#         'clf': [LinearSVC()],\n",
        "#         'clf__C': C_OPTIONS\n",
        "#     },\n",
        "#     {\n",
        "#         'vect__min_df': [3, 5],\n",
        "#         'reduce_dim': [TruncatedSVD(), NMF()],\n",
        "#         'reduce_dim__n_components': N_FEATURES_OPTIONS,\n",
        "#         'clf': [GaussianNB()]\n",
        "#     },\n",
        "# ]\n",
        "\n",
        "\n",
        "param_grid = [\n",
        "    {\n",
        "        'vect__min_df': [3, 5],\n",
        "        'reduce_dim': [TruncatedSVD(n_components=50), NMF(n_components=50)],\n",
        "        'clf': [LinearSVC(C=23),LogisticRegression(C=30.5,penalty='l2'),GaussianNB()],\n",
        "    },\n",
        "]\n",
        "\n",
        "grid = GridSearchCV(pipeline, cv=5, n_jobs=1, param_grid=param_grid, scoring='accuracy')\n",
        "grid.fit(train_dataset.data, binary_train_labels)\n",
        "#rmtree(cachedir)"
      ],
      "execution_count": 53,
      "outputs": [
        {
          "output_type": "stream",
          "text": [
            "/usr/local/lib/python3.6/dist-packages/ipykernel_launcher.py:16: DeprecationWarning: The 'cachedir' parameter has been deprecated in version 0.12 and will be removed in version 0.14.\n",
            "You provided \"cachedir='/tmp/tmp62fkwiot'\", use \"location='/tmp/tmp62fkwiot'\" instead.\n",
            "  app.launch_new_instance()\n",
            "/usr/local/lib/python3.6/dist-packages/sklearn/pipeline.py:230: UserWarning: Persisting input arguments took 2.48s to run.\n",
            "If this happens often in your code, it can cause performance problems \n",
            "(results will be correct in all cases). \n",
            "The reason for this is probably some large input arguments for a wrapped\n",
            " function (e.g. large strings).\n",
            "THIS IS A JOBLIB ISSUE. If you can, kindly provide the joblib's team with an\n",
            " example so that they can fix the problem.\n",
            "  **fit_params_steps[name])\n",
            "/usr/local/lib/python3.6/dist-packages/sklearn/pipeline.py:230: UserWarning: Persisting input arguments took 2.29s to run.\n",
            "If this happens often in your code, it can cause performance problems \n",
            "(results will be correct in all cases). \n",
            "The reason for this is probably some large input arguments for a wrapped\n",
            " function (e.g. large strings).\n",
            "THIS IS A JOBLIB ISSUE. If you can, kindly provide the joblib's team with an\n",
            " example so that they can fix the problem.\n",
            "  **fit_params_steps[name])\n",
            "/usr/local/lib/python3.6/dist-packages/sklearn/pipeline.py:230: UserWarning: Persisting input arguments took 2.36s to run.\n",
            "If this happens often in your code, it can cause performance problems \n",
            "(results will be correct in all cases). \n",
            "The reason for this is probably some large input arguments for a wrapped\n",
            " function (e.g. large strings).\n",
            "THIS IS A JOBLIB ISSUE. If you can, kindly provide the joblib's team with an\n",
            " example so that they can fix the problem.\n",
            "  **fit_params_steps[name])\n",
            "/usr/local/lib/python3.6/dist-packages/sklearn/pipeline.py:230: UserWarning: Persisting input arguments took 2.32s to run.\n",
            "If this happens often in your code, it can cause performance problems \n",
            "(results will be correct in all cases). \n",
            "The reason for this is probably some large input arguments for a wrapped\n",
            " function (e.g. large strings).\n",
            "THIS IS A JOBLIB ISSUE. If you can, kindly provide the joblib's team with an\n",
            " example so that they can fix the problem.\n",
            "  **fit_params_steps[name])\n",
            "/usr/local/lib/python3.6/dist-packages/sklearn/pipeline.py:230: UserWarning: Persisting input arguments took 2.36s to run.\n",
            "If this happens often in your code, it can cause performance problems \n",
            "(results will be correct in all cases). \n",
            "The reason for this is probably some large input arguments for a wrapped\n",
            " function (e.g. large strings).\n",
            "THIS IS A JOBLIB ISSUE. If you can, kindly provide the joblib's team with an\n",
            " example so that they can fix the problem.\n",
            "  **fit_params_steps[name])\n",
            "/usr/local/lib/python3.6/dist-packages/sklearn/pipeline.py:230: UserWarning: Persisting input arguments took 1.73s to run.\n",
            "If this happens often in your code, it can cause performance problems \n",
            "(results will be correct in all cases). \n",
            "The reason for this is probably some large input arguments for a wrapped\n",
            " function (e.g. large strings).\n",
            "THIS IS A JOBLIB ISSUE. If you can, kindly provide the joblib's team with an\n",
            " example so that they can fix the problem.\n",
            "  **fit_params_steps[name])\n",
            "/usr/local/lib/python3.6/dist-packages/sklearn/pipeline.py:230: UserWarning: Persisting input arguments took 1.53s to run.\n",
            "If this happens often in your code, it can cause performance problems \n",
            "(results will be correct in all cases). \n",
            "The reason for this is probably some large input arguments for a wrapped\n",
            " function (e.g. large strings).\n",
            "THIS IS A JOBLIB ISSUE. If you can, kindly provide the joblib's team with an\n",
            " example so that they can fix the problem.\n",
            "  **fit_params_steps[name])\n",
            "/usr/local/lib/python3.6/dist-packages/sklearn/pipeline.py:230: UserWarning: Persisting input arguments took 1.71s to run.\n",
            "If this happens often in your code, it can cause performance problems \n",
            "(results will be correct in all cases). \n",
            "The reason for this is probably some large input arguments for a wrapped\n",
            " function (e.g. large strings).\n",
            "THIS IS A JOBLIB ISSUE. If you can, kindly provide the joblib's team with an\n",
            " example so that they can fix the problem.\n",
            "  **fit_params_steps[name])\n",
            "/usr/local/lib/python3.6/dist-packages/sklearn/pipeline.py:230: UserWarning: Persisting input arguments took 1.71s to run.\n",
            "If this happens often in your code, it can cause performance problems \n",
            "(results will be correct in all cases). \n",
            "The reason for this is probably some large input arguments for a wrapped\n",
            " function (e.g. large strings).\n",
            "THIS IS A JOBLIB ISSUE. If you can, kindly provide the joblib's team with an\n",
            " example so that they can fix the problem.\n",
            "  **fit_params_steps[name])\n",
            "/usr/local/lib/python3.6/dist-packages/sklearn/pipeline.py:230: UserWarning: Persisting input arguments took 1.55s to run.\n",
            "If this happens often in your code, it can cause performance problems \n",
            "(results will be correct in all cases). \n",
            "The reason for this is probably some large input arguments for a wrapped\n",
            " function (e.g. large strings).\n",
            "THIS IS A JOBLIB ISSUE. If you can, kindly provide the joblib's team with an\n",
            " example so that they can fix the problem.\n",
            "  **fit_params_steps[name])\n",
            "/usr/local/lib/python3.6/dist-packages/sklearn/linear_model/logistic.py:433: FutureWarning: Default solver will be changed to 'lbfgs' in 0.22. Specify a solver to silence this warning.\n",
            "  FutureWarning)\n",
            "/usr/local/lib/python3.6/dist-packages/sklearn/linear_model/logistic.py:433: FutureWarning: Default solver will be changed to 'lbfgs' in 0.22. Specify a solver to silence this warning.\n",
            "  FutureWarning)\n",
            "/usr/local/lib/python3.6/dist-packages/sklearn/linear_model/logistic.py:433: FutureWarning: Default solver will be changed to 'lbfgs' in 0.22. Specify a solver to silence this warning.\n",
            "  FutureWarning)\n",
            "/usr/local/lib/python3.6/dist-packages/sklearn/linear_model/logistic.py:433: FutureWarning: Default solver will be changed to 'lbfgs' in 0.22. Specify a solver to silence this warning.\n",
            "  FutureWarning)\n",
            "/usr/local/lib/python3.6/dist-packages/sklearn/linear_model/logistic.py:433: FutureWarning: Default solver will be changed to 'lbfgs' in 0.22. Specify a solver to silence this warning.\n",
            "  FutureWarning)\n",
            "/usr/local/lib/python3.6/dist-packages/sklearn/linear_model/logistic.py:433: FutureWarning: Default solver will be changed to 'lbfgs' in 0.22. Specify a solver to silence this warning.\n",
            "  FutureWarning)\n",
            "/usr/local/lib/python3.6/dist-packages/sklearn/linear_model/logistic.py:433: FutureWarning: Default solver will be changed to 'lbfgs' in 0.22. Specify a solver to silence this warning.\n",
            "  FutureWarning)\n",
            "/usr/local/lib/python3.6/dist-packages/sklearn/linear_model/logistic.py:433: FutureWarning: Default solver will be changed to 'lbfgs' in 0.22. Specify a solver to silence this warning.\n",
            "  FutureWarning)\n",
            "/usr/local/lib/python3.6/dist-packages/sklearn/linear_model/logistic.py:433: FutureWarning: Default solver will be changed to 'lbfgs' in 0.22. Specify a solver to silence this warning.\n",
            "  FutureWarning)\n",
            "/usr/local/lib/python3.6/dist-packages/sklearn/linear_model/logistic.py:433: FutureWarning: Default solver will be changed to 'lbfgs' in 0.22. Specify a solver to silence this warning.\n",
            "  FutureWarning)\n",
            "/usr/local/lib/python3.6/dist-packages/sklearn/linear_model/logistic.py:433: FutureWarning: Default solver will be changed to 'lbfgs' in 0.22. Specify a solver to silence this warning.\n",
            "  FutureWarning)\n",
            "/usr/local/lib/python3.6/dist-packages/sklearn/linear_model/logistic.py:433: FutureWarning: Default solver will be changed to 'lbfgs' in 0.22. Specify a solver to silence this warning.\n",
            "  FutureWarning)\n",
            "/usr/local/lib/python3.6/dist-packages/sklearn/linear_model/logistic.py:433: FutureWarning: Default solver will be changed to 'lbfgs' in 0.22. Specify a solver to silence this warning.\n",
            "  FutureWarning)\n",
            "/usr/local/lib/python3.6/dist-packages/sklearn/linear_model/logistic.py:433: FutureWarning: Default solver will be changed to 'lbfgs' in 0.22. Specify a solver to silence this warning.\n",
            "  FutureWarning)\n",
            "/usr/local/lib/python3.6/dist-packages/sklearn/linear_model/logistic.py:433: FutureWarning: Default solver will be changed to 'lbfgs' in 0.22. Specify a solver to silence this warning.\n",
            "  FutureWarning)\n",
            "/usr/local/lib/python3.6/dist-packages/sklearn/linear_model/logistic.py:433: FutureWarning: Default solver will be changed to 'lbfgs' in 0.22. Specify a solver to silence this warning.\n",
            "  FutureWarning)\n",
            "/usr/local/lib/python3.6/dist-packages/sklearn/linear_model/logistic.py:433: FutureWarning: Default solver will be changed to 'lbfgs' in 0.22. Specify a solver to silence this warning.\n",
            "  FutureWarning)\n",
            "/usr/local/lib/python3.6/dist-packages/sklearn/linear_model/logistic.py:433: FutureWarning: Default solver will be changed to 'lbfgs' in 0.22. Specify a solver to silence this warning.\n",
            "  FutureWarning)\n",
            "/usr/local/lib/python3.6/dist-packages/sklearn/linear_model/logistic.py:433: FutureWarning: Default solver will be changed to 'lbfgs' in 0.22. Specify a solver to silence this warning.\n",
            "  FutureWarning)\n",
            "/usr/local/lib/python3.6/dist-packages/sklearn/linear_model/logistic.py:433: FutureWarning: Default solver will be changed to 'lbfgs' in 0.22. Specify a solver to silence this warning.\n",
            "  FutureWarning)\n",
            "/usr/local/lib/python3.6/dist-packages/sklearn/pipeline.py:230: UserWarning: Persisting input arguments took 1.84s to run.\n",
            "If this happens often in your code, it can cause performance problems \n",
            "(results will be correct in all cases). \n",
            "The reason for this is probably some large input arguments for a wrapped\n",
            " function (e.g. large strings).\n",
            "THIS IS A JOBLIB ISSUE. If you can, kindly provide the joblib's team with an\n",
            " example so that they can fix the problem.\n",
            "  **fit_params_steps[name])\n"
          ],
          "name": "stderr"
        },
        {
          "output_type": "execute_result",
          "data": {
            "text/plain": [
              "GridSearchCV(cv=5, error_score='raise-deprecating',\n",
              "       estimator=Pipeline(memory=Memory(location=/tmp/tmp62fkwiot/joblib),\n",
              "     steps=[('vect', CountVectorizer(analyzer=<function stem_rmv_punc at 0x7f32a408f158>,\n",
              "        binary=False, decode_error='strict', dtype=<class 'numpy.int64'>,\n",
              "        encoding='utf-8', input='content', lowercase=True, max_df=1.0,\n",
              "        max_features=None, min_df=3, ngram_range=(1, 1), preprocessor=... n_iter=5,\n",
              "       random_state=42, tol=0.0)), ('clf', GaussianNB(priors=None, var_smoothing=1e-09))]),\n",
              "       fit_params=None, iid='warn', n_jobs=1,\n",
              "       param_grid=[{'vect__min_df': [3, 5], 'reduce_dim': [TruncatedSVD(algorithm='randomized', n_components=50, n_iter=5,\n",
              "       random_state=None, tol=0.0), NMF(alpha=0.0, beta_loss='frobenius', init=None, l1_ratio=0.0, max_iter=200,\n",
              "  n_components=50, random_state=None, shuffle=False, solver='cd',\n",
              "  tol...\n",
              "          tol=0.0001, verbose=0, warm_start=False), GaussianNB(priors=None, var_smoothing=1e-09)]}],\n",
              "       pre_dispatch='2*n_jobs', refit=True, return_train_score='warn',\n",
              "       scoring='accuracy', verbose=0)"
            ]
          },
          "metadata": {
            "tags": []
          },
          "execution_count": 53
        }
      ]
    },
    {
      "metadata": {
        "id": "3RbvXOci-7Yo",
        "colab_type": "code",
        "colab": {
          "base_uri": "https://localhost:8080/",
          "height": 1116
        },
        "outputId": "62590a6e-116c-4be6-b848-0121f3ec1976"
      },
      "cell_type": "code",
      "source": [
        "import pandas as pd\n",
        "\n",
        "pd.DataFrame(grid.cv_results_)"
      ],
      "execution_count": 54,
      "outputs": [
        {
          "output_type": "stream",
          "text": [
            "/usr/local/lib/python3.6/dist-packages/sklearn/utils/deprecation.py:125: FutureWarning: You are accessing a training score ('mean_train_score'), which will not be available by default any more in 0.21. If you need training scores, please set return_train_score=True\n",
            "  warnings.warn(*warn_args, **warn_kwargs)\n",
            "/usr/local/lib/python3.6/dist-packages/sklearn/utils/deprecation.py:125: FutureWarning: You are accessing a training score ('split0_train_score'), which will not be available by default any more in 0.21. If you need training scores, please set return_train_score=True\n",
            "  warnings.warn(*warn_args, **warn_kwargs)\n",
            "/usr/local/lib/python3.6/dist-packages/sklearn/utils/deprecation.py:125: FutureWarning: You are accessing a training score ('split1_train_score'), which will not be available by default any more in 0.21. If you need training scores, please set return_train_score=True\n",
            "  warnings.warn(*warn_args, **warn_kwargs)\n",
            "/usr/local/lib/python3.6/dist-packages/sklearn/utils/deprecation.py:125: FutureWarning: You are accessing a training score ('split2_train_score'), which will not be available by default any more in 0.21. If you need training scores, please set return_train_score=True\n",
            "  warnings.warn(*warn_args, **warn_kwargs)\n",
            "/usr/local/lib/python3.6/dist-packages/sklearn/utils/deprecation.py:125: FutureWarning: You are accessing a training score ('split3_train_score'), which will not be available by default any more in 0.21. If you need training scores, please set return_train_score=True\n",
            "  warnings.warn(*warn_args, **warn_kwargs)\n",
            "/usr/local/lib/python3.6/dist-packages/sklearn/utils/deprecation.py:125: FutureWarning: You are accessing a training score ('split4_train_score'), which will not be available by default any more in 0.21. If you need training scores, please set return_train_score=True\n",
            "  warnings.warn(*warn_args, **warn_kwargs)\n",
            "/usr/local/lib/python3.6/dist-packages/sklearn/utils/deprecation.py:125: FutureWarning: You are accessing a training score ('std_train_score'), which will not be available by default any more in 0.21. If you need training scores, please set return_train_score=True\n",
            "  warnings.warn(*warn_args, **warn_kwargs)\n"
          ],
          "name": "stderr"
        },
        {
          "output_type": "execute_result",
          "data": {
            "text/html": [
              "<div>\n",
              "<style scoped>\n",
              "    .dataframe tbody tr th:only-of-type {\n",
              "        vertical-align: middle;\n",
              "    }\n",
              "\n",
              "    .dataframe tbody tr th {\n",
              "        vertical-align: top;\n",
              "    }\n",
              "\n",
              "    .dataframe thead th {\n",
              "        text-align: right;\n",
              "    }\n",
              "</style>\n",
              "<table border=\"1\" class=\"dataframe\">\n",
              "  <thead>\n",
              "    <tr style=\"text-align: right;\">\n",
              "      <th></th>\n",
              "      <th>mean_fit_time</th>\n",
              "      <th>mean_score_time</th>\n",
              "      <th>mean_test_score</th>\n",
              "      <th>mean_train_score</th>\n",
              "      <th>param_clf</th>\n",
              "      <th>param_reduce_dim</th>\n",
              "      <th>param_vect__min_df</th>\n",
              "      <th>params</th>\n",
              "      <th>rank_test_score</th>\n",
              "      <th>split0_test_score</th>\n",
              "      <th>...</th>\n",
              "      <th>split2_test_score</th>\n",
              "      <th>split2_train_score</th>\n",
              "      <th>split3_test_score</th>\n",
              "      <th>split3_train_score</th>\n",
              "      <th>split4_test_score</th>\n",
              "      <th>split4_train_score</th>\n",
              "      <th>std_fit_time</th>\n",
              "      <th>std_score_time</th>\n",
              "      <th>std_test_score</th>\n",
              "      <th>std_train_score</th>\n",
              "    </tr>\n",
              "  </thead>\n",
              "  <tbody>\n",
              "    <tr>\n",
              "      <th>0</th>\n",
              "      <td>69.214196</td>\n",
              "      <td>16.597062</td>\n",
              "      <td>0.975697</td>\n",
              "      <td>0.979079</td>\n",
              "      <td>LinearSVC(C=23, class_weight=None, dual=True, ...</td>\n",
              "      <td>TruncatedSVD(algorithm='randomized', n_compone...</td>\n",
              "      <td>3</td>\n",
              "      <td>{'clf': LinearSVC(C=23, class_weight=None, dua...</td>\n",
              "      <td>3</td>\n",
              "      <td>0.977825</td>\n",
              "      <td>...</td>\n",
              "      <td>0.974657</td>\n",
              "      <td>0.978600</td>\n",
              "      <td>0.972516</td>\n",
              "      <td>0.979398</td>\n",
              "      <td>0.976720</td>\n",
              "      <td>0.978875</td>\n",
              "      <td>0.789637</td>\n",
              "      <td>0.678755</td>\n",
              "      <td>0.001893</td>\n",
              "      <td>0.000308</td>\n",
              "    </tr>\n",
              "    <tr>\n",
              "      <th>1</th>\n",
              "      <td>68.096063</td>\n",
              "      <td>16.308824</td>\n",
              "      <td>0.976543</td>\n",
              "      <td>0.978022</td>\n",
              "      <td>LinearSVC(C=23, class_weight=None, dual=True, ...</td>\n",
              "      <td>TruncatedSVD(algorithm='randomized', n_compone...</td>\n",
              "      <td>5</td>\n",
              "      <td>{'clf': LinearSVC(C=23, class_weight=None, dua...</td>\n",
              "      <td>1</td>\n",
              "      <td>0.974657</td>\n",
              "      <td>...</td>\n",
              "      <td>0.978881</td>\n",
              "      <td>0.979392</td>\n",
              "      <td>0.972516</td>\n",
              "      <td>0.978870</td>\n",
              "      <td>0.978836</td>\n",
              "      <td>0.976763</td>\n",
              "      <td>0.704719</td>\n",
              "      <td>0.830019</td>\n",
              "      <td>0.002535</td>\n",
              "      <td>0.000978</td>\n",
              "    </tr>\n",
              "    <tr>\n",
              "      <th>2</th>\n",
              "      <td>18.936293</td>\n",
              "      <td>16.335270</td>\n",
              "      <td>0.967878</td>\n",
              "      <td>0.968090</td>\n",
              "      <td>LinearSVC(C=23, class_weight=None, dual=True, ...</td>\n",
              "      <td>NMF(alpha=0.0, beta_loss='frobenius', init=Non...</td>\n",
              "      <td>3</td>\n",
              "      <td>{'clf': LinearSVC(C=23, class_weight=None, dua...</td>\n",
              "      <td>5</td>\n",
              "      <td>0.967265</td>\n",
              "      <td>...</td>\n",
              "      <td>0.967265</td>\n",
              "      <td>0.970410</td>\n",
              "      <td>0.964059</td>\n",
              "      <td>0.969625</td>\n",
              "      <td>0.976720</td>\n",
              "      <td>0.968049</td>\n",
              "      <td>5.106947</td>\n",
              "      <td>0.955597</td>\n",
              "      <td>0.004641</td>\n",
              "      <td>0.001741</td>\n",
              "    </tr>\n",
              "    <tr>\n",
              "      <th>3</th>\n",
              "      <td>15.093942</td>\n",
              "      <td>16.077410</td>\n",
              "      <td>0.965131</td>\n",
              "      <td>0.965712</td>\n",
              "      <td>LinearSVC(C=23, class_weight=None, dual=True, ...</td>\n",
              "      <td>NMF(alpha=0.0, beta_loss='frobenius', init=Non...</td>\n",
              "      <td>5</td>\n",
              "      <td>{'clf': LinearSVC(C=23, class_weight=None, dua...</td>\n",
              "      <td>6</td>\n",
              "      <td>0.966209</td>\n",
              "      <td>...</td>\n",
              "      <td>0.967265</td>\n",
              "      <td>0.965654</td>\n",
              "      <td>0.961945</td>\n",
              "      <td>0.963550</td>\n",
              "      <td>0.967196</td>\n",
              "      <td>0.966728</td>\n",
              "      <td>3.372446</td>\n",
              "      <td>0.757005</td>\n",
              "      <td>0.002213</td>\n",
              "      <td>0.001138</td>\n",
              "    </tr>\n",
              "    <tr>\n",
              "      <th>4</th>\n",
              "      <td>0.532353</td>\n",
              "      <td>16.297525</td>\n",
              "      <td>0.975275</td>\n",
              "      <td>0.978075</td>\n",
              "      <td>LogisticRegression(C=30.5, class_weight=None, ...</td>\n",
              "      <td>TruncatedSVD(algorithm='randomized', n_compone...</td>\n",
              "      <td>3</td>\n",
              "      <td>{'clf': LogisticRegression(C=30.5, class_weigh...</td>\n",
              "      <td>4</td>\n",
              "      <td>0.974657</td>\n",
              "      <td>...</td>\n",
              "      <td>0.976769</td>\n",
              "      <td>0.977807</td>\n",
              "      <td>0.972516</td>\n",
              "      <td>0.978077</td>\n",
              "      <td>0.977778</td>\n",
              "      <td>0.978611</td>\n",
              "      <td>0.019681</td>\n",
              "      <td>0.820129</td>\n",
              "      <td>0.001836</td>\n",
              "      <td>0.000377</td>\n",
              "    </tr>\n",
              "    <tr>\n",
              "      <th>5</th>\n",
              "      <td>0.468403</td>\n",
              "      <td>16.224360</td>\n",
              "      <td>0.976120</td>\n",
              "      <td>0.977071</td>\n",
              "      <td>LogisticRegression(C=30.5, class_weight=None, ...</td>\n",
              "      <td>TruncatedSVD(algorithm='randomized', n_compone...</td>\n",
              "      <td>5</td>\n",
              "      <td>{'clf': LogisticRegression(C=30.5, class_weigh...</td>\n",
              "      <td>2</td>\n",
              "      <td>0.975713</td>\n",
              "      <td>...</td>\n",
              "      <td>0.976769</td>\n",
              "      <td>0.978336</td>\n",
              "      <td>0.974630</td>\n",
              "      <td>0.978341</td>\n",
              "      <td>0.976720</td>\n",
              "      <td>0.976763</td>\n",
              "      <td>0.008174</td>\n",
              "      <td>0.952510</td>\n",
              "      <td>0.000847</td>\n",
              "      <td>0.001126</td>\n",
              "    </tr>\n",
              "    <tr>\n",
              "      <th>6</th>\n",
              "      <td>0.498838</td>\n",
              "      <td>16.133167</td>\n",
              "      <td>0.963018</td>\n",
              "      <td>0.961327</td>\n",
              "      <td>LogisticRegression(C=30.5, class_weight=None, ...</td>\n",
              "      <td>NMF(alpha=0.0, beta_loss='frobenius', init=Non...</td>\n",
              "      <td>3</td>\n",
              "      <td>{'clf': LogisticRegression(C=30.5, class_weigh...</td>\n",
              "      <td>7</td>\n",
              "      <td>0.961985</td>\n",
              "      <td>...</td>\n",
              "      <td>0.959873</td>\n",
              "      <td>0.963276</td>\n",
              "      <td>0.963002</td>\n",
              "      <td>0.959852</td>\n",
              "      <td>0.965079</td>\n",
              "      <td>0.961447</td>\n",
              "      <td>0.009321</td>\n",
              "      <td>0.814320</td>\n",
              "      <td>0.001988</td>\n",
              "      <td>0.001441</td>\n",
              "    </tr>\n",
              "    <tr>\n",
              "      <th>7</th>\n",
              "      <td>0.437059</td>\n",
              "      <td>16.241985</td>\n",
              "      <td>0.960693</td>\n",
              "      <td>0.956942</td>\n",
              "      <td>LogisticRegression(C=30.5, class_weight=None, ...</td>\n",
              "      <td>NMF(alpha=0.0, beta_loss='frobenius', init=Non...</td>\n",
              "      <td>5</td>\n",
              "      <td>{'clf': LogisticRegression(C=30.5, class_weigh...</td>\n",
              "      <td>8</td>\n",
              "      <td>0.963041</td>\n",
              "      <td>...</td>\n",
              "      <td>0.956705</td>\n",
              "      <td>0.954293</td>\n",
              "      <td>0.955603</td>\n",
              "      <td>0.950872</td>\n",
              "      <td>0.960847</td>\n",
              "      <td>0.959599</td>\n",
              "      <td>0.008422</td>\n",
              "      <td>0.847838</td>\n",
              "      <td>0.004256</td>\n",
              "      <td>0.005174</td>\n",
              "    </tr>\n",
              "    <tr>\n",
              "      <th>8</th>\n",
              "      <td>0.473759</td>\n",
              "      <td>16.371455</td>\n",
              "      <td>0.907861</td>\n",
              "      <td>0.907703</td>\n",
              "      <td>GaussianNB(priors=None, var_smoothing=1e-09)</td>\n",
              "      <td>TruncatedSVD(algorithm='randomized', n_compone...</td>\n",
              "      <td>3</td>\n",
              "      <td>{'clf': GaussianNB(priors=None, var_smoothing=...</td>\n",
              "      <td>11</td>\n",
              "      <td>0.927138</td>\n",
              "      <td>...</td>\n",
              "      <td>0.910243</td>\n",
              "      <td>0.903567</td>\n",
              "      <td>0.853066</td>\n",
              "      <td>0.870576</td>\n",
              "      <td>0.924868</td>\n",
              "      <td>0.920518</td>\n",
              "      <td>0.018159</td>\n",
              "      <td>0.816626</td>\n",
              "      <td>0.028026</td>\n",
              "      <td>0.019915</td>\n",
              "    </tr>\n",
              "    <tr>\n",
              "      <th>9</th>\n",
              "      <td>0.404577</td>\n",
              "      <td>16.172326</td>\n",
              "      <td>0.896450</td>\n",
              "      <td>0.900411</td>\n",
              "      <td>GaussianNB(priors=None, var_smoothing=1e-09)</td>\n",
              "      <td>TruncatedSVD(algorithm='randomized', n_compone...</td>\n",
              "      <td>5</td>\n",
              "      <td>{'clf': GaussianNB(priors=None, var_smoothing=...</td>\n",
              "      <td>12</td>\n",
              "      <td>0.931362</td>\n",
              "      <td>...</td>\n",
              "      <td>0.873284</td>\n",
              "      <td>0.884544</td>\n",
              "      <td>0.863636</td>\n",
              "      <td>0.882726</td>\n",
              "      <td>0.929101</td>\n",
              "      <td>0.921310</td>\n",
              "      <td>0.007513</td>\n",
              "      <td>0.759934</td>\n",
              "      <td>0.028393</td>\n",
              "      <td>0.018382</td>\n",
              "    </tr>\n",
              "    <tr>\n",
              "      <th>10</th>\n",
              "      <td>0.464703</td>\n",
              "      <td>16.121760</td>\n",
              "      <td>0.945266</td>\n",
              "      <td>0.944685</td>\n",
              "      <td>GaussianNB(priors=None, var_smoothing=1e-09)</td>\n",
              "      <td>NMF(alpha=0.0, beta_loss='frobenius', init=Non...</td>\n",
              "      <td>3</td>\n",
              "      <td>{'clf': GaussianNB(priors=None, var_smoothing=...</td>\n",
              "      <td>10</td>\n",
              "      <td>0.947202</td>\n",
              "      <td>...</td>\n",
              "      <td>0.940866</td>\n",
              "      <td>0.943461</td>\n",
              "      <td>0.936575</td>\n",
              "      <td>0.942948</td>\n",
              "      <td>0.949206</td>\n",
              "      <td>0.946132</td>\n",
              "      <td>0.006334</td>\n",
              "      <td>0.788700</td>\n",
              "      <td>0.005766</td>\n",
              "      <td>0.001248</td>\n",
              "    </tr>\n",
              "    <tr>\n",
              "      <th>11</th>\n",
              "      <td>0.400251</td>\n",
              "      <td>16.373004</td>\n",
              "      <td>0.947168</td>\n",
              "      <td>0.943365</td>\n",
              "      <td>GaussianNB(priors=None, var_smoothing=1e-09)</td>\n",
              "      <td>NMF(alpha=0.0, beta_loss='frobenius', init=Non...</td>\n",
              "      <td>5</td>\n",
              "      <td>{'clf': GaussianNB(priors=None, var_smoothing=...</td>\n",
              "      <td>9</td>\n",
              "      <td>0.956705</td>\n",
              "      <td>...</td>\n",
              "      <td>0.947202</td>\n",
              "      <td>0.941083</td>\n",
              "      <td>0.937632</td>\n",
              "      <td>0.940835</td>\n",
              "      <td>0.941799</td>\n",
              "      <td>0.942963</td>\n",
              "      <td>0.007302</td>\n",
              "      <td>1.036677</td>\n",
              "      <td>0.006913</td>\n",
              "      <td>0.002755</td>\n",
              "    </tr>\n",
              "  </tbody>\n",
              "</table>\n",
              "<p>12 rows × 23 columns</p>\n",
              "</div>"
            ],
            "text/plain": [
              "    mean_fit_time  mean_score_time  mean_test_score  mean_train_score  \\\n",
              "0       69.214196        16.597062         0.975697          0.979079   \n",
              "1       68.096063        16.308824         0.976543          0.978022   \n",
              "2       18.936293        16.335270         0.967878          0.968090   \n",
              "3       15.093942        16.077410         0.965131          0.965712   \n",
              "4        0.532353        16.297525         0.975275          0.978075   \n",
              "5        0.468403        16.224360         0.976120          0.977071   \n",
              "6        0.498838        16.133167         0.963018          0.961327   \n",
              "7        0.437059        16.241985         0.960693          0.956942   \n",
              "8        0.473759        16.371455         0.907861          0.907703   \n",
              "9        0.404577        16.172326         0.896450          0.900411   \n",
              "10       0.464703        16.121760         0.945266          0.944685   \n",
              "11       0.400251        16.373004         0.947168          0.943365   \n",
              "\n",
              "                                            param_clf  \\\n",
              "0   LinearSVC(C=23, class_weight=None, dual=True, ...   \n",
              "1   LinearSVC(C=23, class_weight=None, dual=True, ...   \n",
              "2   LinearSVC(C=23, class_weight=None, dual=True, ...   \n",
              "3   LinearSVC(C=23, class_weight=None, dual=True, ...   \n",
              "4   LogisticRegression(C=30.5, class_weight=None, ...   \n",
              "5   LogisticRegression(C=30.5, class_weight=None, ...   \n",
              "6   LogisticRegression(C=30.5, class_weight=None, ...   \n",
              "7   LogisticRegression(C=30.5, class_weight=None, ...   \n",
              "8        GaussianNB(priors=None, var_smoothing=1e-09)   \n",
              "9        GaussianNB(priors=None, var_smoothing=1e-09)   \n",
              "10       GaussianNB(priors=None, var_smoothing=1e-09)   \n",
              "11       GaussianNB(priors=None, var_smoothing=1e-09)   \n",
              "\n",
              "                                     param_reduce_dim param_vect__min_df  \\\n",
              "0   TruncatedSVD(algorithm='randomized', n_compone...                  3   \n",
              "1   TruncatedSVD(algorithm='randomized', n_compone...                  5   \n",
              "2   NMF(alpha=0.0, beta_loss='frobenius', init=Non...                  3   \n",
              "3   NMF(alpha=0.0, beta_loss='frobenius', init=Non...                  5   \n",
              "4   TruncatedSVD(algorithm='randomized', n_compone...                  3   \n",
              "5   TruncatedSVD(algorithm='randomized', n_compone...                  5   \n",
              "6   NMF(alpha=0.0, beta_loss='frobenius', init=Non...                  3   \n",
              "7   NMF(alpha=0.0, beta_loss='frobenius', init=Non...                  5   \n",
              "8   TruncatedSVD(algorithm='randomized', n_compone...                  3   \n",
              "9   TruncatedSVD(algorithm='randomized', n_compone...                  5   \n",
              "10  NMF(alpha=0.0, beta_loss='frobenius', init=Non...                  3   \n",
              "11  NMF(alpha=0.0, beta_loss='frobenius', init=Non...                  5   \n",
              "\n",
              "                                               params  rank_test_score  \\\n",
              "0   {'clf': LinearSVC(C=23, class_weight=None, dua...                3   \n",
              "1   {'clf': LinearSVC(C=23, class_weight=None, dua...                1   \n",
              "2   {'clf': LinearSVC(C=23, class_weight=None, dua...                5   \n",
              "3   {'clf': LinearSVC(C=23, class_weight=None, dua...                6   \n",
              "4   {'clf': LogisticRegression(C=30.5, class_weigh...                4   \n",
              "5   {'clf': LogisticRegression(C=30.5, class_weigh...                2   \n",
              "6   {'clf': LogisticRegression(C=30.5, class_weigh...                7   \n",
              "7   {'clf': LogisticRegression(C=30.5, class_weigh...                8   \n",
              "8   {'clf': GaussianNB(priors=None, var_smoothing=...               11   \n",
              "9   {'clf': GaussianNB(priors=None, var_smoothing=...               12   \n",
              "10  {'clf': GaussianNB(priors=None, var_smoothing=...               10   \n",
              "11  {'clf': GaussianNB(priors=None, var_smoothing=...                9   \n",
              "\n",
              "    split0_test_score       ...         split2_test_score  split2_train_score  \\\n",
              "0            0.977825       ...                  0.974657            0.978600   \n",
              "1            0.974657       ...                  0.978881            0.979392   \n",
              "2            0.967265       ...                  0.967265            0.970410   \n",
              "3            0.966209       ...                  0.967265            0.965654   \n",
              "4            0.974657       ...                  0.976769            0.977807   \n",
              "5            0.975713       ...                  0.976769            0.978336   \n",
              "6            0.961985       ...                  0.959873            0.963276   \n",
              "7            0.963041       ...                  0.956705            0.954293   \n",
              "8            0.927138       ...                  0.910243            0.903567   \n",
              "9            0.931362       ...                  0.873284            0.884544   \n",
              "10           0.947202       ...                  0.940866            0.943461   \n",
              "11           0.956705       ...                  0.947202            0.941083   \n",
              "\n",
              "    split3_test_score  split3_train_score  split4_test_score  \\\n",
              "0            0.972516            0.979398           0.976720   \n",
              "1            0.972516            0.978870           0.978836   \n",
              "2            0.964059            0.969625           0.976720   \n",
              "3            0.961945            0.963550           0.967196   \n",
              "4            0.972516            0.978077           0.977778   \n",
              "5            0.974630            0.978341           0.976720   \n",
              "6            0.963002            0.959852           0.965079   \n",
              "7            0.955603            0.950872           0.960847   \n",
              "8            0.853066            0.870576           0.924868   \n",
              "9            0.863636            0.882726           0.929101   \n",
              "10           0.936575            0.942948           0.949206   \n",
              "11           0.937632            0.940835           0.941799   \n",
              "\n",
              "    split4_train_score  std_fit_time  std_score_time  std_test_score  \\\n",
              "0             0.978875      0.789637        0.678755        0.001893   \n",
              "1             0.976763      0.704719        0.830019        0.002535   \n",
              "2             0.968049      5.106947        0.955597        0.004641   \n",
              "3             0.966728      3.372446        0.757005        0.002213   \n",
              "4             0.978611      0.019681        0.820129        0.001836   \n",
              "5             0.976763      0.008174        0.952510        0.000847   \n",
              "6             0.961447      0.009321        0.814320        0.001988   \n",
              "7             0.959599      0.008422        0.847838        0.004256   \n",
              "8             0.920518      0.018159        0.816626        0.028026   \n",
              "9             0.921310      0.007513        0.759934        0.028393   \n",
              "10            0.946132      0.006334        0.788700        0.005766   \n",
              "11            0.942963      0.007302        1.036677        0.006913   \n",
              "\n",
              "    std_train_score  \n",
              "0          0.000308  \n",
              "1          0.000978  \n",
              "2          0.001741  \n",
              "3          0.001138  \n",
              "4          0.000377  \n",
              "5          0.001126  \n",
              "6          0.001441  \n",
              "7          0.005174  \n",
              "8          0.019915  \n",
              "9          0.018382  \n",
              "10         0.001248  \n",
              "11         0.002755  \n",
              "\n",
              "[12 rows x 23 columns]"
            ]
          },
          "metadata": {
            "tags": []
          },
          "execution_count": 54
        }
      ]
    },
    {
      "metadata": {
        "id": "HCpmBmn2n4Wo",
        "colab_type": "code",
        "colab": {}
      },
      "cell_type": "code",
      "source": [
        "#copy from TA discussion\n",
        "import pandas as pd\n",
        "import numpy as np\n",
        "\n",
        "from sklearn.model_selection import GridSearchCV\n",
        "\n",
        "class EstimatorSelectionHelper:\n",
        "\n",
        "    def __init__(self, models, params):\n",
        "        if not set(models.keys()).issubset(set(params.keys())):\n",
        "            missing_params = list(set(models.keys()) - set(params.keys()))\n",
        "            raise ValueError(\"Some estimators are missing parameters: %s\" % missing_params)\n",
        "        self.models = models\n",
        "        self.params = params\n",
        "        self.keys = models.keys()\n",
        "        self.grid_searches = {}\n",
        "\n",
        "    def fit(self, X, y, cv=5, n_jobs=5, verbose=1, scoring=None, refit=False):\n",
        "        for key in self.keys:\n",
        "            print(\"Running GridSearchCV for %s.\" % key)\n",
        "            model = self.models[key]\n",
        "            params = self.params[key]\n",
        "            gs = GridSearchCV(model, params, cv=cv, n_jobs=n_jobs,\n",
        "                              verbose=verbose, scoring=scoring, refit=refit,\n",
        "                              return_train_score=True)\n",
        "            gs.fit(X,y)\n",
        "            self.grid_searches[key] = gs    \n",
        "\n",
        "    def score_summary(self, sort_by='mean_score'):\n",
        "        def row(key, scores, params):\n",
        "            d = {\n",
        "                 'estimator': key,\n",
        "                 'min_score': min(scores),\n",
        "                 'max_score': max(scores),\n",
        "                 'mean_score': np.mean(scores),\n",
        "                 'std_score': np.std(scores),\n",
        "            }\n",
        "            return pd.Series({**params,**d})\n",
        "\n",
        "        rows = []\n",
        "        for k in self.grid_searches:\n",
        "            print(k)\n",
        "            params = self.grid_searches[k].cv_results_['params']\n",
        "            scores = []\n",
        "            for i in range(self.grid_searches[k].cv):\n",
        "                key = \"split{}_test_score\".format(i)\n",
        "                r = self.grid_searches[k].cv_results_[key]        \n",
        "                scores.append(r.reshape(len(params),1))\n",
        "\n",
        "            all_scores = np.hstack(scores)\n",
        "            for p, s in zip(params,all_scores):\n",
        "                rows.append((row(k, s, p)))\n",
        "\n",
        "        df = pd.concat(rows, axis=1).T.sort_values([sort_by], ascending=False)\n",
        "\n",
        "        columns = ['estimator', 'min_score', 'mean_score', 'max_score', 'std_score']\n",
        "        columns = columns + [c for c in df.columns if c not in columns]\n",
        "\n",
        "        return df[columns]"
      ],
      "execution_count": 0,
      "outputs": []
    },
    {
      "metadata": {
        "id": "hlJejZ9F--J3",
        "colab_type": "text"
      },
      "cell_type": "markdown",
      "source": [
        "### Question 8: Multiclass Classification"
      ]
    },
    {
      "metadata": {
        "id": "KdoKw3kvPXfi",
        "colab_type": "text"
      },
      "cell_type": "markdown",
      "source": [
        "We performed Naïve Bayes classification and multiclass SVM classification on the documents belonging to the four classes: \n",
        "- `comp.sys.ibm.pc.hardware`\n",
        "- `comp.sys.mac.hardware`\n",
        "- `misc.forsale`\n",
        "- `soc.religion.christian`   \n",
        "\n",
        "For the multiclass SVM algorithm, we performed both one vs. one classification on all $\\binom{|C|}{2}$ pairs of classes, and one vs. the rest (where we fit one classifier per class, and for each classifier, the class is fitted against all the other classes). We reported the confusion matrix and calculated the accuracy, recall, precision, and F-1 score of our classifiers. "
      ]
    },
    {
      "metadata": {
        "id": "l5bxPXhW_A1H",
        "colab_type": "code",
        "colab": {}
      },
      "cell_type": "code",
      "source": [
        "category = ['comp.sys.ibm.pc.hardware', 'comp.sys.mac.hardware',\n",
        "            'misc.forsale', 'soc.religion.christian']\n",
        "\n",
        "train_data = fetch_20newsgroups(subset = 'train', categories = category, \n",
        "                                   shuffle = True, random_state = 42)\n",
        "test_data = fetch_20newsgroups(subset = 'test', categories = category, \n",
        "                                  shuffle = True, random_state = 42)\n"
      ],
      "execution_count": 0,
      "outputs": []
    },
    {
      "metadata": {
        "id": "Pe08wOmF_BFv",
        "colab_type": "code",
        "colab": {}
      },
      "cell_type": "code",
      "source": [
        "from sklearn.naive_bayes import MultinomialNB\n",
        "from sklearn.naive_bayes import GaussianNB\n",
        "from sklearn.pipeline import Pipeline\n",
        "from sklearn.svm import SVC\n",
        "\n",
        "\n",
        "def multiclass_classification(clf, rdim, train_data, train_label, test_data, test_label):\n",
        "  pipe = Pipeline([\n",
        "      ('vect', CountVectorizer(stop_words='english', min_df=3, analyzer=stem_rmv_punc)),\n",
        "      ('tfidf', TfidfTransformer()),\n",
        "      ('reduce_dim', rdim),\n",
        "      ('toarr', SparseToDenseArray()),\n",
        "      ('clf', clf),\n",
        "  ])\n",
        "  pipe.fit(train_data, train_label)\n",
        "  \n",
        "  test_pred = pipe.predict(test_data)\n",
        "  #get scores\n",
        "  accuracy = accuracy_score(test_label, test_pred)\n",
        "  recall = recall_score(test_label, test_pred, average='micro')\n",
        "  precision = precision_score(test_label, test_pred, average='micro')\n",
        "  f1 = f1_score(test_label, test_pred , average='micro')\n",
        "    \n",
        "  print('Accuracy = ', accuracy)\n",
        "  print('Recall = ', recall)\n",
        "  print('Precision = ', precision)\n",
        "  print('F-1 Score = ', f1)\n",
        "    \n",
        "  #report the confusion matrix\n",
        "  class_names = ['comp.sys.ibm.pc.hardware', 'comp.sys.mac.hardware',\n",
        "                 'misc.forsale', 'soc.religion.christian']\n",
        "  cnf_matrix = confusion_matrix(test_label, test_pred)\n",
        "  np.set_printoptions(precision=2)\n",
        "    \n",
        "  #plot non-normalized confusion matrix\n",
        "  plt.figure()\n",
        "  plot_confusion_matrix(cnf_matrix, classes=class_names,\n",
        "                        title = 'Confusion Matrix (without normalization)')\n",
        "  plt.figure()\n",
        "  plot_confusion_matrix(cnf_matrix, classes=class_names, normalize = True,\n",
        "                        title = 'Confusion Matrix (normalization)')\n",
        "    \n",
        "  plt.show()\n",
        "  #return pipe\n",
        "    \n",
        "\n"
      ],
      "execution_count": 0,
      "outputs": []
    },
    {
      "metadata": {
        "id": "KpUQoQH_inZm",
        "colab_type": "code",
        "colab": {
          "base_uri": "https://localhost:8080/",
          "height": 815
        },
        "outputId": "bce2c855-d93c-4a56-db67-84f983d8ef29"
      },
      "cell_type": "code",
      "source": [
        "#Naïve Bayes classification\n",
        "#Use NMF bc Naives Bayes requires positive X\n",
        "multiclass_classification(MultinomialNB(), NMF(n_components=50), train_data.data, \n",
        "                          train_data.target, test_data.data, test_data.target)"
      ],
      "execution_count": 58,
      "outputs": [
        {
          "output_type": "stream",
          "text": [
            "Accuracy =  0.7789137380191693\n",
            "Recall =  0.7789137380191693\n",
            "Precision =  0.7789137380191693\n",
            "F-1 Score =  0.7789137380191693\n",
            "Confusion matrix, without normalization\n",
            "[[303  32  53   4]\n",
            " [ 93 212  66  14]\n",
            " [ 58   7 314  11]\n",
            " [  0   0   8 390]]\n",
            "Normalized confusion matrix\n",
            "[[0.77 0.08 0.14 0.01]\n",
            " [0.24 0.55 0.17 0.04]\n",
            " [0.15 0.02 0.81 0.03]\n",
            " [0.   0.   0.02 0.98]]\n"
          ],
          "name": "stdout"
        },
        {
          "output_type": "display_data",
          "data": {
            "image/png": "[encoded data removed]",
            "text/plain": [
              "<Figure size 432x288 with 2 Axes>"
            ]
          },
          "metadata": {
            "tags": []
          }
        },
        {
          "output_type": "display_data",
          "data": {
            "image/png": "[encoded data removed]",
            "text/plain": [
              "<Figure size 432x288 with 2 Axes>"
            ]
          },
          "metadata": {
            "tags": []
          }
        }
      ]
    },
    {
      "metadata": {
        "id": "Z2QMZfxtmr2O",
        "colab_type": "code",
        "colab": {
          "base_uri": "https://localhost:8080/",
          "height": 815
        },
        "outputId": "e5b59148-386e-4473-dced-f3013b8b8338"
      },
      "cell_type": "code",
      "source": [
        "#oneVSone svm\n",
        "\n",
        "from sklearn.multiclass import OneVsOneClassifier\n",
        "\n",
        "multiclass_classification(OneVsOneClassifier(LinearSVC(C=opt_gamma, random_state=42)), \n",
        "                          TruncatedSVD(n_components=50, random_state=42), \n",
        "                          train_data.data, train_data.target, test_data.data, test_data.target)"
      ],
      "execution_count": 59,
      "outputs": [
        {
          "output_type": "stream",
          "text": [
            "Accuracy =  0.8798722044728434\n",
            "Recall =  0.8798722044728434\n",
            "Precision =  0.8798722044728434\n",
            "F-1 Score =  0.8798722044728435\n",
            "Confusion matrix, without normalization\n",
            "[[320  44  27   1]\n",
            " [ 36 326  23   0]\n",
            " [ 28  19 340   3]\n",
            " [  4   1   2 391]]\n",
            "Normalized confusion matrix\n",
            "[[0.82 0.11 0.07 0.  ]\n",
            " [0.09 0.85 0.06 0.  ]\n",
            " [0.07 0.05 0.87 0.01]\n",
            " [0.01 0.   0.01 0.98]]\n"
          ],
          "name": "stdout"
        },
        {
          "output_type": "display_data",
          "data": {
            "image/png": "[encoded data removed]",
            "text/plain": [
              "<Figure size 432x288 with 2 Axes>"
            ]
          },
          "metadata": {
            "tags": []
          }
        },
        {
          "output_type": "display_data",
          "data": {
            "image/png": "[encoded data removed]",
            "text/plain": [
              "<Figure size 432x288 with 2 Axes>"
            ]
          },
          "metadata": {
            "tags": []
          }
        }
      ]
    },
    {
      "metadata": {
        "id": "YYwjGXjmpD_6",
        "colab_type": "code",
        "colab": {
          "base_uri": "https://localhost:8080/",
          "height": 815
        },
        "outputId": "491c375f-6986-4933-950e-374147ba4b65"
      },
      "cell_type": "code",
      "source": [
        "#OneVsRest svm\n",
        "from sklearn.multiclass import OneVsRestClassifier\n",
        "multiclass_classification(OneVsRestClassifier(LinearSVC(C=opt_gamma, random_state=42)), \n",
        "                          TruncatedSVD(n_components=50, random_state=42), \n",
        "                          train_data.data, train_data.target, test_data.data, test_data.target)"
      ],
      "execution_count": 60,
      "outputs": [
        {
          "output_type": "stream",
          "text": [
            "Accuracy =  0.8849840255591054\n",
            "Recall =  0.8849840255591054\n",
            "Precision =  0.8849840255591054\n",
            "F-1 Score =  0.8849840255591054\n",
            "Confusion matrix, without normalization\n",
            "[[316  53  22   1]\n",
            " [ 35 328  22   0]\n",
            " [ 23  17 347   3]\n",
            " [  3   0   1 394]]\n",
            "Normalized confusion matrix\n",
            "[[0.81 0.14 0.06 0.  ]\n",
            " [0.09 0.85 0.06 0.  ]\n",
            " [0.06 0.04 0.89 0.01]\n",
            " [0.01 0.   0.   0.99]]\n"
          ],
          "name": "stdout"
        },
        {
          "output_type": "display_data",
          "data": {
            "image/png": "[encoded data removed]",
            "text/plain": [
              "<Figure size 432x288 with 2 Axes>"
            ]
          },
          "metadata": {
            "tags": []
          }
        },
        {
          "output_type": "display_data",
          "data": {
            "image/png": "[encoded data removed]",
            "text/plain": [
              "<Figure size 432x288 with 2 Axes>"
            ]
          },
          "metadata": {
            "tags": []
          }
        }
      ]
    }
  ]
}